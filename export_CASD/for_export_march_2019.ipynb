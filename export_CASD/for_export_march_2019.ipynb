{
 "cells": [
  {
   "cell_type": "code",
   "execution_count": 1,
   "metadata": {},
   "outputs": [
    {
     "name": "stdout",
     "output_type": "stream",
     "text": [
      "2019-03-10 11:39:57.998000\n"
     ]
    }
   ],
   "source": [
    "import datetime\n",
    "print datetime.datetime.now()"
   ]
  },
  {
   "cell_type": "code",
   "execution_count": 1,
   "metadata": {},
   "outputs": [
    {
     "data": {
      "text/html": [
       "<style>.container { width:100% !important; }<\\style>"
      ],
      "text/plain": [
       "<IPython.core.display.HTML object>"
      ]
     },
     "metadata": {},
     "output_type": "display_data"
    }
   ],
   "source": [
    "from IPython.core.display import display, HTML\n",
    "display(HTML(\"<style>.container { width:100% !important; }<\\style>\"))"
   ]
  },
  {
   "cell_type": "code",
   "execution_count": 3,
   "metadata": {
    "collapsed": true
   },
   "outputs": [],
   "source": [
    "%matplotlib inline"
   ]
  },
  {
   "cell_type": "code",
   "execution_count": 4,
   "metadata": {
    "collapsed": true
   },
   "outputs": [],
   "source": [
    "import matplotlib.pyplot as plt"
   ]
  },
  {
   "cell_type": "code",
   "execution_count": 5,
   "metadata": {
    "collapsed": true
   },
   "outputs": [],
   "source": [
    "from __future__ import division\n",
    "import importlib \n",
    "\n",
    "import statsmodels.api as sm; from statsmodels.iolib.summary2 import summary_col\n",
    "import pandas as pd ; pd.set_option(\"display.max_columns\",200);  pd.set_option(\"display.max_rows\",200); \n",
    "import numpy as np"
   ]
  },
  {
   "cell_type": "code",
   "execution_count": 6,
   "metadata": {
    "collapsed": true
   },
   "outputs": [],
   "source": [
    "store_path = 'C:/Users/IMPTEMP_A_PACIFIC/Desktop/EDP_2015/Data/hdf/edp_2015_final.h5'\n",
    "reaction_store_path = 'C:/Users/IMPTEMP_A_PACIFIC/Desktop/EDP_2015/Data/hdf/reaction.h5'\n",
    "Store = pd.HDFStore(store_path)"
   ]
  },
  {
   "cell_type": "code",
   "execution_count": 7,
   "metadata": {
    "collapsed": true
   },
   "outputs": [],
   "source": [
    "def load_fisc_i_by_year(year = 2014):\n",
    "    df_fisci = pd.read_hdf(store_path, 'FISC_INDIVIDU_{}'.format(year))\n",
    "    return df_fisci\n",
    "def load_fisc_r_by_year(year = 2014):\n",
    "    df_fiscr = pd.read_hdf(store_path, 'FISC_REVENU_{}'.format(year))\n",
    "    return df_fiscr\n",
    "def load_fisc_l_by_year(year = 2014):\n",
    "    df_fiscr = pd.read_hdf(store_path, 'FISC_LOGEMENT_{}'.format(year))\n",
    "    return df_fiscr\n",
    "\n",
    "def load_df_fiscrevdet_by_year(year = 2015):\n",
    "    df_fiscrevdet = pd.read_hdf(store_path, 'FISC_REVDET_{}'.format(year))\n",
    "    return df_fiscrevdet\n",
    "\n",
    "ir_2014 = importlib.import_module(\"IRPP_from_scratch_civil_union\")\n",
    "ir_2011 = importlib.import_module(\"IRPP_from_scratch_civil_union_{}\".format(2011))"
   ]
  },
  {
   "cell_type": "code",
   "execution_count": 8,
   "metadata": {
    "collapsed": true
   },
   "outputs": [],
   "source": [
    "info_dict = {'adjusted-R2':lambda x:\"{:4.2f}%\".format(x.rsquared_adj*100), \"N\":lambda x:\"{:d}\".format(int(x.nobs))}"
   ]
  },
  {
   "cell_type": "markdown",
   "metadata": {},
   "source": [
    "## Needed variables"
   ]
  },
  {
   "cell_type": "code",
   "execution_count": 9,
   "metadata": {
    "collapsed": true
   },
   "outputs": [],
   "source": [
    "nb_enf_max_for_annalysis = 6"
   ]
  },
  {
   "cell_type": "code",
   "execution_count": 10,
   "metadata": {
    "collapsed": true
   },
   "outputs": [],
   "source": [
    "threshold_byr_rbg = pd.DataFrame()\n",
    "threshold_byr_rbg[\"2011\"] = pd.Series([63233,73516,94451,115185,135941,150684])\n",
    "threshold_byr_rbg[\"2014\"] = pd.Series([58291,63530,73806,84103,94368,104633])"
   ]
  },
  {
   "cell_type": "code",
   "execution_count": 11,
   "metadata": {
    "collapsed": true
   },
   "outputs": [],
   "source": [
    "child_bool_list = [\"child_{}\".format(child) for child in  np.arange(1,nb_enf_max_for_annalysis+1)]\n",
    "cumulative_child_bool_list = [\"cumulative_child_{}\".format(child) for child in  np.arange(1,nb_enf_max_for_annalysis+1)] "
   ]
  },
  {
   "cell_type": "code",
   "execution_count": 12,
   "metadata": {
    "collapsed": true
   },
   "outputs": [],
   "source": [
    "thrsh_bool_list = [\"Threshold_{}\".format(thrsh) for thrsh in  threshold_byr_rbg[\"2011\"]]"
   ]
  },
  {
   "cell_type": "code",
   "execution_count": 13,
   "metadata": {
    "collapsed": true
   },
   "outputs": [],
   "source": [
    "between_threshold_for_child_rank = [\"Between_threshold_{}_child\".format(nb_child) for nb_child in range(1,nb_enf_max_for_annalysis+1)]\n",
    "over_threshold_for_child_rank = [\"Over_threshold_{}_child\".format(nb_child) for nb_child in range(1,nb_enf_max_for_annalysis+1)]\n",
    "children_number =  [\"child_{}\".format(nb_child) for nb_child in range(1,nb_enf_max_for_annalysis+1)]"
   ]
  },
  {
   "cell_type": "code",
   "execution_count": 14,
   "metadata": {
    "collapsed": true
   },
   "outputs": [],
   "source": [
    "interaction_child_between_threshold  = [\"{}:{}\".format(child,interaction) for child, interaction in zip(children_number, between_threshold_for_child_rank)]\n",
    "interaction_child_over_threshold  = [\"{}:{}\".format(child,interaction) for child, interaction in zip(children_number, over_threshold_for_child_rank)]"
   ]
  },
  {
   "cell_type": "code",
   "execution_count": 15,
   "metadata": {},
   "outputs": [
    {
     "data": {
      "text/html": [
       "<div>\n",
       "<table border=\"1\" class=\"dataframe\">\n",
       "  <thead>\n",
       "    <tr style=\"text-align: right;\">\n",
       "      <th></th>\n",
       "      <th>2011</th>\n",
       "      <th>2014</th>\n",
       "    </tr>\n",
       "  </thead>\n",
       "  <tbody>\n",
       "    <tr>\n",
       "      <th>0</th>\n",
       "      <td>63233</td>\n",
       "      <td>58291</td>\n",
       "    </tr>\n",
       "    <tr>\n",
       "      <th>1</th>\n",
       "      <td>73516</td>\n",
       "      <td>63530</td>\n",
       "    </tr>\n",
       "    <tr>\n",
       "      <th>2</th>\n",
       "      <td>94451</td>\n",
       "      <td>73806</td>\n",
       "    </tr>\n",
       "    <tr>\n",
       "      <th>3</th>\n",
       "      <td>115185</td>\n",
       "      <td>84103</td>\n",
       "    </tr>\n",
       "    <tr>\n",
       "      <th>4</th>\n",
       "      <td>135941</td>\n",
       "      <td>94368</td>\n",
       "    </tr>\n",
       "    <tr>\n",
       "      <th>5</th>\n",
       "      <td>150684</td>\n",
       "      <td>104633</td>\n",
       "    </tr>\n",
       "  </tbody>\n",
       "</table>\n",
       "</div>"
      ],
      "text/plain": [
       "     2011    2014\n",
       "0   63233   58291\n",
       "1   73516   63530\n",
       "2   94451   73806\n",
       "3  115185   84103\n",
       "4  135941   94368\n",
       "5  150684  104633"
      ]
     },
     "execution_count": 15,
     "metadata": {},
     "output_type": "execute_result"
    }
   ],
   "source": [
    "threshold_byr_rbg"
   ]
  },
  {
   "cell_type": "code",
   "execution_count": null,
   "metadata": {
    "collapsed": true
   },
   "outputs": [],
   "source": []
  },
  {
   "cell_type": "code",
   "execution_count": null,
   "metadata": {
    "collapsed": true
   },
   "outputs": [],
   "source": []
  },
  {
   "cell_type": "code",
   "execution_count": 16,
   "metadata": {},
   "outputs": [
    {
     "name": "stdout",
     "output_type": "stream",
     "text": [
      "(1522346, 362)\n"
     ]
    }
   ],
   "source": [
    "df_start = pd.read_hdf(u\"C:/Users/IMPTEMP_A_PACIFIC/Desktop/EDP_2015/Programme/Réaction offre de travail/hdf/data_step_1_reaction_offre_travail.h5\",\"fisci_fiscr_fiscrevdet\")\n",
    "print(df_start.shape)"
   ]
  },
  {
   "cell_type": "code",
   "execution_count": null,
   "metadata": {
    "collapsed": true
   },
   "outputs": [],
   "source": []
  },
  {
   "cell_type": "code",
   "execution_count": 17,
   "metadata": {},
   "outputs": [],
   "source": [
    "df_start[\"Delta_Rbg\"] = df_start.Rbg_2014 - df_start.Rbg_2011\n",
    "df_start[\"Delta_rbg_positif\"] = (df_start.Delta_Rbg>0).astype(\"int\")\n",
    "df_start[\"Delta_rbg_negatif\"] = (df_start.Delta_Rbg<0).astype(\"int\")\n",
    "\n",
    "df_start[\"Delta_NBPAC\"] = df_start.NBPAC_2014 - df_start.NBPAC_2011\n",
    "df_start[\"Delta_ZIMPOM\"] = df_start.ZIMPOM14_2014 - df_start.ZIMPOM_2011\n",
    "\n",
    "\n",
    "df_start[\"Age_wo_squared\"] = df_start.Age_wo **2\n",
    "df_start[\"Age_me_squared\"] = df_start.Age_me ** 2 \n",
    "\n",
    "df_start[\"Age_oldest_parent\"] = df_start[[\"Age_me\", \"Age_wo\"]].max(axis = 1)\n",
    "df_start[\"Age_oldest_parent_squared\"] = df_start.Age_oldest_parent**2\n",
    "\n",
    "df_start[\"Parts_fiscales_enfants\"] = ir_2011.parts_fiscales_enfants(df_start.NBPAC_2011)\n",
    "df_start[\"ZTSAM_10_percent_2014\"] =  df_start[\"ZTSAM_2014\"]*0.9\n",
    "df_start[\"ZTSAM_10_percent_2014\"] =  df_start[\"ZTSAM_2014\"]*0.9\n",
    "df_start[\"Irpp_2014\"] = np.maximum(0, ir_2014.ir_avec_plafond_qf_enfant(df_start.Rbg_2014, df_start.Parts_fiscales_enfants) - ir_2014.decote_ir(df_start.Rbg_2014, df_start.Parts_fiscales_enfants))\n",
    "df_start[\"Irpp_2014_plus_10_euros\"] = np.maximum(0, ir_2014.ir_avec_plafond_qf_enfant(df_start.Rbg_2014+10, df_start.Parts_fiscales_enfants) - ir_2014.decote_ir(df_start.Rbg_2014+10, df_start.Parts_fiscales_enfants))\n",
    "\n",
    "df_start[\"Counterfactual_Irpp_2014\"] = np.maximum(0, ir_2011.ir_avec_plafond_qf_enfant(df_start.Rbg_2014, df_start.Parts_fiscales_enfants) - ir_2011.decote_ir(df_start.Rbg_2014, df_start.Parts_fiscales_enfants))\n",
    "df_start[\"Counterfactual_Irpp_2014_plus_10_euros\"] =  np.maximum(0, ir_2011.ir_avec_plafond_qf_enfant(df_start.Rbg_2014+10, df_start.Parts_fiscales_enfants) - ir_2011.decote_ir(df_start.Rbg_2014+10, df_start.Parts_fiscales_enfants))\n",
    "df_start[\"Irpp_2011\"] = np.maximum(0, ir_2011.ir_avec_plafond_qf_enfant(df_start.Rbg_2011, df_start.Parts_fiscales_enfants) - ir_2011.decote_ir(df_start.Rbg_2011, df_start.Parts_fiscales_enfants))\n",
    "df_start[\"Irpp_2011_plus_10_euros\"] = np.maximum(0, ir_2011.ir_avec_plafond_qf_enfant(df_start.Rbg_2011+10, df_start.Parts_fiscales_enfants) - ir_2011.decote_ir(df_start.Rbg_2011+10, df_start.Parts_fiscales_enfants))\n",
    "df_start[\"Counterfactual_Irpp_2011\"] = np.maximum(0, ir_2014.ir_avec_plafond_qf_enfant(df_start.Rbg_2011, df_start.Parts_fiscales_enfants) - ir_2014.decote_ir(df_start.Rbg_2011, df_start.Parts_fiscales_enfants))\n",
    "df_start[\"Counterfactual_Irpp_2011_plus_10_euros\"] =  np.maximum(0, ir_2014.ir_avec_plafond_qf_enfant(df_start.Rbg_2011+10, df_start.Parts_fiscales_enfants) - ir_2014.decote_ir(df_start.Rbg_2011+10, df_start.Parts_fiscales_enfants))\n",
    "df_start[\"MTR_2014\"] = np.round((df_start.Irpp_2014_plus_10_euros - df_start.Irpp_2014)/10,3)\n",
    "df_start[\"MTR_2011\"] = np.round((df_start.Irpp_2011_plus_10_euros - df_start.Irpp_2011)/10,3)\n",
    "df_start[\"Counterfactual_MTR_2014\"\n",
    "                     ] =  np.round((df_start.Counterfactual_Irpp_2014_plus_10_euros - df_start.Counterfactual_Irpp_2014)/10,2)\n",
    "df_start[\"Counterfactual_MTR_2011\"\n",
    "                     ] = np.round((df_start.Counterfactual_Irpp_2011_plus_10_euros - df_start.Counterfactual_Irpp_2011)/10,2)\n"
   ]
  },
  {
   "cell_type": "code",
   "execution_count": null,
   "metadata": {
    "collapsed": true
   },
   "outputs": [],
   "source": []
  },
  {
   "cell_type": "code",
   "execution_count": 18,
   "metadata": {},
   "outputs": [
    {
     "name": "stdout",
     "output_type": "stream",
     "text": [
      "(58291, 63233)\n",
      "(63233, 63530)\n",
      "(63530, 73516)\n",
      "(73516, 73806)\n",
      "(73806, 84103)\n",
      "(84103, 94368)\n",
      "(94368, 94451)\n",
      "(94451, 104633)\n",
      "(104633, 115185)\n",
      "(115185, 135941)\n",
      "(135941, 150684)\n"
     ]
    }
   ],
   "source": [
    "#Flatten thresholds\n",
    "threshold_byr_rbg.iloc[0:nb_enf_max_for_annalysis]\n",
    "flatten_thresholds = np.sort(threshold_byr_rbg.iloc[0:nb_enf_max_for_annalysis].values.flatten())\n",
    "flatten_thresholds_list = list()\n",
    "for counter in range(len(flatten_thresholds)-1):\n",
    "    print(flatten_thresholds[counter], flatten_thresholds[counter+1])\n",
    "    \n",
    "    thrsh1, thrsh2 = flatten_thresholds[counter], flatten_thresholds[counter+1]\n",
    "    flatten_thresholds_list.append(\"Flatten_thresholds_{}_{}\".format(thrsh1, thrsh2))\n",
    "    df_start[\"Flatten_thresholds_{}_{}\".format(thrsh1, thrsh2)] = ((df_start.Rbg_2011>  thrsh1)& (df_start.Rbg_2011< thrsh2))\n",
    "df_start[\"Flatten_thresholds_more_then_{}\".format( thrsh2)] = (df_start.Rbg_2011> thrsh2).astype(\"int\")\n",
    "flatten_thresholds_list.append(\"Flatten_thresholds_more_then_{}\".format(thrsh2))"
   ]
  },
  {
   "cell_type": "code",
   "execution_count": 19,
   "metadata": {
    "scrolled": true
   },
   "outputs": [
    {
     "name": "stderr",
     "output_type": "stream",
     "text": [
      "C:\\Users\\IMPTEMP_A_PACIFIC\\Desktop\\WinPython-64bit-2.7.10.2\\WinPython-64bit-2.7.10.2\\python-2.7.10.amd64\\lib\\site-packages\\IPython\\kernel\\__main__.py:6: SettingWithCopyWarning: \n",
      "A value is trying to be set on a copy of a slice from a DataFrame.\n",
      "Try using .loc[row_indexer,col_indexer] = value instead\n",
      "\n",
      "See the the caveats in the documentation: http://pandas.pydata.org/pandas-docs/stable/indexing.html#indexing-view-versus-copy\n"
     ]
    }
   ],
   "source": [
    "\n",
    "\n",
    "\n",
    "fisici = load_fisc_i_by_year(2014)\n",
    "df_fisci_child = fisici[fisici.TYPE_FISC.isin([\"A\", \"B\", \"C\", \"D\", \"E\", \"F\", \"G\", \"H\"])]\n",
    "df_fisci_child[\"Age\"] = 2014 - df_fisci_child.ANAIS \n",
    "df_fisci_child = df_fisci_child.sort(['ID_FISC_FOY_DIFF', \"Age\"])\n",
    "\n",
    "\n",
    "df_fisci_Elder = df_fisci_child.groupby(\"ID_FISC_FOY_DIFF\").last()\n",
    "df_fisci_Elder[\"Age_Elder_child\"] = df_fisci_Elder.Age\n",
    "df_fisci_Elder = df_fisci_Elder.reset_index()[[\"ID_FISC_FOY_DIFF\",\"Age_Elder_child\" ]]\n",
    "\n",
    "df_fisci_Youngest = df_fisci_child.groupby(\"ID_FISC_FOY_DIFF\").first()\n",
    "df_fisci_Youngest[\"Age_Youngest_child\"] = df_fisci_Youngest.Age\n",
    "df_fisci_Youngest = df_fisci_Youngest.reset_index()[[\"ID_FISC_FOY_DIFF\",\"Age_Youngest_child\" ]]"
   ]
  },
  {
   "cell_type": "code",
   "execution_count": 20,
   "metadata": {},
   "outputs": [
    {
     "name": "stderr",
     "output_type": "stream",
     "text": [
      "C:\\Users\\IMPTEMP_A_PACIFIC\\Desktop\\WinPython-64bit-2.7.10.2\\WinPython-64bit-2.7.10.2\\python-2.7.10.amd64\\lib\\site-packages\\pandas\\computation\\expressions.py:190: UserWarning: evaluating in Python space because the '*' operator is not supported by numexpr for the bool dtype, use '&' instead\n",
      "  unsupported[op_str]))\n"
     ]
    },
    {
     "data": {
      "text/plain": [
       "(1522346, 399)"
      ]
     },
     "execution_count": 20,
     "metadata": {},
     "output_type": "execute_result"
    }
   ],
   "source": [
    "\n",
    "\n",
    "df_start[\"Not_touched_by_reform\"] = (df_start.NBPAC_2011 == 0).astype(\"int\")\n",
    "for nb_enf in range(1,7): ### in modification\n",
    "    df_start[\"Not_touched_by_reform\".format(nb_enf)\n",
    "          ] +=((df_start.Rbg_2011<  threshold_byr_rbg[\"2014\"].iloc[nb_enf-1])\n",
    "                *( df_start.NBPAC_2011 == nb_enf)).astype(\"float\")\n",
    "    \n",
    "df_start[\"Delta_Rbg_times_not_touched_reform\"] = df_start.Not_touched_by_reform * df_start.Delta_Rbg; df_start.shape"
   ]
  },
  {
   "cell_type": "code",
   "execution_count": 21,
   "metadata": {},
   "outputs": [],
   "source": [
    "fisc_logement = load_fisc_l_by_year(2014)\n",
    "fisc_logement.OCC.value_counts(dropna=False)\n",
    "fisc_logement[\"Proprietaire\"] = fisc_logement.OCC == \"P\"\n",
    "#fisc_logement[\"CSDEP\"] = fisc_logement.CSDEP.replace({\"2A\": \"40\", \"2B\":\"40\"}).astype(\"int\")\n",
    "\n",
    "df_start[\"ID_FISC_LOG_DIFF\"] = df_start.ID_FISC_LOG_DIFF_2014\n",
    "df_start = pd.merge(df_start, fisc_logement, on = \"ID_FISC_LOG_DIFF\")\n",
    "df_start.DEP = df_start.DEP.replace({\"2A\": \"96\", \"2B\":\"96\"}).astype(\"int\")"
   ]
  },
  {
   "cell_type": "code",
   "execution_count": 22,
   "metadata": {},
   "outputs": [
    {
     "data": {
      "text/plain": [
       "(1521762, 436)"
      ]
     },
     "execution_count": 22,
     "metadata": {},
     "output_type": "execute_result"
    }
   ],
   "source": [
    "df_start.shape"
   ]
  },
  {
   "cell_type": "markdown",
   "metadata": {},
   "source": [
    "###  Income sample selection"
   ]
  },
  {
   "cell_type": "code",
   "execution_count": 23,
   "metadata": {},
   "outputs": [
    {
     "data": {
      "text/plain": [
       "(1521762, 436)"
      ]
     },
     "execution_count": 23,
     "metadata": {},
     "output_type": "execute_result"
    }
   ],
   "source": [
    "df_start.shape"
   ]
  },
  {
   "cell_type": "code",
   "execution_count": 24,
   "metadata": {},
   "outputs": [
    {
     "name": "stdout",
     "output_type": "stream",
     "text": [
      "(451572, 436)\n"
     ]
    }
   ],
   "source": [
    "#Nouvelle version ou il faut appartenir à l'intervalle de revenu que sur un seule des deux années\n",
    "df_start = df_start[((\n",
    "            (df_start.Rbg_2011>50000)\n",
    "            &(df_start.Rbg_2011<200000)\n",
    "        )|(\n",
    "            (df_start.Rbg_2014>50000)\n",
    "            & (df_start.Rbg_2014<200000)))];print(df_start.shape)"
   ]
  },
  {
   "cell_type": "code",
   "execution_count": 25,
   "metadata": {},
   "outputs": [
    {
     "name": "stdout",
     "output_type": "stream",
     "text": [
      "0.02   -49793.098\n",
      "0.98    67614.864\n",
      "dtype: float64\n",
      "(433508, 436)\n",
      "(429622, 436)\n"
     ]
    }
   ],
   "source": [
    "low = 0.02\n",
    "high = 0.98\n",
    "quant_df_start = df_start.Delta_Rbg.quantile([low,high])\n",
    "print(quant_df_start)\n",
    "df_start = df_start[df_start.Delta_Rbg>quant_df_start.loc[low]]\n",
    "df_start = df_start[df_start.Delta_Rbg<quant_df_start.loc[high]]\n",
    "print(df_start.shape)\n",
    "\n",
    "df_start = df_start[df_start.Rbg_2011>7000]\n",
    "df_start = df_start[df_start.Rbg_2014>7000]\n",
    "print(df_start.shape)"
   ]
  },
  {
   "cell_type": "code",
   "execution_count": null,
   "metadata": {
    "collapsed": true
   },
   "outputs": [],
   "source": []
  },
  {
   "cell_type": "code",
   "execution_count": null,
   "metadata": {
    "collapsed": true
   },
   "outputs": [],
   "source": []
  },
  {
   "cell_type": "code",
   "execution_count": 26,
   "metadata": {},
   "outputs": [
    {
     "data": {
      "text/plain": [
       "(414172, 436)"
      ]
     },
     "execution_count": 26,
     "metadata": {},
     "output_type": "execute_result"
    }
   ],
   "source": [
    "df_start = df_start[~(df_start.NBPERSM_2011 == 1 )] #Vire une seule personne dans le ménage\n",
    "df_start = df_start[~(df_start.NBPERSM_2011 - df_start.NBPAC_2011  == 1 )]  # Vire les parents célibataires\n",
    "df_start.shape"
   ]
  },
  {
   "cell_type": "code",
   "execution_count": 27,
   "metadata": {},
   "outputs": [],
   "source": [
    "reg_df = df_start[(df_start.Age_wo<65)&(df_start.Age_me<65)] # Vire les papi mamies"
   ]
  },
  {
   "cell_type": "code",
   "execution_count": 28,
   "metadata": {},
   "outputs": [
    {
     "data": {
      "text/plain": [
       "(267913, 436)"
      ]
     },
     "execution_count": 28,
     "metadata": {},
     "output_type": "execute_result"
    }
   ],
   "source": [
    "reg_df.shape"
   ]
  },
  {
   "cell_type": "code",
   "execution_count": 29,
   "metadata": {},
   "outputs": [
    {
     "data": {
      "text/plain": [
       "(267806, 436)"
      ]
     },
     "execution_count": 29,
     "metadata": {},
     "output_type": "execute_result"
    }
   ],
   "source": [
    "reg_df = reg_df[reg_df.NBPAC_2011.isin(range(nb_enf_max_for_annalysis+1))] #Drop families with more than 6 children\n",
    "reg_df.shape"
   ]
  },
  {
   "cell_type": "code",
   "execution_count": 30,
   "metadata": {
    "scrolled": true
   },
   "outputs": [
    {
     "name": "stdout",
     "output_type": "stream",
     "text": [
      "M    432365\n",
      "A    384859\n",
      "O     36374\n",
      "C     24599\n",
      "D      8693\n",
      "V      1052\n",
      "dtype: int64\n"
     ]
    },
    {
     "data": {
      "text/plain": [
       "(267806, 436)"
      ]
     },
     "execution_count": 30,
     "metadata": {},
     "output_type": "execute_result"
    }
   ],
   "source": [
    "# Drop non maried families\n",
    "fisici = load_fisc_i_by_year(2014)\n",
    "id_foy_diff = reg_df.ID_FISC_FOY_DIFF\n",
    "fisci_2 = fisici[fisici.ID_FISC_FOY_DIFF.isin(id_foy_diff)]\n",
    "print(fisci_2.CIDECI.value_counts())\n",
    "to_drop = fisci_2.CIDECI.isin([ 'C','D', 'V', 'O'])\n",
    "reg_df = reg_df[~reg_df.ID_FISC_FOY_DIFF.isin(to_drop)]\n",
    "reg_df.shape"
   ]
  },
  {
   "cell_type": "code",
   "execution_count": 31,
   "metadata": {},
   "outputs": [
    {
     "data": {
      "text/plain": [
       "(193555, 436)"
      ]
     },
     "execution_count": 31,
     "metadata": {},
     "output_type": "execute_result"
    }
   ],
   "source": [
    "reg_df_same_NBPAC = reg_df[(reg_df.NBPAC_2011 == reg_df.NBPAC_2014)]\n",
    "reg_df_same_NBPAC.shape"
   ]
  },
  {
   "cell_type": "code",
   "execution_count": 32,
   "metadata": {},
   "outputs": [
    {
     "data": {
      "text/plain": [
       "(193555, 438)"
      ]
     },
     "execution_count": 32,
     "metadata": {},
     "output_type": "execute_result"
    }
   ],
   "source": [
    "### Add children age\n",
    "reg_df_same_NBPAC = reg_df_same_NBPAC.merge(df_fisci_Youngest, on = \"ID_FISC_FOY_DIFF\", how = \"left\")\n",
    "reg_df_same_NBPAC = reg_df_same_NBPAC.merge(df_fisci_Elder, on = \"ID_FISC_FOY_DIFF\",  how = \"left\")\n",
    "reg_df_same_NBPAC.Age_Elder_child.fillna(0, inplace = True)\n",
    "reg_df_same_NBPAC.Age_Youngest_child.fillna(0, inplace = True)\n",
    "reg_df_same_NBPAC.shape"
   ]
  },
  {
   "cell_type": "code",
   "execution_count": 33,
   "metadata": {},
   "outputs": [
    {
     "data": {
      "text/plain": [
       "<matplotlib.axes._subplots.AxesSubplot at 0x77139278>"
      ]
     },
     "execution_count": 33,
     "metadata": {},
     "output_type": "execute_result"
    },
    {
     "data": {
      "image/png": "[encoded data removed]",
      "text/plain": [
       "<matplotlib.figure.Figure at 0x1f424cc0>"
      ]
     },
     "metadata": {},
     "output_type": "display_data"
    }
   ],
   "source": [
    "import seaborn as sns\n",
    "sns.distplot(reg_df_same_NBPAC.Rbg_2014, color = \"r\")\n",
    "sns.distplot(reg_df_same_NBPAC.Rbg_2011)"
   ]
  },
  {
   "cell_type": "code",
   "execution_count": 34,
   "metadata": {
    "collapsed": true
   },
   "outputs": [],
   "source": [
    "df = reg_df_same_NBPAC"
   ]
  },
  {
   "cell_type": "markdown",
   "metadata": {},
   "source": [
    "### Triple diff"
   ]
  },
  {
   "cell_type": "code",
   "execution_count": 35,
   "metadata": {},
   "outputs": [
    {
     "data": {
      "text/plain": [
       "True     144841\n",
       "False     48714\n",
       "dtype: int64"
      ]
     },
     "execution_count": 35,
     "metadata": {},
     "output_type": "execute_result"
    }
   ],
   "source": [
    "(df.ZVALM_2011<50).value_counts()"
   ]
  },
  {
   "cell_type": "code",
   "execution_count": 36,
   "metadata": {},
   "outputs": [
    {
     "name": "stdout",
     "output_type": "stream",
     "text": [
      "                            OLS Regression Results                            \n",
      "==============================================================================\n",
      "Dep. Variable:              Delta_Rbg   R-squared:                       0.045\n",
      "Model:                            OLS   Adj. R-squared:                  0.045\n",
      "Method:                 Least Squares   F-statistic:                     312.2\n",
      "Date:                Sun, 10 Mar 2019   Prob (F-statistic):               0.00\n",
      "Time:                        11:42:50   Log-Likelihood:            -2.1330e+06\n",
      "No. Observations:              193555   AIC:                         4.266e+06\n",
      "Df Residuals:                  193524   BIC:                         4.266e+06\n",
      "Df Model:                          30                                         \n",
      "Covariance Type:                  HC1                                         \n",
      "=============================================================================================================\n",
      "                                                coef    std err          z      P>|z|      [95.0% Conf. Int.]\n",
      "-------------------------------------------------------------------------------------------------------------\n",
      "Intercept                                  6381.1242     83.264     76.638      0.000      6217.931  6544.318\n",
      "Between_threshold_1_child[T.True]         -5399.2165    105.275    -51.287      0.000     -5605.552 -5192.881\n",
      "Between_threshold_2_child[T.True]          -758.3224    399.412     -1.899      0.058     -1541.156    24.512\n",
      "Between_threshold_3_child[T.True]            53.8319    634.760      0.085      0.932     -1190.275  1297.938\n",
      "Between_threshold_4_child[T.True]          -481.7146    222.597     -2.164      0.030      -917.998   -45.432\n",
      "Between_threshold_5_child[T.True]          -160.5233   1869.468     -0.086      0.932     -3824.614  3503.567\n",
      "Between_threshold_6_child[T.True]          -234.2799    395.782     -0.592      0.554     -1009.999   541.439\n",
      "Over_threshold_1_child[T.True]            -5806.6139    382.533    -15.179      0.000     -6556.365 -5056.862\n",
      "Over_threshold_2_child[T.True]            -1930.2608    734.879     -2.627      0.009     -3370.597  -489.925\n",
      "Over_threshold_3_child[T.True]             1089.9027   1981.565      0.550      0.582     -2793.894  4973.699\n",
      "Over_threshold_4_child[T.True]             -424.8436    492.335     -0.863      0.388     -1389.803   540.116\n",
      "Over_threshold_5_child[T.True]              849.1592   1958.878      0.433      0.665     -2990.172  4688.490\n",
      "Over_threshold_6_child[T.True]            -2301.8741    780.854     -2.948      0.003     -3832.319  -771.429\n",
      "child_1                                    1829.0962    127.015     14.401      0.000      1580.152  2078.041\n",
      "child_1:Between_threshold_1_child[T.True]   621.8139    255.937      2.430      0.015       120.187  1123.441\n",
      "child_1:Over_threshold_1_child[T.True]     2292.8309    232.702      9.853      0.000      1836.744  2748.917\n",
      "child_2                                    2662.7131     95.215     27.965      0.000      2476.096  2849.330\n",
      "child_2:Between_threshold_2_child[T.True]  2487.8310    197.850     12.574      0.000      2100.053  2875.609\n",
      "child_2:Over_threshold_2_child[T.True]     4314.5040    237.591     18.159      0.000      3848.834  4780.174\n",
      "child_3                                    4388.2793    114.557     38.306      0.000      4163.751  4612.807\n",
      "child_3:Between_threshold_3_child[T.True]  4234.2941    316.226     13.390      0.000      3614.503  4854.085\n",
      "child_3:Over_threshold_3_child[T.True]     3996.6200    399.749      9.998      0.000      3213.126  4780.114\n",
      "child_4                                    6234.5724    250.998     24.839      0.000      5742.626  6726.519\n",
      "child_4:Between_threshold_4_child[T.True]  2780.1388    754.958      3.683      0.000      1300.448  4259.830\n",
      "child_4:Over_threshold_4_child[T.True]     3120.0473   1054.453      2.959      0.003      1053.357  5186.738\n",
      "child_5                                    7406.4845    683.369     10.838      0.000      6067.105  8745.864\n",
      "child_5:Between_threshold_5_child[T.True] -4147.1200   2194.870     -1.889      0.059     -8448.987   154.747\n",
      "child_5:Over_threshold_5_child[T.True]     5174.4878   3955.088      1.308      0.191     -2577.341  1.29e+04\n",
      "child_6                                    8987.9400   1373.812      6.542      0.000      6295.317  1.17e+04\n",
      "child_6:Between_threshold_6_child[T.True] -9431.3208   4765.820     -1.979      0.048     -1.88e+04   -90.485\n",
      "child_6:Over_threshold_6_child[T.True]     -198.4937   1.38e+04     -0.014      0.989     -2.72e+04  2.68e+04\n",
      "==============================================================================\n",
      "Omnibus:                    12741.889   Durbin-Watson:                   2.008\n",
      "Prob(Omnibus):                  0.000   Jarque-Bera (JB):            49117.135\n",
      "Skew:                           0.235   Prob(JB):                         0.00\n",
      "Kurtosis:                       5.423   Cond. No.                         263.\n",
      "==============================================================================\n",
      "\n",
      "Warnings:\n",
      "[1] Standard Errors are heteroscedasticity robust (HC1)\n"
     ]
    }
   ],
   "source": [
    "m = sm.OLS.from_formula(\"(Delta_Rbg)~   {}  \".format(\n",
    "        ' + '.join(children_number+ #below_threshold_for_child_rank+interaction_child_below_thresholds\n",
    "                  between_threshold_for_child_rank+children_number+ over_threshold_for_child_rank+\n",
    "                  interaction_child_between_threshold+interaction_child_over_threshold))\n",
    "                                                                                        , reg_df_same_NBPAC)\n",
    "fit = m.fit(cov_type=\"HC1\")\n",
    "print(fit.summary())"
   ]
  },
  {
   "cell_type": "markdown",
   "metadata": {},
   "source": [
    "### Flatten thresholds"
   ]
  },
  {
   "cell_type": "code",
   "execution_count": 37,
   "metadata": {},
   "outputs": [
    {
     "name": "stdout",
     "output_type": "stream",
     "text": [
      "                            OLS Regression Results                            \n",
      "==============================================================================\n",
      "Dep. Variable:              Delta_Rbg   R-squared:                       0.045\n",
      "Model:                            OLS   Adj. R-squared:                  0.045\n",
      "Method:                 Least Squares   F-statistic:                     312.2\n",
      "Date:                Sun, 10 Mar 2019   Prob (F-statistic):               0.00\n",
      "Time:                        11:42:51   Log-Likelihood:            -2.1330e+06\n",
      "No. Observations:              193555   AIC:                         4.266e+06\n",
      "Df Residuals:                  193524   BIC:                         4.266e+06\n",
      "Df Model:                          30                                         \n",
      "Covariance Type:                  HC1                                         \n",
      "=============================================================================================================\n",
      "                                                coef    std err          z      P>|z|      [95.0% Conf. Int.]\n",
      "-------------------------------------------------------------------------------------------------------------\n",
      "Intercept                                  6381.1242     83.264     76.638      0.000      6217.931  6544.318\n",
      "Flatten_thresholds_58291_63233[T.True]    -5399.2165    105.275    -51.287      0.000     -5605.552 -5192.881\n",
      "Flatten_thresholds_63233_63530[T.True]    -5806.6139    382.533    -15.179      0.000     -6556.365 -5056.862\n",
      "Flatten_thresholds_63530_73516[T.True]    -6564.9363    146.217    -44.899      0.000     -6851.516 -6278.357\n",
      "Flatten_thresholds_73516_73806[T.True]    -7736.8747    634.841    -12.187      0.000     -8981.139 -6492.610\n",
      "Flatten_thresholds_73806_84103[T.True]    -7683.0428    210.341    -36.527      0.000     -8095.304 -7270.782\n",
      "Flatten_thresholds_84103_94368[T.True]    -8164.7574    251.561    -32.456      0.000     -8657.807 -7671.708\n",
      "Flatten_thresholds_94368_94451[T.True]    -8325.2807   1868.295     -4.456      0.000      -1.2e+04 -4663.489\n",
      "Flatten_thresholds_94451_104633[T.True]   -7289.2099    304.498    -23.938      0.000     -7886.014 -6692.405\n",
      "Flatten_thresholds_104633_115185[T.True]  -7523.4898    367.742    -20.459      0.000     -8244.251 -6802.728\n",
      "Flatten_thresholds_115185_135941[T.True]  -7466.6188    361.847    -20.635      0.000     -8175.826 -6757.411\n",
      "Flatten_thresholds_135941_150684[T.True]  -6456.9363    537.634    -12.010      0.000     -7510.680 -5403.192\n",
      "child_1                                    1829.0962    127.015     14.401      0.000      1580.152  2078.041\n",
      "child_1:Between_threshold_1_child[T.True]   621.8139    255.937      2.430      0.015       120.187  1123.441\n",
      "child_1:Over_threshold_1_child[T.True]     2292.8309    232.702      9.853      0.000      1836.744  2748.917\n",
      "child_2                                    2662.7131     95.215     27.965      0.000      2476.096  2849.330\n",
      "child_2:Between_threshold_2_child[T.True]  2487.8310    197.850     12.574      0.000      2100.053  2875.609\n",
      "child_2:Over_threshold_2_child[T.True]     4314.5040    237.591     18.159      0.000      3848.834  4780.174\n",
      "child_3                                    4388.2793    114.557     38.306      0.000      4163.751  4612.807\n",
      "child_3:Between_threshold_3_child[T.True]  4234.2941    316.226     13.390      0.000      3614.503  4854.085\n",
      "child_3:Over_threshold_3_child[T.True]     3996.6200    399.749      9.998      0.000      3213.126  4780.114\n",
      "child_4                                    6234.5724    250.998     24.839      0.000      5742.626  6726.519\n",
      "child_4:Between_threshold_4_child[T.True]  2780.1388    754.958      3.683      0.000      1300.448  4259.830\n",
      "child_4:Over_threshold_4_child[T.True]     3120.0473   1054.453      2.959      0.003      1053.357  5186.738\n",
      "child_5                                    7406.4845    683.369     10.838      0.000      6067.105  8745.864\n",
      "child_5:Between_threshold_5_child[T.True] -4147.1200   2194.870     -1.889      0.059     -8448.987   154.747\n",
      "child_5:Over_threshold_5_child[T.True]     5174.4878   3955.088      1.308      0.191     -2577.341  1.29e+04\n",
      "child_6                                    8987.9400   1373.812      6.542      0.000      6295.317  1.17e+04\n",
      "child_6:Between_threshold_6_child[T.True] -9431.3208   4765.820     -1.979      0.048     -1.88e+04   -90.485\n",
      "child_6:Over_threshold_6_child[T.True]     -198.4937   1.38e+04     -0.014      0.989     -2.72e+04  2.68e+04\n",
      "Flatten_thresholds_more_then_150684       -8524.5305    492.743    -17.300      0.000     -9490.290 -7558.771\n",
      "==============================================================================\n",
      "Omnibus:                    12741.889   Durbin-Watson:                   2.008\n",
      "Prob(Omnibus):                  0.000   Jarque-Bera (JB):            49117.135\n",
      "Skew:                           0.235   Prob(JB):                         0.00\n",
      "Kurtosis:                       5.423   Cond. No.                         231.\n",
      "==============================================================================\n",
      "\n",
      "Warnings:\n",
      "[1] Standard Errors are heteroscedasticity robust (HC1)\n"
     ]
    }
   ],
   "source": [
    "m = sm.OLS.from_formula(\"(Delta_Rbg)~   {}  \".format(\n",
    "        ' + '.join(children_number \n",
    "                + children_number + flatten_thresholds_list\n",
    "                + interaction_child_between_threshold + interaction_child_over_threshold)),\n",
    "        df)\n",
    "fit = m.fit(cov_type=\"HC1\")\n",
    "print(fit.summary())"
   ]
  },
  {
   "cell_type": "code",
   "execution_count": 38,
   "metadata": {},
   "outputs": [
    {
     "name": "stdout",
     "output_type": "stream",
     "text": [
      "                            OLS Regression Results                            \n",
      "==============================================================================\n",
      "Dep. Variable:              Delta_Rbg   R-squared:                       0.044\n",
      "Model:                            OLS   Adj. R-squared:                  0.044\n",
      "Method:                 Least Squares   F-statistic:                     221.5\n",
      "Date:                Sun, 10 Mar 2019   Prob (F-statistic):               0.00\n",
      "Time:                        11:42:53   Log-Likelihood:            -1.5896e+06\n",
      "No. Observations:              145050   AIC:                         3.179e+06\n",
      "Df Residuals:                  145019   BIC:                         3.180e+06\n",
      "Df Model:                          30                                         \n",
      "Covariance Type:                  HC1                                         \n",
      "=============================================================================================================\n",
      "                                                coef    std err          z      P>|z|      [95.0% Conf. Int.]\n",
      "-------------------------------------------------------------------------------------------------------------\n",
      "Intercept                                  6658.1305     97.165     68.524      0.000      6467.690  6848.571\n",
      "Flatten_thresholds_58291_63233[T.True]    -5484.2902    115.582    -47.449      0.000     -5710.827 -5257.753\n",
      "Flatten_thresholds_63233_63530[T.True]    -5888.8460    423.094    -13.919      0.000     -6718.096 -5059.596\n",
      "Flatten_thresholds_63530_73516[T.True]    -6502.1742    171.165    -37.988      0.000     -6837.652 -6166.696\n",
      "Flatten_thresholds_73516_73806[T.True]    -7194.4939    738.725     -9.739      0.000     -8642.368 -5746.620\n",
      "Flatten_thresholds_73806_84103[T.True]    -7622.4546    264.178    -28.853      0.000     -8140.234 -7104.675\n",
      "Flatten_thresholds_84103_94368[T.True]    -7958.5977    316.820    -25.120      0.000     -8579.553 -7337.642\n",
      "Flatten_thresholds_94368_94451[T.True]    -8511.0752   2861.742     -2.974      0.003     -1.41e+04 -2902.164\n",
      "Flatten_thresholds_94451_104633[T.True]   -7261.0315    393.228    -18.465      0.000     -8031.743 -6490.320\n",
      "Flatten_thresholds_104633_115185[T.True]  -7160.0838    489.158    -14.638      0.000     -8118.816 -6201.352\n",
      "Flatten_thresholds_115185_135941[T.True]  -7493.5555    493.410    -15.187      0.000     -8460.621 -6526.490\n",
      "Flatten_thresholds_135941_150684[T.True]  -6958.6609    764.884     -9.098      0.000     -8457.807 -5459.515\n",
      "child_1                                    1405.8774    141.889      9.908      0.000      1127.780  1683.974\n",
      "child_1:Between_threshold_1_child[T.True]   714.0868    284.626      2.509      0.012       156.230  1271.944\n",
      "child_1:Over_threshold_1_child[T.True]     2132.8904    272.410      7.830      0.000      1598.977  2666.804\n",
      "child_2                                    2226.1420    108.749     20.470      0.000      2012.998  2439.286\n",
      "child_2:Between_threshold_2_child[T.True]  2418.9282    226.193     10.694      0.000      1975.599  2862.258\n",
      "child_2:Over_threshold_2_child[T.True]     4089.9308    297.390     13.753      0.000      3507.057  4672.804\n",
      "child_3                                    3845.2482    127.744     30.101      0.000      3594.874  4095.622\n",
      "child_3:Between_threshold_3_child[T.True]  3738.6872    375.115      9.967      0.000      3003.475  4473.900\n",
      "child_3:Over_threshold_3_child[T.True]     3886.2797    522.943      7.432      0.000      2861.330  4911.229\n",
      "child_4                                    5491.8118    261.981     20.963      0.000      4978.339  6005.284\n",
      "child_4:Between_threshold_4_child[T.True]  2770.2026    872.524      3.175      0.001      1060.087  4480.318\n",
      "child_4:Over_threshold_4_child[T.True]     3503.5335   1346.905      2.601      0.009       863.649  6143.419\n",
      "child_5                                    6934.5031    736.047      9.421      0.000      5491.878  8377.128\n",
      "child_5:Between_threshold_5_child[T.True] -5765.7776   2590.167     -2.226      0.026     -1.08e+04  -689.143\n",
      "child_5:Over_threshold_5_child[T.True]      376.8353   4929.441      0.076      0.939     -9284.691     1e+04\n",
      "child_6                                    7524.1991   1354.265      5.556      0.000      4869.888  1.02e+04\n",
      "child_6:Between_threshold_6_child[T.True] -7595.5009   5946.355     -1.277      0.201     -1.93e+04  4059.140\n",
      "child_6:Over_threshold_6_child[T.True]    -1.019e+04   1.65e+04     -0.619      0.536     -4.24e+04  2.21e+04\n",
      "Flatten_thresholds_more_then_150684       -8248.5272    754.349    -10.935      0.000     -9727.025 -6770.030\n",
      "==============================================================================\n",
      "Omnibus:                    10808.166   Durbin-Watson:                   2.010\n",
      "Prob(Omnibus):                  0.000   Jarque-Bera (JB):            46160.187\n",
      "Skew:                           0.257   Prob(JB):                         0.00\n",
      "Kurtosis:                       5.715   Cond. No.                         257.\n",
      "==============================================================================\n",
      "\n",
      "Warnings:\n",
      "[1] Standard Errors are heteroscedasticity robust (HC1)\n"
     ]
    }
   ],
   "source": [
    "m = sm.OLS.from_formula(\"(Delta_Rbg)~   {}  \".format(\n",
    "        ' + '.join(children_number \n",
    "                + children_number + flatten_thresholds_list\n",
    "                + interaction_child_between_threshold + interaction_child_over_threshold)),\n",
    "        df.query(\"ZVALM_2011<=50\"))\n",
    "fit = m.fit(cov_type=\"HC1\")\n",
    "print(fit.summary())"
   ]
  },
  {
   "cell_type": "code",
   "execution_count": 39,
   "metadata": {
    "collapsed": true
   },
   "outputs": [],
   "source": [
    "hardcoded_over = [\"Over_{}_X_{}_child\".format(child,child) for child in range(1,nb_enf_max_for_annalysis+1)]\n",
    "hardcoded_between = [\"Between_{}_X_{}_child\".format(child,child) for child in range(1,nb_enf_max_for_annalysis+1)]\n",
    "\n",
    "for child in range(1,7):\n",
    "    df[\"Over_{}_X_{}_child\".format(child,child)] = df[\"Over_threshold_{}_child\".format(child)] * (df[\"NBPAC_2011\"]==child)\n",
    "    df[\"Between_{}_X_{}_child\".format(child,child)] = df[\"Between_threshold_{}_child\".format(child)] * (df[\"NBPAC_2011\"]==child)"
   ]
  },
  {
   "cell_type": "code",
   "execution_count": 40,
   "metadata": {},
   "outputs": [],
   "source": [
    "df[\"Proprietaire\"] = df.OCC == \"P\""
   ]
  },
  {
   "cell_type": "code",
   "execution_count": 41,
   "metadata": {},
   "outputs": [],
   "source": [
    "df.DATACHEV = df.DATACHEV.clip(1900,2012)"
   ]
  },
  {
   "cell_type": "code",
   "execution_count": 42,
   "metadata": {
    "collapsed": true
   },
   "outputs": [],
   "source": [
    "df[\"House_age\"] = 2012 - df.DATACHEV"
   ]
  },
  {
   "cell_type": "code",
   "execution_count": 43,
   "metadata": {},
   "outputs": [],
   "source": [
    "df[\"Social_housing\"] = ~df.HLMSEM.isnull()"
   ]
  },
  {
   "cell_type": "code",
   "execution_count": 44,
   "metadata": {},
   "outputs": [
    {
     "data": {
      "text/plain": [
       "<matplotlib.axes._subplots.AxesSubplot at 0x3a64cda0>"
      ]
     },
     "execution_count": 44,
     "metadata": {},
     "output_type": "execute_result"
    },
    {
     "data": {
      "image/png": "[encoded data removed]",
      "text/plain": [
       "<matplotlib.figure.Figure at 0x103620940>"
      ]
     },
     "metadata": {},
     "output_type": "display_data"
    }
   ],
   "source": [
    "df.query(\"Social_housing\").SURFTOT.hist(bins = 100)"
   ]
  },
  {
   "cell_type": "code",
   "execution_count": 45,
   "metadata": {},
   "outputs": [
    {
     "data": {
      "text/plain": [
       "63     1565\n",
       "109    1360\n",
       "115    1218\n",
       "113    1218\n",
       "4      1184\n",
       "555    1132\n",
       "118    1117\n",
       "88     1109\n",
       "114    1004\n",
       "69      990\n",
       "33      979\n",
       "112     979\n",
       "51      970\n",
       "1       952\n",
       "117     951\n",
       "7       924\n",
       "116     915\n",
       "48      912\n",
       "120     884\n",
       "12      884\n",
       "dtype: int64"
      ]
     },
     "execution_count": 45,
     "metadata": {},
     "output_type": "execute_result"
    }
   ],
   "source": [
    "df.CNE.value_counts().head(20)"
   ]
  },
  {
   "cell_type": "code",
   "execution_count": 46,
   "metadata": {
    "scrolled": false
   },
   "outputs": [],
   "source": [
    "m = sm.OLS.from_formula(\"(Delta_Rbg)~   {}  \".format(\n",
    "        ' + '.join(hardcoded_over + hardcoded_between)),\n",
    "        df)\n",
    "fit1 = m.fit(cov_type=\"HC1\")\n",
    "\n",
    "\n",
    "m = sm.OLS.from_formula(\"(Delta_Rbg)~   {}  \".format(\n",
    "        ' + '.join(children_number \n",
    "                + hardcoded_over + hardcoded_between)),\n",
    "        df)\n",
    "fit2 = m.fit(cov_type=\"HC1\")\n",
    "\n",
    "\n",
    "m = sm.OLS.from_formula(\"(Delta_Rbg)~   {}  \".format(\n",
    "        ' + '.join( flatten_thresholds_list\n",
    "                + hardcoded_over + hardcoded_between)),\n",
    "        df)\n",
    "fit3 = m.fit(cov_type=\"HC1\")\n",
    "\n",
    "\n",
    "\n",
    "\n",
    "m = sm.OLS.from_formula(\"(Delta_Rbg)~   {}  \".format(\n",
    "        ' + '.join( \n",
    "                  children_number + flatten_thresholds_list\n",
    "                + hardcoded_over + hardcoded_between)),\n",
    "        df)\n",
    "fit_4 = m.fit(cov_type=\"HC1\")\n",
    "\n",
    "\n",
    "m = sm.OLS.from_formula(\"(Delta_Rbg)~   {}  \".format(\n",
    "        ' + '.join(\n",
    "                  children_number[1:] + flatten_thresholds_list\n",
    "                + hardcoded_over + hardcoded_between)),\n",
    "        df.query(\"NBPAC_2011>=1\"))\n",
    "fit_5 = m.fit(cov_type=\"HC1\")\n",
    "\n",
    "\n",
    "\n",
    "m = sm.OLS.from_formula(\"(Delta_Rbg)~   {} +Age_wo+Age_me+ Age_wo_squared+ Age_me_squared\".format(\n",
    "        ' + '.join(\n",
    "                  children_number + flatten_thresholds_list\n",
    "                + hardcoded_over + hardcoded_between)),\n",
    "        df)\n",
    "fit_6 = m.fit(cov_type=\"HC1\")\n",
    "\n",
    "\n",
    "m = sm.OLS.from_formula(\"(Delta_Rbg)~   {} +Age_wo+Age_me+ Age_wo_squared+ Age_me_squared+Age_Elder_child+Age_Youngest_child\".format(\n",
    "        ' + '.join(\n",
    "                  children_number + flatten_thresholds_list\n",
    "                + hardcoded_over + hardcoded_between)),\n",
    "        df)\n",
    "\n",
    "\n",
    "fit_6_1 = m.fit(cov_type=\"HC1\")\n",
    "\n",
    "m = sm.OLS.from_formula(\"(Delta_Rbg)~   {} +Age_wo+Age_me+ Age_wo_squared+ Age_me_squared +Age_Elder_child+Age_Youngest_child\\\n",
    "                                           +Proprietaire +SURFTOT + Social_housing + House_age \".format(\n",
    "        ' + '.join(\n",
    "                  children_number + flatten_thresholds_list\n",
    "                + hardcoded_over + hardcoded_between)),\n",
    "        df)\n",
    "fit_7 = m.fit(cov_type=\"HC1\")\n",
    "\n",
    "\n",
    "\n",
    "m = sm.OLS.from_formula(\"(Delta_Rbg)~   {} +Age_wo+Age_me+ Age_wo_squared+ Age_me_squared+Age_Elder_child+Age_Youngest_child \\\n",
    "                                           +Proprietaire +SURFTOT + Social_housing + House_age + C(CNE) \".format(\n",
    "        ' + '.join(\n",
    "                  children_number + flatten_thresholds_list\n",
    "                + hardcoded_over + hardcoded_between)),\n",
    "        df)\n",
    "fit_8 = m.fit(cov_type=\"HC1\")\n",
    "\n",
    "\n",
    "m = sm.OLS.from_formula(\"(Delta_Rbg)~   {} +Age_wo+Age_me+ Age_wo_squared+ Age_me_squared+Age_Elder_child+Age_Youngest_child \\\n",
    "                                           +Proprietaire +SURFTOT + Social_housing + House_age + C(CNE)+ C(DEP) \".format(\n",
    "        ' + '.join(\n",
    "                  children_number + flatten_thresholds_list\n",
    "                + hardcoded_over + hardcoded_between)),\n",
    "        df)\n",
    "fit_9 = m.fit(cov_type=\"HC1\")\n",
    "\n",
    "\n",
    "\n",
    "m = sm.OLS.from_formula(\"(Delta_Rbg)~   {} +Age_wo+Age_me+ Age_wo_squared+ Age_me_squared+Age_Elder_child+Age_Youngest_child\".format(\n",
    "        ' + '.join(\n",
    "                  children_number + flatten_thresholds_list\n",
    "                + hardcoded_over + hardcoded_between)),\n",
    "        df.query(\"(ZVALM_2011<50)&(ZIMPOM_2011>500)&(ZIMPOM14_2014>500)&(ZVAMM_2011<200)& (ZRACM_2011<200) & (ZETRM_2011<100)\"))\n",
    "fit_10 = m.fit(cov_type=\"HC1\")\n",
    "\n",
    "\n",
    "\n",
    "m = sm.OLS.from_formula(\"(Delta_Rbg)~   {} +Age_wo+Age_me+ Age_wo_squared+ Age_me_squared+Age_Elder_child+Age_Youngest_child \".format(\n",
    "        ' + '.join(\n",
    "                  children_number + flatten_thresholds_list\n",
    "                + hardcoded_over + hardcoded_between)),\n",
    "        df.query(\"(ZVALM_2011<50)&(ZIMPOM_2011>500)&(ZIMPOM14_2014>500)&(ZVAMM_2011<200)& (ZRACM_2011<200) & (ZETRM_2011<100)&(Delta_rbg_positif==1)\"))\n",
    "fit_11 = m.fit(cov_type=\"HC1\")\n",
    "\n",
    "m = sm.OLS.from_formula(\"(Delta_Rbg)~   {} +Age_wo+Age_me+ Age_wo_squared+ Age_me_squared+Age_Elder_child+Age_Youngest_child\".format(\n",
    "        ' + '.join(\n",
    "                  children_number + flatten_thresholds_list\n",
    "                + hardcoded_over + hardcoded_between)),\n",
    "        df.query(\"(ZVALM_2011<50)&(ZIMPOM_2011>500)&(ZIMPOM14_2014>500)&(ZVAMM_2011<200)& (ZRACM_2011<200) & (ZETRM_2011<100)&(Delta_rbg_positif==0)\"))\n",
    "fit_12 = m.fit(cov_type=\"HC1\")\n",
    "\n",
    "\n",
    "\n",
    "#print(summary_col([fit1, fit2,fit3, fit_4],model_names =None, stars = True))\n",
    "\n"
   ]
  },
  {
   "cell_type": "code",
   "execution_count": 47,
   "metadata": {},
   "outputs": [
    {
     "name": "stderr",
     "output_type": "stream",
     "text": [
      "C:\\Users\\IMPTEMP_A_PACIFIC\\Desktop\\WinPython-64bit-2.7.10.2\\WinPython-64bit-2.7.10.2\\python-2.7.10.amd64\\lib\\site-packages\\statsmodels\\iolib\\summary2.py:372: SettingWithCopyWarning: \n",
      "A value is trying to be set on a copy of a slice from a DataFrame\n",
      "\n",
      "See the the caveats in the documentation: http://pandas.pydata.org/pandas-docs/stable/indexing.html#indexing-view-versus-copy\n",
      "  res.ix[:, 0][idx] = res.ix[:, 0][idx] + '*'\n",
      "C:\\Users\\IMPTEMP_A_PACIFIC\\Desktop\\WinPython-64bit-2.7.10.2\\WinPython-64bit-2.7.10.2\\python-2.7.10.amd64\\lib\\site-packages\\statsmodels\\iolib\\summary2.py:374: SettingWithCopyWarning: \n",
      "A value is trying to be set on a copy of a slice from a DataFrame\n",
      "\n",
      "See the the caveats in the documentation: http://pandas.pydata.org/pandas-docs/stable/indexing.html#indexing-view-versus-copy\n",
      "  res.ix[:, 0][idx] = res.ix[:, 0][idx] + '*'\n",
      "C:\\Users\\IMPTEMP_A_PACIFIC\\Desktop\\WinPython-64bit-2.7.10.2\\WinPython-64bit-2.7.10.2\\python-2.7.10.amd64\\lib\\site-packages\\statsmodels\\iolib\\summary2.py:376: SettingWithCopyWarning: \n",
      "A value is trying to be set on a copy of a slice from a DataFrame\n",
      "\n",
      "See the the caveats in the documentation: http://pandas.pydata.org/pandas-docs/stable/indexing.html#indexing-view-versus-copy\n",
      "  res.ix[:, 0][idx] = res.ix[:, 0][idx] + '*'\n"
     ]
    }
   ],
   "source": [
    "summary = summary_col([fit1, fit2,fit3, fit_4, fit_5, fit_6, fit_6_1, fit_7, fit_8, fit_9, fit_10, fit_11, fit_12], stars = True,float_format='%.2f',\n",
    "                  info_dict=info_dict,\n",
    "                model_names = [\"Only_treatment_var\",\"Treatmt_var_w_child_var\", \"Treatment_var_w_income_thrsh_var\", \"Triple_diff\", \n",
    "                               \"Triple_diff_w_child_only\", \"Tripl_age_parents\", \"Triple_age\", \"Triple_control_local\", \"Triple_countrol_housing\",\"Triple_control_local_dep\", \n",
    "                               \"Triple_no_othr_income\", \"Triple_noi_positive_delta\",\"Triple_noi_negative_delta\" ])"
   ]
  },
  {
   "cell_type": "code",
   "execution_count": 48,
   "metadata": {
    "collapsed": true
   },
   "outputs": [],
   "source": [
    "import copy\n",
    "summary_save = summary"
   ]
  },
  {
   "cell_type": "code",
   "execution_count": 49,
   "metadata": {},
   "outputs": [],
   "source": [
    "\n",
    "summary = copy.copy(summary_save)"
   ]
  },
  {
   "cell_type": "code",
   "execution_count": 50,
   "metadata": {
    "scrolled": false
   },
   "outputs": [
    {
     "name": "stdout",
     "output_type": "stream",
     "text": [
      "\n",
      "=======================================================================================================================================================================================================================================================================================================================================\n",
      "                                         Only_treatment_var Treatmt_var_w_child_var Treatment_var_w_income_thrsh_var Triple_diff Triple_diff_w_child_only Tripl_age_parents  Triple_age Triple_control_local Triple_countrol_housing Triple_control_local_dep Triple_no_othr_income Triple_noi_positive_delta Triple_noi_negative_delta\n",
      "---------------------------------------------------------------------------------------------------------------------------------------------------------------------------------------------------------------------------------------------------------------------------------------------------------------------------------------\n",
      "Age_Elder_child                                                                                                                                                             -121.70***  -120.43***           -118.72***              -115.68***               -61.54***             29.37                     -26.88                   \n",
      "                                                                                                                                                                            (17.52)     (17.50)              (17.51)                 (17.44)                  (23.06)               (19.68)                   (32.99)                  \n",
      "Age_Youngest_child                                                                                                                                                          81.40***    77.38***             76.42***                75.25***                 37.03                 -64.11***                 18.87                    \n",
      "                                                                                                                                                                            (18.03)     (18.00)              (18.01)                 (17.95)                  (23.49)               (20.02)                   (34.62)                  \n",
      "Age_me                                                                                                                                                    -103.75**         -78.43*     -72.65               -59.94                  -42.90                   -118.65**             -607.48***                601.36***                \n",
      "                                                                                                                                                          (46.34)           (46.72)     (46.73)              (46.90)                 (47.05)                  (57.40)               (50.51)                   (94.58)                  \n",
      "Age_me_squared                                                                                                                                            0.06              -0.21       -0.32                -0.44                   -0.61                    0.33                  6.28***                   -6.32***                 \n",
      "                                                                                                                                                          (0.51)            (0.51)      (0.51)               (0.51)                  (0.52)                   (0.63)                (0.56)                    (1.00)                   \n",
      "Age_wo                                                                                                                                                    -101.11**         -84.16**    -76.41*              -75.46*                 -64.30                   -13.17                -333.23***                319.71***                \n",
      "                                                                                                                                                          (41.69)           (42.02)     (41.98)              (42.15)                 (42.10)                  (52.21)               (42.97)                   (81.87)                  \n",
      "Age_wo_squared                                                                                                                                            0.14              -0.07       -0.21                -0.23                   -0.37                    -1.02*                3.02***                   -3.47***                 \n",
      "                                                                                                                                                          (0.48)            (0.48)      (0.48)               (0.48)                  (0.48)                   (0.60)                (0.50)                    (0.89)                   \n",
      "Between_1_X_1_child[T.True]              -3214.53***        -4777.40***             144.02                           621.81**    -271.70                  626.09**          627.49**    636.42**             614.27**                599.53**                 238.44                126.78                    695.31*                  \n",
      "                                         (215.98)           (233.28)                (233.74)                         (255.94)    (262.36)                 (255.28)          (255.05)    (254.73)             (255.68)                (255.41)                 (298.43)              (272.08)                  (403.25)                 \n",
      "Between_2_X_2_child[T.True]              -1680.61***        -3117.92***             3288.60***                       2487.83***  225.91                   2473.23***        2471.83***  2472.00***           2478.17***              2441.96***               2927.02***            1457.34***                396.17                   \n",
      "                                         (130.58)           (135.14)                (183.35)                         (197.85)    (246.29)                 (197.20)          (197.15)    (197.10)             (197.48)                (197.08)                 (255.74)              (227.19)                  (329.38)                 \n",
      "Between_3_X_3_child[T.True]              477.89**           -1559.94***             7845.43***                       4234.29***  1453.84***               4193.74***        4165.46***  4122.14***           4030.32***              3908.92***               3996.09***            1747.00***                -591.33                  \n",
      "                                         (239.89)           (252.18)                (302.12)                         (316.23)    (403.21)                 (315.51)          (315.47)    (315.18)             (315.40)                (315.03)                 (445.07)              (380.75)                  (541.95)                 \n",
      "Between_4_X_4_child[T.True]              1041.09            -2060.40***             8361.99***                       2780.14***  28.38                    2688.63***        2631.27***  2588.11***           2572.11***              2465.29***               171.14                -1306.13                  -1160.62                 \n",
      "                                         (688.15)           (728.87)                (718.36)                         (754.96)    (790.90)                 (752.94)          (754.21)    (753.47)             (754.33)                (754.52)                 (1146.58)             (959.02)                  (1373.10)                \n",
      "Between_5_X_5_child[T.True]              -4420.06**         -8121.20***             2641.40                          -4147.12*   -6685.45***              -4265.55*         -4207.59*   -4543.61**           -4517.74**              -4642.18**               -11294.10**           -6203.39*                 -4429.10                 \n",
      "                                         (2075.34)          (2185.06)               (2088.49)                        (2194.87)   (2206.40)                (2193.33)         (2193.46)   (2184.36)            (2172.62)               (2181.67)                (4442.52)             (3347.44)                 (4500.83)                \n",
      "Between_6_X_6_child[T.True]              -7911.55*          -12587.63***            -1058.74                         -9431.32**  -11624.12**              -9718.80**        -9733.74**  -9786.13**           -10093.97**             -9914.62**               -7623.90              9116.62**                 -28295.77***             \n",
      "                                         (4565.00)          (4770.54)               (4564.87)                        (4765.82)   (4769.40)                (4846.61)         (4818.36)   (4756.52)            (4874.64)               (4887.58)                (13973.82)            (4173.10)                 (7774.08)                \n",
      "Flatten_thresholds_104633_115185[T.True]                                            -9157.98***                      -7523.49*** -3777.70***              -6934.17***       -6937.51*** -7260.27***          -7513.43***             -8088.93***              -5980.52***           6188.80***                -11821.68***             \n",
      "                                                                                    (363.44)                         (367.74)    (479.56)                 (366.84)          (366.77)    (367.23)             (367.76)                (368.99)                 (621.11)              (497.63)                  (644.87)                 \n",
      "Flatten_thresholds_115185_135941[T.True]                                            -9099.23***                      -7466.62*** -3731.01***              -6817.63***       -6832.77*** -7260.44***          -7544.35***             -8227.40***              -5815.00***           7816.68***                -11827.81***             \n",
      "                                                                                    (357.50)                         (361.85)    (476.94)                 (360.66)          (360.58)    (361.72)             (362.40)                (364.09)                 (623.15)              (526.11)                  (608.34)                 \n",
      "Flatten_thresholds_135941_150684[T.True]                                            -8072.70***                      -6456.94*** -2557.07***              -5770.78***       -5785.53*** -6241.93***          -6573.56***             -7283.45***              -5407.50***           9502.48***                -12968.81***             \n",
      "                                                                                    (534.97)                         (537.63)    (641.13)                 (536.24)          (536.14)    (536.78)             (537.10)                (537.54)                 (997.28)              (844.74)                  (958.51)                 \n",
      "Flatten_thresholds_58291_63233[T.True]                                              -5336.14***                      -5399.22*** -4505.71***              -5158.23***       -5161.95*** -5202.98***          -5258.79***             -5405.99***              -3377.73***           -1119.59***               -1686.44***              \n",
      "                                                                                    (105.02)                         (105.28)    (120.05)                 (105.29)          (105.29)    (105.36)             (105.85)                (106.02)                 (122.15)              (107.22)                  (174.99)                 \n",
      "Flatten_thresholds_63233_63530[T.True]                                              -5833.21***                      -5806.61*** -4671.18***              -5560.79***       -5577.65*** -5608.47***          -5672.23***             -5871.44***              -4110.38***           -1432.28***               -1237.54***              \n",
      "                                                                                    (389.07)                         (382.53)    (435.82)                 (381.72)          (381.53)    (381.33)             (381.76)                (380.91)                 (420.57)              (377.84)                  (475.98)                 \n",
      "Flatten_thresholds_63530_73516[T.True]                                              -6946.81***                      -6564.94*** -4142.69***              -6257.34***       -6266.15*** -6356.29***          -6464.73***             -6706.92***              -4877.19***           -405.74**                 -3662.39***              \n",
      "                                                                                    (140.03)                         (146.22)    (207.37)                 (145.85)          (145.80)    (145.96)             (146.44)                (146.71)                 (201.91)              (179.95)                  (242.88)                 \n",
      "Flatten_thresholds_73516_73806[T.True]                                              -8521.52***                      -7736.87*** -4816.01***              -7371.03***       -7388.66*** -7504.45***          -7561.64***             -7853.27***              -6012.01***           -36.51                    -4314.68***              \n",
      "                                                                                    (641.66)                         (634.84)    (722.48)                 (630.52)          (630.00)    (629.62)             (624.76)                (623.57)                 (791.66)              (718.20)                  (939.57)                 \n",
      "Flatten_thresholds_73806_84103[T.True]                                              -9096.58***                      -7683.04*** -4439.60***              -7295.47***       -7295.84*** -7450.51***          -7577.15***             -7908.41***              -6093.05***           784.59***                 -5976.63***              \n",
      "                                                                                    (203.26)                         (210.34)    (338.57)                 (209.44)          (209.38)    (209.70)             (209.95)                (210.43)                 (316.12)              (269.67)                  (344.73)                 \n",
      "Flatten_thresholds_84103_94368[T.True]                                              -9709.69***                      -8164.76*** -4546.02***              -7704.38***       -7704.79*** -7924.87***          -8118.67***             -8564.36***              -6131.71***           2383.38***                -8252.37***              \n",
      "                                                                                    (245.30)                         (251.56)    (376.67)                 (250.47)          (250.38)    (250.91)             (251.44)                (252.36)                 (382.30)              (315.72)                  (433.31)                 \n",
      "Flatten_thresholds_94368_94451[T.True]                                              -9851.21***                      -8325.28*** -5803.28***              -7912.76***       -7940.60*** -8151.58***          -8387.66***             -8755.70***              -5387.70*             2921.66                   -6228.21**               \n",
      "                                                                                    (1865.07)                        (1868.30)   (2093.32)                (1847.77)         (1847.85)   (1844.47)            (1828.72)               (1845.95)                (2863.76)             (2049.30)                 (2970.13)                \n",
      "Flatten_thresholds_94451_104633[T.True]                                             -8902.85***                      -7289.21*** -3469.19***              -6778.84***       -6779.43*** -7045.56***          -7302.51***             -7837.31***              -5998.52***           3750.55***                -9688.88***              \n",
      "                                                                                    (299.62)                         (304.50)    (422.90)                 (303.05)          (302.99)    (303.67)             (304.25)                (305.50)                 (480.97)              (397.99)                  (524.51)                 \n",
      "Flatten_thresholds_more_then_150684                                                 -10152.82***                     -8524.53*** -5431.11***              -7827.61***       -7832.30*** -8471.54***          -8845.14***             -9654.07***              -6135.83***           12358.62***               -15187.22***             \n",
      "                                                                                    (489.25)                         (492.74)    (605.76)                 (492.52)          (492.58)    (494.69)             (495.25)                (496.36)                 (981.99)              (808.91)                  (844.94)                 \n",
      "House_age                                                                                                                                                                               3.68***              3.02***                 2.79***                                                                                           \n",
      "                                                                                                                                                                                        (0.94)               (0.95)                  (0.97)                                                                                            \n",
      "Intercept                                6647.34***         3114.95***              8624.94***                       6381.12***  8210.22***               16514.36***       15681.85*** 15071.09***          14581.91***             12635.56***              14645.73***           33507.36***               -28649.44***             \n",
      "                                         (37.81)            (79.28)                 (40.15)                          (83.26)     (95.92)                  (927.29)          (962.70)    (971.66)             (1100.92)               (1157.97)                (1222.73)             (1066.93)                 (2079.96)                \n",
      "Over_1_X_1_child[T.True]                 -3389.23***        -4952.11***             2953.23***                       2292.83***  -772.31***               2422.92***        2429.31***  2460.59***           2416.68***              2372.25***               2377.17***            595.97**                  1272.42***               \n",
      "                                         (163.90)           (186.10)                (203.04)                         (232.70)    (290.44)                 (232.00)          (232.01)    (231.88)             (232.27)                (232.04)                 (310.12)              (262.88)                  (383.16)                 \n",
      "Over_2_X_2_child[T.True]                 -986.05***         -2423.35***             6260.48***                       4314.50***  962.87***                4317.02***        4300.71***  4322.09***           4272.98***              4133.43***               4442.20***            1886.52***                624.73                   \n",
      "                                         (139.33)           (143.62)                (222.86)                         (237.59)    (356.05)                 (236.45)          (236.44)    (236.41)             (236.60)                (236.35)                 (355.99)              (298.39)                  (394.83)                 \n",
      "Over_3_X_3_child[T.True]                 599.51*            -1438.33***             7766.49***                       3996.62***  949.88**                 3904.08***        3866.70***  3838.07***           3748.40***              3559.68***               3467.60***            935.30*                   -1178.63*                \n",
      "                                         (314.88)           (324.34)                (388.57)                         (399.75)    (481.87)                 (398.79)          (398.94)    (398.95)             (398.99)                (398.53)                 (647.36)              (529.75)                  (698.34)                 \n",
      "Over_4_X_4_child[T.True]                 1464.34            -1637.15                8738.61***                       3120.05***  532.95                   3029.54***        3028.25***  3004.94***           2891.17***              2705.92***               416.68                -1789.80                  -3485.37*                \n",
      "                                         (987.46)           (1016.26)               (1028.33)                        (1054.45)   (1086.45)                (1052.39)         (1053.31)   (1051.53)            (1050.30)               (1050.22)                (1807.96)             (1507.56)                 (1927.17)                \n",
      "Over_5_X_5_child[T.True]                 4430.19            729.05                  11961.57***                      5174.49     3063.37                  4835.13           4865.81     4764.39              5100.01                 5033.21                  -4217.48              -7831.69                  -2304.41                 \n",
      "                                         (3888.23)          (3947.93)               (3896.92)                        (3955.09)   (3961.72)                (3955.97)         (3953.59)   (3913.77)            (3953.83)               (3923.64)                (7195.10)             (5802.81)                 (4310.23)                \n",
      "Over_6_X_6_child[T.True]                 -1.30              -4677.39                8173.92                          -198.49     -1700.65                 -727.41           -604.79     -847.64              -1118.43                -1068.10                 -9909.33              12244.27***               -25752.38***             \n",
      "                                         (13707.07)         (13777.08)              (13716.11)                       (13784.48)  (13787.77)               (13765.45)        (13731.98)  (13806.69)           (13651.01)              (13568.30)               (24459.81)            (3672.75)                 (875.21)                 \n",
      "Proprietaire[T.True]                                                                                                                                                                    -1223.55***          -1038.77***             -702.81***                                                                                        \n",
      "                                                                                                                                                                                        (149.85)             (150.97)                (152.46)                                                                                          \n",
      "SURFTOT                                                                                                                                                                                 14.33***             16.84***                23.41***                                                                                          \n",
      "                                                                                                                                                                                        (1.02)               (1.05)                  (1.11)                                                                                            \n",
      "Social_housing[T.True]                                                                                                                                                                  109.58               -124.05                 -655.50**                                                                                         \n",
      "                                                                                                                                                                                        (260.39)             (263.16)                (266.66)                                                                                          \n",
      "child_1                                                     5095.27***                                               1829.10***                           261.82*           506.64***   448.89***            435.52***               332.97**                 -63.65                -1083.99***               1311.42***               \n",
      "                                                            (124.43)                                                 (127.01)                             (144.68)          (154.47)    (154.42)             (154.86)                (155.04)                 (178.23)              (158.66)                  (267.82)                 \n",
      "child_2                                                     4969.70***                                               2662.71***  673.29***                480.99***         1085.98***  917.31***            871.55***               751.01***                -112.33               -1867.36***               3083.11***               \n",
      "                                                            (94.48)                                                  (95.21)     (110.38)                 (128.78)          (151.13)    (152.23)             (152.68)                (152.73)                 (181.96)              (158.84)                  (269.85)                 \n",
      "child_3                                                     5570.23***                                               4388.28***  1947.29***               2308.96***        3220.32***  2869.99***           2819.11***              2664.22***               2213.87***            -763.10***                4950.92***               \n",
      "                                                            (117.31)                                                 (114.56)    (134.55)                 (144.77)          (180.45)    (182.50)             (182.99)                (183.31)                 (224.04)              (196.33)                  (327.84)                 \n",
      "child_4                                                     6633.89***                                               6234.57***  3441.44***               4235.92***        5331.24***  4771.26***           4650.07***              4348.42***               6853.97***            2173.96***                6549.69***               \n",
      "                                                            (255.73)                                                 (251.00)    (264.81)                 (266.06)          (296.70)    (298.47)             (299.03)                (299.00)                 (504.99)              (484.16)                  (651.77)                 \n",
      "child_5                                                     7233.54***                                               7406.48***  4345.47***               5520.99***        6782.30***  6039.10***           5762.08***              5336.85***               13111.00***           7164.88***                5995.69**                \n",
      "                                                            (689.22)                                                 (683.37)    (687.41)                 (686.31)          (703.53)    (703.56)             (707.43)                (707.95)                 (2250.60)             (2021.37)                 (2786.50)                \n",
      "child_6                                                     8208.48***                                               8987.94***  5567.58***               7040.73***        8438.46***  7518.04***           7322.09***              6899.55***               7843.50***            -1631.06                  13892.20***              \n",
      "                                                            (1387.78)                                                (1373.81)   (1372.81)                (1385.20)         (1396.30)   (1401.27)            (1412.75)               (1408.99)                (2634.93)             (3601.30)                 (622.14)                 \n",
      "Code_departement                                                                                                                                                                                                                     X                                                                                                 \n",
      "Code_commune                                                                                                                                                                                                 X                       X                                                                                                 \n",
      "adjusted-R2                              0.43%              2.30%                   3.66%                            4.52%       2.34%                    5.21%             5.25%       5.43%                5.55%                   5.85%                    4.38%                 7.26%                     18.12%                   \n",
      "N                                        193555             193555                  193555                           193555      149604                   193555            193555      193480               193480                  193480                   87773                 69144                     18629                    \n",
      "=======================================================================================================================================================================================================================================================================================================================================\n",
      "Standard errors in parentheses.\n",
      "* p<.1, ** p<.05, ***p<.01\n"
     ]
    },
    {
     "name": "stderr",
     "output_type": "stream",
     "text": [
      "C:\\Users\\IMPTEMP_A_PACIFIC\\Desktop\\WinPython-64bit-2.7.10.2\\WinPython-64bit-2.7.10.2\\python-2.7.10.amd64\\lib\\site-packages\\IPython\\kernel\\__main__.py:24: SettingWithCopyWarning: \n",
      "A value is trying to be set on a copy of a slice from a DataFrame\n",
      "\n",
      "See the the caveats in the documentation: http://pandas.pydata.org/pandas-docs/stable/indexing.html#indexing-view-versus-copy\n"
     ]
    }
   ],
   "source": [
    "code_communes = list(df.CNE.value_counts().sort_index().index)\n",
    "code_deps = list(df.DEP.value_counts().sort_index().index)\n",
    "\n",
    "\n",
    "\n",
    "df_table_reg = summary.tables[0]\n",
    "\n",
    "loc_indexes = list()\n",
    "for com in [\"C(CNE)[T.{}]\".format(code_com) for code_com in code_communes[1:]]: #First code taken as reference\n",
    "    loc_indexes.append(df_table_reg.index.get_loc(com))\n",
    "for com in [\"C(DEP)[T.{}]\".format(code_dep) for code_dep in code_deps[1:]]: #First code taken as reference\n",
    "    loc_indexes.append(df_table_reg.index.get_loc(com))\n",
    "loc_indexes = np.array(loc_indexes)\n",
    "\n",
    "\n",
    "\n",
    "df_table_reg = df_table_reg.reset_index()\n",
    "\n",
    "to_drop_indexes = df_table_reg.iloc[loc_indexes+1].index\n",
    "df_table_reg = df_table_reg.drop(to_drop_indexes)\n",
    "df_table_reg = df_table_reg.set_index(\"index\")\n",
    "df_table_reg = df_table_reg.drop([\"C(CNE)[T.{}]\".format(code_com) for code_com in code_communes]+[\"C(DEP)[T.{}]\".format(code_dep) for code_dep in code_deps[1:]])\n",
    "head_df = df_table_reg.iloc[:-2]\n",
    "head_df.loc[\"Code_departement\"] = [\"\"]*9+[\"   X\"]*1+[\"\"]*3\n",
    "head_df.loc[\"Code_commune\"] = [\"\"]*8+[\"  X\"]*2+ [\"\"]*3\n",
    "df_table_reg = head_df.append(df_table_reg.iloc[-2:]) \n",
    "summary.tables = [df_table_reg]\n",
    "print(summary)"
   ]
  },
  {
   "cell_type": "code",
   "execution_count": 51,
   "metadata": {
    "collapsed": true
   },
   "outputs": [],
   "source": [
    "from collections import OrderedDict"
   ]
  },
  {
   "cell_type": "code",
   "execution_count": 52,
   "metadata": {
    "scrolled": false
   },
   "outputs": [
    {
     "name": "stdout",
     "output_type": "stream",
     "text": [
      "\n",
      "========================================================================================================================================================================================================\n",
      "                                             OLS I       OLS II   Age_oldest<=50 I Age_oldest>50 I OLS_No_treatment_dummies I Age_oldest<=50_No_treatment_dummies I Age_oldest>50_No_treatment_dummies I\n",
      "--------------------------------------------------------------------------------------------------------------------------------------------------------------------------------------------------------\n",
      "Age_oldest_parent                                     -206.13***  -1611.20***      -2244.73***     -171.61***                 -1637.16***                           -2201.30***                         \n",
      "                                                      (44.16)     (107.76)         (506.93)        (44.34)                    (107.76)                              (507.85)                            \n",
      "Age_oldest_parent_squared                             0.31        17.47***         16.91***        -0.06                      17.78***                              16.47***                            \n",
      "                                                      (0.48)      (1.32)           (4.41)          (0.48)                     (1.32)                                (4.42)                              \n",
      "Flatten_thresholds_104633_115185[T.True]  -7523.49*** -7017.69*** -3708.65***      -8369.08***     -4038.01***                -2667.39***                           -6953.86***                         \n",
      "                                          (367.74)    (366.87)    (514.79)         (579.18)        (317.76)                   (387.57)                              (550.84)                            \n",
      "Flatten_thresholds_115185_135941[T.True]  -7466.62*** -6896.05*** -3186.16***      -8966.17***     -3875.18***                -2140.51***                           -7440.42***                         \n",
      "                                          (361.85)    (360.52)    (518.75)         (542.80)        (306.43)                   (381.49)                              (510.61)                            \n",
      "Flatten_thresholds_135941_150684[T.True]  -6456.94*** -5844.02*** -1499.32**       -9041.27***     -2739.70***                -385.51                               -7399.35***                         \n",
      "                                          (537.63)    (536.16)    (722.48)         (834.38)        (502.11)                   (634.71)                              (809.95)                            \n",
      "Flatten_thresholds_58291_63233[T.True]    -5399.22*** -5186.81*** -4389.67***      -6975.77***     -5075.18***                -4323.57***                           -6783.65***                         \n",
      "                                          (105.28)    (105.15)    (122.78)         (199.63)        (95.77)                    (112.42)                              (180.11)                            \n",
      "Flatten_thresholds_63233_63530[T.True]    -5806.61*** -5600.72*** -4739.50***      -7029.53***     -5231.68***                -4639.75***                           -6599.85***                         \n",
      "                                          (382.53)    (381.82)    (463.04)         (664.30)        (378.68)                   (462.07)                              (653.77)                            \n",
      "Flatten_thresholds_63530_73516[T.True]    -6564.94*** -6305.48*** -4535.74***      -7817.14***     -4863.62***                -3845.51***                           -7120.85***                         \n",
      "                                          (146.22)    (145.72)    (203.32)         (210.64)        (94.79)                    (112.67)                              (173.81)                            \n",
      "Flatten_thresholds_73516_73806[T.True]    -7736.87*** -7443.14*** -5232.55***      -8473.70***     -5202.89***                -4384.69***                           -7247.78***                         \n",
      "                                          (634.84)    (630.39)    (782.61)         (1095.98)       (617.06)                   (744.73)                              (1097.53)                           \n",
      "Flatten_thresholds_73806_84103[T.True]    -7683.04*** -7363.20*** -4471.97***      -8434.22***     -4418.83***                -3240.00***                           -7035.43***                         \n",
      "                                          (210.34)    (209.42)    (340.98)         (284.29)        (134.36)                   (160.28)                              (244.23)                            \n",
      "Flatten_thresholds_84103_94368[T.True]    -8164.76*** -7783.53*** -4542.31***      -9368.61***     -4719.48***                -3269.88***                           -7933.34***                         \n",
      "                                          (251.56)    (250.33)    (382.41)         (371.44)        (185.70)                   (220.62)                              (338.24)                            \n",
      "Flatten_thresholds_94368_94451[T.True]    -8325.28*** -7989.64*** -4394.80**       -11058.13***    -4743.37***                -3155.80                              -9204.00**                          \n",
      "                                          (1868.30)   (1845.43)   (2082.90)        (3893.08)       (1818.75)                  (2056.41)                             (3827.70)                           \n",
      "Flatten_thresholds_94451_104633[T.True]   -7289.21*** -6854.91*** -3380.03***      -8669.26***     -3849.43***                -2335.58***                           -7196.57***                         \n",
      "                                          (304.50)    (303.07)    (443.63)         (460.92)        (244.60)                   (295.65)                              (430.71)                            \n",
      "Flatten_thresholds_more_then_150684       -8524.53*** -7897.03*** -5433.89***      -7742.40***     -4759.53***                -4281.72***                           -6122.75***                         \n",
      "                                          (492.74)    (492.17)    (671.72)         (767.58)        (451.99)                   (570.52)                              (741.31)                            \n",
      "Intercept                                 6381.12***  16642.69*** 44243.19***      79456.72***     15008.24***                44474.67***                           77943.31***                         \n",
      "                                          (83.26)     (974.81)    (2142.82)        (14519.39)      (978.55)                   (2143.42)                             (14545.40)                          \n",
      "child_1                                   1829.10***  372.77***   228.37           835.26***       1308.19***                 500.70**                              1914.11***                          \n",
      "                                          (127.01)    (140.89)    (203.57)         (220.23)        (125.83)                   (196.42)                              (174.04)                            \n",
      "child_1:Between_threshold_1_child[T.True] 621.81**    622.86**    418.05           1220.30***                                                                                                           \n",
      "                                          (255.94)    (254.93)    (303.27)         (463.16)                                                                                                             \n",
      "child_1:Over_threshold_1_child[T.True]    2292.83***  2446.73***  758.90**         2344.26***                                                                                                           \n",
      "                                          (232.70)    (231.98)    (320.71)         (355.76)                                                                                                             \n",
      "child_2                                   2662.71***  507.79***   975.22***        1051.51***      1825.48***                 1373.02***                            2733.44***                          \n",
      "                                          (95.21)     (123.96)    (181.74)         (223.16)        (119.86)                   (180.93)                              (197.58)                            \n",
      "child_2:Between_threshold_2_child[T.True] 2487.83***  2496.81***  1055.67***       2003.11***                                                                                                           \n",
      "                                          (197.85)    (197.08)    (247.83)         (439.46)                                                                                                             \n",
      "child_2:Over_threshold_2_child[T.True]    4314.50***  4363.41***  1384.89***       4390.63***                                                                                                           \n",
      "                                          (237.59)    (236.47)    (361.13)         (437.08)                                                                                                             \n",
      "child_3                                   4388.28***  2327.52***  2591.99***       2802.67***      3285.18***                 2837.69***                            4177.26***                          \n",
      "                                          (114.56)    (140.43)    (195.14)         (345.29)        (139.83)                   (196.48)                              (320.45)                            \n",
      "child_3:Between_threshold_3_child[T.True] 4234.29***  4224.85***  1639.99***       4106.67***                                                                                                           \n",
      "                                          (316.23)    (315.37)    (417.43)         (792.62)                                                                                                             \n",
      "child_3:Over_threshold_3_child[T.True]    3996.62***  3925.07***  963.63*          3782.80***                                                                                                           \n",
      "                                          (399.75)    (398.68)    (515.61)         (899.48)                                                                                                             \n",
      "child_4                                   6234.57***  4269.46***  4185.14***       4727.57***      4594.74***                 4206.56***                            4142.83***                          \n",
      "                                          (251.00)    (263.74)    (305.47)         (799.01)        (262.96)                   (307.20)                              (742.77)                            \n",
      "child_4:Between_threshold_4_child[T.True] 2780.14***  2706.71***  624.75           -714.76                                                                                                              \n",
      "                                          (754.96)    (752.49)    (838.63)         (2071.70)                                                                                                            \n",
      "child_4:Over_threshold_4_child[T.True]    3120.05***  3032.22***  1090.72          -567.32                                                                                                              \n",
      "                                          (1054.45)   (1052.03)   (1207.15)        (2315.38)                                                                                                            \n",
      "child_5                                   7406.48***  5585.55***  5576.01***       3824.21**       4718.02***                 4515.07***                            3153.96*                            \n",
      "                                          (683.37)    (685.37)    (756.44)         (1582.93)       (673.69)                   (733.50)                              (1858.48)                           \n",
      "child_5:Between_threshold_5_child[T.True] -4147.12*   -4254.87*   -6438.31***      -5152.01                                                                                                             \n",
      "                                          (2194.87)   (2190.66)   (2277.25)        (6620.77)                                                                                                            \n",
      "child_5:Over_threshold_5_child[T.True]    5174.49     4846.13     1654.62          11524.45                                                                                                             \n",
      "                                          (3955.09)   (3961.59)   (4273.65)        (10126.73)                                                                                                           \n",
      "child_6                                   8987.94***  7066.07***  5619.69***       13558.96***     5511.92***                 4180.95***                            11862.73***                         \n",
      "                                          (1373.81)   (1383.14)   (1373.18)        (5189.05)       (1367.75)                  (1411.53)                             (4571.00)                           \n",
      "child_6:Between_threshold_6_child[T.True] -9431.32**  -9655.28**  -12462.56**      -8830.60                                                                                                             \n",
      "                                          (4765.82)   (4834.76)   (5615.84)        (5651.19)                                                                                                            \n",
      "child_6:Over_threshold_6_child[T.True]    -198.49     -727.02     -905.80          -0.00*                                                                                                               \n",
      "                                          (13784.48)  (13843.38)  (13866.75)       (0.00)                                                                                                               \n",
      "adjusted-R2                               4.52%       5.20%       2.72%            6.39%           4.89%                      2.67%                                 6.14%                               \n",
      "N                                         193555      193555      133272           60283           193555                     133272                                60283                               \n",
      "========================================================================================================================================================================================================\n",
      "Standard errors in parentheses.\n",
      "* p<.1, ** p<.05, ***p<.01\n"
     ]
    }
   ],
   "source": [
    "regression_list_name_by_sample_condition = OrderedDict([(\"OLS\",\"(Age_wo>-1)\"), \n",
    "                                           ( \"Age_oldest<=50\",\" (Age_oldest_parent<=50)\"), \n",
    "                                            (\"Age_oldest>50\", \" (Age_oldest_parent>50)\")])\n",
    "\n",
    "regression_fit_list = list()\n",
    "regression_name_list = list()\n",
    "\n",
    "\n",
    "\n",
    "\n",
    "\n",
    "m = sm.OLS.from_formula(\"(Delta_Rbg)~   {} \".format(\n",
    "        ' + '.join(children_number \n",
    "                + children_number + flatten_thresholds_list\n",
    "                + interaction_child_between_threshold + interaction_child_over_threshold)),\n",
    "        df)\n",
    "fit = m.fit(cov_type=\"HC1\")\n",
    "regression_fit_list.append(fit) ; regression_name_list.append(\"OLS\")\n",
    "\n",
    "for name,condition in regression_list_name_by_sample_condition.items():\n",
    "\n",
    "\n",
    "    m = sm.OLS.from_formula(\"(Delta_Rbg)~   {} + Age_oldest_parent+ Age_oldest_parent_squared  \".format(\n",
    "            ' + '.join(children_number \n",
    "                    + children_number + flatten_thresholds_list\n",
    "                    + interaction_child_between_threshold + interaction_child_over_threshold)),\n",
    "            df.query(\" {} \".format(condition)))\n",
    "    fit = m.fit(cov_type=\"HC1\")\n",
    "    regression_fit_list.append(fit) ; regression_name_list.append(name)\n",
    "    \n",
    "for name,condition in regression_list_name_by_sample_condition.items():\n",
    "\n",
    "\n",
    "    m = sm.OLS.from_formula(\"(Delta_Rbg)~   {} + Age_oldest_parent+ Age_oldest_parent_squared  \".format(\n",
    "            ' + '.join(children_number \n",
    "                    + children_number + flatten_thresholds_list)),\n",
    "            df.query(\" {} \".format(condition)))\n",
    "    fit = m.fit(cov_type=\"HC1\")\n",
    "    regression_fit_list.append(fit) ; regression_name_list.append(name+\"_No_treatment_dummies\")\n",
    "\n",
    "\n",
    "print(summary_col(regression_fit_list, stars = True,float_format='%.2f',\n",
    "                  info_dict=info_dict, model_names = regression_name_list))"
   ]
  },
  {
   "cell_type": "markdown",
   "metadata": {},
   "source": [
    "### By type of income"
   ]
  },
  {
   "cell_type": "code",
   "execution_count": 53,
   "metadata": {
    "collapsed": true
   },
   "outputs": [],
   "source": [
    "household_income_var = [\"ZSALM\", \"ZCHOM\", \"ZRSTM\",\"ZRAGM\",\"ZRICM\",\"ZRNCM\",]\n",
    "for var in household_income_var:\n",
    "        df[\"Delta_{}\".format(var)] = df[\"{}_2014\".format(var)] - df[\"{}_2011\".format(var)]"
   ]
  },
  {
   "cell_type": "code",
   "execution_count": 54,
   "metadata": {
    "scrolled": false
   },
   "outputs": [
    {
     "name": "stdout",
     "output_type": "stream",
     "text": [
      "\n",
      "==========================================================================================================================================================================================================================================================================================================\n",
      "                                          Delta_ZSALM  Delta_YSALI_me Delta_YSALI_wo Delta_ZCHOM  Delta_YCHOI_me Delta_YCHOI_wo  Delta_ZRSTM  Delta_YRSTI_me Delta_YRSTI_wo Delta_ZRAGM Delta_YRAGI_me Delta_YRAGI_wo Delta_ZRICM Delta_YBICI_me Delta_YBICI_wo Delta_ZRNCM  Delta_YBNCI_me Delta_YBNCI_wo\n",
      "----------------------------------------------------------------------------------------------------------------------------------------------------------------------------------------------------------------------------------------------------------------------------------------------------------\n",
      "Intercept                                 457156.30*** 366930.37***   108846.88***   -52521.87*** -32137.81***   -14944.84***   -237719.49*** -215042.59***  -68883.77***   -7210.71**  -2488.11       -3065.72       10440.06*   17578.37***    -4611.44       -40849.50*** -37378.74***   -2944.47      \n",
      "                                          (19584.35)   (18780.25)     (11551.19)     (7225.67)    (6247.19)      (3426.15)      (11972.72)    (10785.23)     (6351.70)      (3429.83)   (3029.84)      (2180.76)      (5530.19)   (5558.98)      (3128.62)      (7365.34)    (7683.87)      (4861.62)     \n",
      "Flatten_thresholds_58291_63233[T.True]    -6499.97***  -4296.15***    -2271.74***    88.21        120.08         7.66           787.75***     750.93***      139.94         -280.25***  -208.29***     -73.71***      -469.25***  -343.19***     -98.68***      -300.17***   -206.83***     -117.31***    \n",
      "                                          (292.77)     (259.99)       (186.16)       (108.35)     (91.35)        (56.43)        (196.13)      (169.42)       (113.87)       (52.04)     (45.20)        (28.61)        (71.53)     (72.56)        (36.43)        (64.75)      (61.33)        (45.51)       \n",
      "Flatten_thresholds_63233_63530[T.True]    -7639.44***  -5404.78***    -2635.55***    589.74*      232.50         379.69*        726.98        684.57         127.16         -45.12      -182.25        -178.11**      -171.54     93.52          -80.65         -374.66      -286.76        -277.50       \n",
      "                                          (1067.63)    (954.65)       (667.36)       (322.49)     (253.04)       (195.94)       (781.33)      (674.59)       (349.48)       (151.02)    (219.85)       (79.67)        (212.44)    (230.94)       (126.01)       (229.12)     (229.19)       (187.06)      \n",
      "Flatten_thresholds_63530_73516[T.True]    -8298.79***  -6106.51***    -2187.06***    19.81        16.12          -9.81          2372.12***    2034.98***     399.18***      -336.56***  -166.69***     -121.04***     -846.72***  -701.72***     -143.99***     -669.36***   -501.16***     -214.56***    \n",
      "                                          (309.80)     (280.80)       (181.81)       (114.43)     (100.29)       (52.81)        (204.17)      (179.26)       (112.51)       (51.40)     (46.03)        (33.56)        (88.77)     (84.52)        (48.29)        (83.79)      (87.53)        (51.80)       \n",
      "Flatten_thresholds_73516_73806[T.True]    -9998.00***  -8813.38***    -2208.81**     798.75       835.03*        11.70          3129.46***    2910.87***     673.48         -581.32**   -470.75*       -339.51**      -757.31     -332.27        -407.17        -838.51*     -1059.68**     378.08        \n",
      "                                          (1689.60)    (1640.87)      (896.67)       (538.45)     (446.38)       (217.57)       (1040.12)     (948.62)       (559.07)       (271.46)    (266.06)       (146.64)       (479.70)    (332.43)       (346.92)       (436.84)     (511.23)       (463.87)      \n",
      "Flatten_thresholds_73806_84103[T.True]    -10585.27*** -8128.62***    -2858.41***    331.41**     207.69         117.63*        3813.29***    3225.56***     667.16***      -327.89***  -232.14***     -123.55***     -845.09***  -766.34***     -66.57         -1001.12***  -729.67***     -391.90***    \n",
      "                                          (416.10)     (383.76)       (234.93)       (145.52)     (128.77)       (66.37)        (268.54)      (233.65)       (140.37)       (71.74)     (64.61)        (35.53)        (115.65)    (114.63)       (52.90)        (127.15)     (135.17)       (86.09)       \n",
      "Flatten_thresholds_84103_94368[T.True]    -11363.60*** -7908.89***    -3470.60***    403.71*      191.23         192.97**       4027.11***    3190.45***     777.81***      -452.01***  -269.61***     -155.81***     -843.72***  -811.79***     -8.26          -1414.73***  -1357.92***    -240.00**     \n",
      "                                          (557.30)     (504.64)       (308.21)       (207.79)     (184.34)       (93.73)        (329.09)      (290.58)       (169.81)       (89.14)     (82.39)        (55.57)        (142.77)    (148.20)       (68.15)        (181.16)     (184.01)       (109.77)      \n",
      "Flatten_thresholds_94368_94451[T.True]    -15120.24*** -12546.02**    -1621.99       2526.66      1963.89        648.90         3595.83       1695.57        -303.15        -299.00***  -150.17***     -128.71***     -1798.62    -1674.15       -12.50         -414.82      -434.62***     230.99        \n",
      "                                          (5351.18)    (5688.03)      (2675.23)      (2054.49)    (1474.33)      (602.92)       (4242.14)     (4314.75)      (2767.06)      (52.42)     (46.19)        (30.54)        (1520.97)   (1523.82)      (45.49)        (472.65)     (140.03)       (457.91)      \n",
      "Flatten_thresholds_94451_104633[T.True]   -11828.81*** -9563.88***    -2484.97***    831.19***    663.41***      111.43         4262.03***    3577.65***     732.50***      -499.78***  -286.18***     -244.30***     -805.08***  -725.49***     -118.77        -1478.68***  -1175.21***    -536.05***    \n",
      "                                          (703.73)     (669.84)       (367.94)       (254.89)     (222.08)       (122.73)       (401.31)      (347.70)       (189.48)       (103.00)    (89.11)        (65.55)        (167.66)    (168.66)       (87.40)        (268.25)     (281.38)       (150.52)      \n",
      "Flatten_thresholds_104633_115185[T.True]  -11879.60*** -10353.80***   -2244.44***    857.68***    550.34**       256.32*        4717.34***    4095.85***     584.78***      -538.06***  -482.21***     -177.61*       -881.56***  -821.27***     -243.95**      -1342.32***  -1420.21***    -546.70***    \n",
      "                                          (872.60)     (835.92)       (429.41)       (321.17)     (277.54)       (135.13)       (492.87)      (432.02)       (206.71)       (135.19)    (146.59)       (93.75)        (191.09)    (197.22)       (114.69)       (312.59)     (341.74)       (196.57)      \n",
      "Flatten_thresholds_115185_135941[T.True]  -11831.21*** -10365.59***   -2917.67***    1070.18***   837.45***      182.47         4591.15***    3776.86***     635.07***      -422.06***  -186.02*       -213.30**      -885.26***  -703.03***     -168.09        -2156.73***  -2202.02***    -1043.92***   \n",
      "                                          (817.21)     (800.84)       (450.30)       (288.70)     (248.21)       (131.66)       (468.13)      (402.97)       (226.13)       (114.54)    (105.64)       (89.60)        (205.74)    (180.41)       (129.62)       (343.54)     (396.18)       (227.40)      \n",
      "Flatten_thresholds_135941_150684[T.True]  -10798.45*** -8840.67***    -3326.79***    902.05**     341.07         380.86**       4308.86***    4031.77***     389.03         -274.22     -244.56*       -40.07         -1398.21*** -971.10**      -666.42**      -2069.81***  -2207.04***    -1294.11***   \n",
      "                                          (1162.29)    (1231.23)      (689.73)       (356.76)     (294.74)       (170.63)       (657.17)      (569.48)       (294.10)       (191.27)    (135.63)       (183.22)       (407.20)    (391.21)       (295.87)       (560.78)     (641.77)       (387.93)      \n",
      "child_1                                   3111.00***   586.64**       1261.87***     155.35       -24.76         152.95***      -2422.14***   -806.87***     -1180.15***    1.94        56.32          -27.83         203.70***   221.88***      7.75           77.06        -65.60         153.55***     \n",
      "                                          (267.96)     (240.19)       (174.48)       (96.13)      (80.00)        (48.88)        (161.00)      (138.82)       (82.61)        (52.50)     (47.93)        (23.05)        (74.22)     (74.67)        (44.72)        (70.57)      (58.33)        (54.82)       \n",
      "child_1:Between_threshold_1_child[T.True] 1940.58***   1563.31***     803.12**       -176.42      -107.34        -121.01        -190.81       -492.18*       118.89         8.37        34.69          0.87           -103.84     -192.23        104.82         -138.44      -91.14         -85.24        \n",
      "                                          (636.93)     (589.76)       (396.93)       (236.47)     (211.60)       (104.13)       (363.23)      (296.87)       (199.05)       (89.98)     (79.89)        (43.01)        (158.09)    (162.61)       (78.54)        (159.30)     (163.43)       (93.88)       \n",
      "child_1:Over_threshold_1_child[T.True]    3942.33***   2713.56***     1425.85***     -242.01      -135.79        -102.43        -2110.03***   -1787.46***    -414.33***     77.22       -20.78         82.70*         213.70      122.95         -9.19          392.58**     149.18         -86.70        \n",
      "                                          (488.78)     (469.58)       (294.91)       (183.39)     (157.54)       (86.39)        (281.57)      (245.21)       (135.67)       (83.17)     (78.30)        (49.95)        (131.79)    (128.82)       (86.97)        (175.68)     (188.60)       (130.73)      \n",
      "child_2                                   3146.76***   349.12         2221.34***     -273.55**    -261.81***     -50.04         -2235.74***   -516.33***     -1262.17***    61.23       132.98**       -44.14*        392.42***   333.55***      46.39          -5.08        -76.30         106.26*       \n",
      "                                          (270.48)     (265.17)       (185.78)       (106.95)     (91.54)        (52.66)        (150.56)      (132.22)       (66.78)        (59.40)     (54.90)        (23.10)        (78.53)     (81.37)        (46.80)        (80.56)      (76.59)        (62.45)       \n",
      "child_2:Between_threshold_2_child[T.True] 3602.67***   2439.08***     1282.98***     389.19       430.93**       -20.35         -1983.23***   -1773.42***    -316.72**      43.58       -98.22         126.75***      444.54***   371.41**       133.45         -15.21       107.40         -247.19*      \n",
      "                                          (586.64)     (584.23)       (360.84)       (247.22)     (214.20)       (117.39)       (309.48)      (277.70)       (146.28)       (101.88)    (85.90)        (46.96)        (156.58)    (154.97)       (81.47)        (175.71)     (148.85)       (144.54)      \n",
      "child_2:Over_threshold_2_child[T.True]    7413.00***   5576.61***     1599.87***     -164.23      -27.50         -44.73         -3696.97***   -3165.97***    -550.43***     154.87*     58.13          147.48***      116.91      96.44          -37.79         1131.91***   563.85**       313.62*       \n",
      "                                          (574.49)     (581.26)       (355.13)       (221.53)     (185.18)       (114.53)       (303.51)      (268.19)       (134.46)       (88.35)     (82.01)        (45.00)        (162.25)    (167.21)       (105.10)       (244.48)     (266.35)       (178.42)      \n",
      "child_3                                   5074.08***   1669.92***     2854.40***     -226.09      -234.54        -22.19         -2474.36***   -1066.14***    -1034.77***    -28.36      -92.43         59.99          483.59***   428.32***      116.62**       157.78       -30.72         217.54***     \n",
      "                                          (407.46)     (422.76)       (268.57)       (166.30)     (143.64)       (68.65)        (209.44)      (178.01)       (89.37)        (75.21)     (84.93)        (47.45)        (114.55)    (119.44)       (48.28)        (133.87)     (129.06)       (75.03)       \n",
      "child_3:Between_threshold_3_child[T.True] 5956.30***   4783.65***     1888.72***     -165.69      136.61         -182.20        -2688.16***   -2176.65***    -390.09**      200.59      254.08         7.50           350.15      434.26**       -102.29        715.24*      626.52         152.10        \n",
      "                                          (928.66)     (986.37)       (564.39)       (411.12)     (386.04)       (138.27)       (436.79)      (369.80)       (193.98)       (174.55)    (157.78)       (72.57)        (216.45)    (221.13)       (70.02)        (380.96)     (381.62)       (305.08)      \n",
      "child_3:Over_threshold_3_child[T.True]    5604.46***   4725.13***     150.25         -511.00      -273.45        -59.36         -3162.91***   -2734.65***    -283.27        321.36*     240.60         108.92         459.62      340.66         4.23           2200.66***   805.16         848.07*       \n",
      "                                          (1062.48)    (1253.78)      (646.19)       (421.42)     (385.70)       (177.37)       (495.06)      (423.48)       (233.31)       (186.19)    (203.11)       (77.77)        (364.10)    (361.72)       (196.31)       (655.33)     (778.51)       (446.38)      \n",
      "child_4                                   6964.61***   3971.52***     3332.44***     -233.15      -255.14        39.56          -2978.80***   -1300.75***    -1152.09***    279.51      389.37         22.19          688.61**    596.63**       155.93         550.31*      233.97         353.63        \n",
      "                                          (1026.93)    (973.90)       (583.74)       (440.10)     (422.15)       (106.07)       (387.67)      (313.26)       (175.77)       (218.76)    (305.35)       (34.42)        (273.41)    (264.94)       (99.80)        (307.86)     (237.64)       (224.36)      \n",
      "child_4:Between_threshold_4_child[T.True] 555.93       -2525.56       552.13         -780.15      -9.94          -663.06***     -2153.83**    -1720.11**     -404.94        -212.35     -422.37        163.43         162.83      495.76         -243.77        1797.65*     687.54         69.85         \n",
      "                                          (2503.98)    (3024.73)      (1557.47)      (1204.05)    (1182.98)      (246.19)       (923.51)      (871.38)       (271.91)       (572.06)    (559.52)       (107.74)       (400.90)    (345.88)       (216.26)       (1074.22)    (1573.25)      (447.71)      \n",
      "child_4:Over_threshold_4_child[T.True]    4365.59      2289.72        3997.99**      421.63       984.50         -531.41*       -3184.96***   -2230.34**     -347.90        407.53      -5.87          315.72*        -1786.81    -478.66        -1192.02       2552.21**    464.24         1739.03*      \n",
      "                                          (3037.80)    (3484.33)      (2021.84)      (1168.81)    (1119.17)      (306.18)       (731.66)      (1067.61)      (271.86)       (331.22)    (357.12)       (182.02)       (1465.83)   (529.44)       (1371.55)      (1189.45)    (1662.47)      (916.94)      \n",
      "child_5                                   6936.23***   -2529.82       5807.94***     689.64       1475.58        -266.77        -3972.95***   -1774.45**     -853.23*       4.42        57.06*         -7.81          648.74**    1063.07***     -145.29        505.29       504.88         15.77         \n",
      "                                          (1757.99)    (2725.84)      (1216.83)      (709.81)     (993.23)       (301.54)       (750.36)      (886.81)       (461.93)       (38.71)     (33.68)        (19.93)        (266.55)    (327.69)       (184.56)       (319.31)     (319.84)       (120.78)      \n",
      "child_5:Between_threshold_5_child[T.True] 9458.85*     24230.16**     523.83         -7994.77*    -9048.11*      680.08         -2414.52*     -2132.86       -1000.14*      -201.63     217.29***      -365.18        143.09      574.97         -738.96        888.15       3909.77        -2126.65      \n",
      "                                          (5724.98)    (12294.00)     (2097.06)      (4689.83)    (4633.66)      (745.87)       (1315.20)     (1346.43)      (523.58)       (469.93)    (82.67)        (487.57)       (2548.42)   (2169.45)      (1048.67)      (4392.29)    (3459.61)      (2668.29)     \n",
      "child_5:Over_threshold_5_child[T.True]    9952.48      -10499.78      -2363.20       -2005.19***  -2396.79**     79.72          -1530.20      -1985.32       -456.72        324.92**    183.18         132.35         518.73      -224.41        756.17***      7158.37**    5321.75        3921.57*      \n",
      "                                          (6266.64)    (26600.60)     (1699.57)      (752.93)     (1018.86)      (337.00)       (1951.55)     (1467.98)      (706.02)       (147.38)    (118.13)       (105.94)       (378.75)    (417.78)       (274.44)       (3439.27)    (3821.47)      (2206.58)     \n",
      "child_6                                   11926.09*    -423.51        9791.74***     2267.38      2146.75        228.41         -3618.99***   -1934.72*      -1132.41***    -946.68     -948.06        42.70          443.81*     444.88**       53.97          3924.98      -770.24        4104.30       \n",
      "                                          (6676.63)    (6949.80)      (3181.77)      (2462.38)    (2453.46)      (377.87)       (1082.76)     (1091.30)      (419.82)       (1019.86)   (1023.10)      (32.83)        (226.89)    (225.51)       (40.47)        (4797.47)    (2977.78)      (3172.55)     \n",
      "child_6:Between_threshold_6_child[T.True] -391.21      13812.78       -7006.35**     2690.28      3341.24        -580.41        -2609.97      -2411.40       -241.59        1149.72     1180.44        17.31          635.55**    473.27*        293.28         -2509.50     2428.72        -3230.86      \n",
      "                                          (12266.89)   (11959.22)     (3278.39)      (5744.10)    (5714.19)      (386.43)       (1957.41)     (1514.59)      (651.95)       (1025.52)   (1029.07)      (90.63)        (302.59)    (272.52)       (179.46)       (4810.77)    (2999.88)      (3183.39)     \n",
      "child_6:Over_threshold_6_child[T.True]    -0.00        0.00           -0.00**        0.00         0.00           -0.00*         -0.00         -0.00          0.00           0.00        0.00           0.00           0.00**      0.00*          0.00           -0.00        0.00           -0.00         \n",
      "                                          (0.00)       (0.00)         (0.00)         (0.00)       (0.00)         (0.00)         (0.00)        (0.00)         (0.00)         (0.00)      (0.00)         (0.00)         (0.00)      (0.00)         (0.00)         (0.00)       (0.00)         (0.00)        \n",
      "Flatten_thresholds_more_then_150684       -8256.20***  -8886.26***    -1688.67***    1111.31***   976.42***      24.73          3816.63***    3430.87***     598.57**       -642.92***  -336.75**      -280.56***     -1044.62*** -693.73**      -585.57**      -4036.10***  -4490.47***    -1882.15***   \n",
      "                                          (1064.76)    (1127.86)      (619.43)       (308.71)     (240.44)       (184.00)       (605.90)      (534.21)       (235.11)       (162.37)    (157.63)       (99.62)        (336.07)    (327.06)       (262.91)       (620.13)     (700.61)       (477.17)      \n",
      "Age_oldest_parent                         -14853.32*** -12262.07***   -3541.92***    1955.14***   1215.13***     546.18***      7463.76***    7027.32***     2198.00***     270.84**    93.40          115.78         -364.26*    -618.60***     167.35         1516.75***   1375.76***     115.76        \n",
      "                                          (686.59)     (655.55)       (403.42)       (252.25)     (218.07)       (119.58)       (423.55)      (382.18)       (225.40)       (119.86)    (105.61)       (76.23)        (193.01)    (193.99)       (109.11)       (257.68)     (268.95)       (168.11)      \n",
      "Age_oldest_parent_squared                 118.81***    100.98***      27.91***       -18.02***    -11.39***      -4.95***       -55.35***     -55.71***      -16.58***      -2.47**     -0.85          -1.06          3.14*       5.37***        -1.51          -13.90***    -12.53***      -1.10         \n",
      "                                          (5.99)       (5.70)         (3.51)         (2.19)       (1.89)         (1.04)         (3.73)        (3.37)         (1.99)         (1.04)      (0.92)         (0.66)         (1.68)      (1.69)         (0.95)         (2.25)       (2.35)         (1.45)        \n",
      "adjusted-R2                               11.72%       5.39%          3.74%          0.54%        0.43%          0.11%          15.26%        7.52%          5.06%          0.22%       0.12%          0.07%          0.49%       0.37%          0.13%          1.17%        1.06%          0.47%         \n",
      "N                                         60283        60283          60283          60283        60283          60283          60283         60283          60283          60283       60283          60283          60283       60283          60283          60283        60283          60283         \n",
      "==========================================================================================================================================================================================================================================================================================================\n",
      "Standard errors in parentheses.\n",
      "* p<.1, ** p<.05, ***p<.01\n"
     ]
    }
   ],
   "source": [
    "### TODO: RLM (on all tables)\n",
    "\n",
    "\n",
    "individualized_income_var = [ 'YSALI', 'YCHOI', 'YRSTI', # Salaire, chomage, retraite\n",
    "                             'YRAGI', 'YBICI', 'YBNCI',# Benefices Agricoles, Benefices industriels et commerciaux, Benefices non commerciaux\n",
    "                            ] \n",
    "#From individualized income\n",
    "for parent in [\"me\", \"wo\"]:\n",
    "    for var in individualized_income_var:\n",
    "        df[\"Delta_{}_{}\".format(var, parent)] = df[\"{}_{}_2014\".format(var,parent)] - df[\"{}_{}_2011\".format(var, parent)]\n",
    "\n",
    "regression_fit_list = list()\n",
    "regression_name_list = list()\n",
    "for var in individualized_income_var[:6]:\n",
    "    \n",
    "    endogenous_var = \"Delta_{}\".format(\"Z\"+var[1:-1]+\"M\")\n",
    "    if endogenous_var == \"Delta_ZBICM\": endogenous_var = \"Delta_ZRICM\"\n",
    "    if endogenous_var == \"Delta_ZBNCM\": endogenous_var = \"Delta_ZRNCM\"\n",
    "    m = sm.OLS.from_formula(\"({})~   {}  + Age_oldest_parent+ Age_oldest_parent_squared \".format(endogenous_var,\n",
    "            ' + '.join(children_number \n",
    "                    + children_number + flatten_thresholds_list\n",
    "                    + interaction_child_between_threshold + interaction_child_over_threshold)),\n",
    "            df.query(\" {} \".format(condition)))\n",
    "    fit = m.fit(cov_type=\"HC1\")\n",
    "    regression_fit_list.append(fit)\n",
    "\n",
    "    for parent in [\"me\", \"wo\"]:\n",
    "        endogenous_var = \"Delta_{}_{}\".format(var, parent)\n",
    "        m = sm.OLS.from_formula(\"({})~   {}  + Age_oldest_parent+ Age_oldest_parent_squared \".format(endogenous_var,\n",
    "            ' + '.join(children_number \n",
    "                    + children_number + flatten_thresholds_list\n",
    "                    + interaction_child_between_threshold + interaction_child_over_threshold)),\n",
    "            df.query(\" {} \".format(condition)))\n",
    "        fit = m.fit(cov_type=\"HC1\")\n",
    "        regression_fit_list.append(fit)\n",
    "\n",
    "print(summary_col(regression_fit_list, stars = True,float_format='%.2f',\n",
    "                  info_dict=info_dict))\n",
    "\n",
    "\n"
   ]
  },
  {
   "cell_type": "code",
   "execution_count": null,
   "metadata": {
    "collapsed": true
   },
   "outputs": [],
   "source": []
  },
  {
   "cell_type": "code",
   "execution_count": 55,
   "metadata": {},
   "outputs": [],
   "source": [
    "###For Delta ZIMPOM\n",
    "for child in range(1, nb_enf_max_for_annalysis+1):\n",
    "    df[\n",
    "        \"Interactions_rbg_child{}_between\".format(child)\n",
    "            ] = df.eval(\"Delta_Rbg*child_{}*Between_threshold_{}_child\".format(child, child))\n",
    "    df[\"Interactions_child{}_between\".format(child)\n",
    "                     ] = df.eval(\"child_{}*Between_threshold_{}_child\".format(child, child))\n",
    "    df[\"Interactions_rbg_child{}_over\".format(child)\n",
    "                     ] = df.eval(\"Delta_Rbg*child_{}*Over_threshold_{}_child\".format(child, child))\n",
    "    df[\"Interactions_child{}_over\".format(child)\n",
    "                     ] = df.eval(\"child_{}*Over_threshold_{}_child\".format(child, child))\n",
    "interactions_rbg_between = [\"Interactions_rbg_child{}_between\".format(child) for child in range(1,7)]\n",
    "interactions_child_between = [\"Interactions_child{}_between\".format(child) for child in range(1,7)]\n",
    "interactions_rbg_over = [\"Interactions_rbg_child{}_over\".format(child) for child in range(1,7)]\n",
    "interactions_child_over = [\"Interactions_child{}_over\".format(child) for child in range(1,7)]\n"
   ]
  },
  {
   "cell_type": "markdown",
   "metadata": {},
   "source": [
    "### Extensive margin"
   ]
  },
  {
   "cell_type": "code",
   "execution_count": 56,
   "metadata": {},
   "outputs": [
    {
     "name": "stdout",
     "output_type": "stream",
     "text": [
      "0    0.979964\n",
      "1    0.020036\n",
      "dtype: float64\n",
      "0    0.990297\n",
      "1    0.009703\n",
      "dtype: float64\n"
     ]
    }
   ],
   "source": [
    "df[\"Wo_start_working\"] = (\n",
    "    ((df[\"YSALI_wo_2011\"]+df[\"YBICI_wo_2011\"]+df[\"YBNCI_wo_2011\"])<2000)\n",
    "    &((df[\"YSALI_wo_2014\"]+df[\"YBICI_wo_2014\"]+df[\"YBNCI_wo_2014\"])>10000)\n",
    "    ).astype(\"int\")\n",
    "\n",
    "df[\"Me_start_working\"] = (\n",
    "    ((df[\"YSALI_me_2011\"]+df[\"YBICI_me_2011\"]+df[\"YBNCI_me_2011\"])<2000)\n",
    "    &((df[\"YSALI_me_2014\"]+df[\"YBICI_me_2014\"]+df[\"YBNCI_me_2014\"])>10000)\n",
    "    ).astype(\"int\")\n",
    "\n",
    "print df[\"Wo_start_working\"].value_counts(normalize = True)\n",
    "print df[\"Me_start_working\"].value_counts(normalize = True)"
   ]
  },
  {
   "cell_type": "code",
   "execution_count": 57,
   "metadata": {},
   "outputs": [
    {
     "name": "stdout",
     "output_type": "stream",
     "text": [
      "0    0.935491\n",
      "1    0.064509\n",
      "dtype: float64\n",
      "1    0.770122\n",
      "0    0.229878\n",
      "dtype: float64\n"
     ]
    }
   ],
   "source": [
    "df[\"Wo_stop_working_not_retired\"] = (\n",
    "    ((df[\"YSALI_wo_2011\"]+df[\"YBICI_wo_2011\"]+df[\"YBNCI_wo_2011\"])>10000)\n",
    "    &((df[\"YSALI_wo_2014\"]+df[\"YBICI_wo_2014\"]+df[\"YBNCI_wo_2014\"])<2000)\n",
    "    &(reg_df_same_NBPAC[\"YRSTI_wo_2014\"]<6000)\n",
    "    ).astype(\"int\")\n",
    "\n",
    "df[\"Me_stop_working_not_retired\"] = (\n",
    "    ((df[\"YSALI_me_2011\"]+df[\"YBICI_me_2011\"]+df[\"YBNCI_me_2011\"])>10000)\n",
    "    &((df[\"YSALI_me_2014\"]+df[\"YBICI_me_2014\"]+df[\"YBNCI_me_2014\"])>2000)\n",
    "    &(reg_df_same_NBPAC[\"YRSTI_me_2014\"]<6000)\n",
    "    ).astype(\"int\")\n",
    "print df[\"Wo_stop_working_not_retired\"].value_counts(normalize = True)\n",
    "print df[\"Me_stop_working_not_retired\"].value_counts(normalize = True)"
   ]
  },
  {
   "cell_type": "code",
   "execution_count": 58,
   "metadata": {},
   "outputs": [
    {
     "name": "stdout",
     "output_type": "stream",
     "text": [
      "0    0.970298\n",
      "1    0.029702\n",
      "dtype: float64\n",
      "0    0.955191\n",
      "1    0.044809\n",
      "dtype: float64\n"
     ]
    }
   ],
   "source": [
    "df[\"Wo_get_retired\"] = ((df[\"YRSTI_wo_2011\"]<2000) & (df[\"YRSTI_wo_2014\"]>6000)).astype(\"int\")\n",
    "\n",
    "df[\"Me_get_retired\"] = (((df[\"YRSTI_me_2011\"]<2000) & (df[\"YRSTI_me_2014\"]>6000))                               \n",
    "                                           ).astype(\"int\")\n",
    "print df[\"Wo_get_retired\"].value_counts(normalize = True)\n",
    "print df[\"Me_get_retired\"].value_counts(normalize = True)\n"
   ]
  },
  {
   "cell_type": "code",
   "execution_count": 59,
   "metadata": {
    "scrolled": false
   },
   "outputs": [
    {
     "name": "stdout",
     "output_type": "stream",
     "text": [
      "                            OLS Regression Results                            \n",
      "==============================================================================\n",
      "Dep. Variable:         Me_get_retired   R-squared:                       0.117\n",
      "Model:                            OLS   Adj. R-squared:                  0.117\n",
      "Method:                 Least Squares   F-statistic:                     297.1\n",
      "Date:                Sun, 10 Mar 2019   Prob (F-statistic):               0.00\n",
      "Time:                        11:45:47   Log-Likelihood:                 41839.\n",
      "No. Observations:              192640   AIC:                        -8.362e+04\n",
      "Df Residuals:                  192610   BIC:                        -8.331e+04\n",
      "Df Model:                          29                                         \n",
      "Covariance Type:                  HC1                                         \n",
      "=============================================================================================================\n",
      "                                                coef    std err          z      P>|z|      [95.0% Conf. Int.]\n",
      "-------------------------------------------------------------------------------------------------------------\n",
      "Intercept                                     0.3897      0.013     29.377      0.000         0.364     0.416\n",
      "Flatten_thresholds_58291_63233[T.True]       -0.0005      0.002     -0.284      0.777        -0.004     0.003\n",
      "Flatten_thresholds_63233_63530[T.True]       -0.0040      0.006     -0.719      0.472        -0.015     0.007\n",
      "Flatten_thresholds_63530_73516[T.True]        0.0149      0.003      5.564      0.000         0.010     0.020\n",
      "Flatten_thresholds_73516_73806[T.True]        0.0165      0.008      1.974      0.048         0.000     0.033\n",
      "Flatten_thresholds_73806_84103[T.True]        0.0210      0.004      5.936      0.000         0.014     0.028\n",
      "Flatten_thresholds_84103_94368[T.True]        0.0196      0.004      5.087      0.000         0.012     0.027\n",
      "Flatten_thresholds_94368_94451[T.True]        0.0033      0.014      0.230      0.818        -0.025     0.031\n",
      "Flatten_thresholds_94451_104633[T.True]       0.0214      0.004      5.141      0.000         0.013     0.030\n",
      "Flatten_thresholds_104633_115185[T.True]      0.0179      0.004      4.000      0.000         0.009     0.027\n",
      "Flatten_thresholds_115185_135941[T.True]      0.0136      0.004      3.198      0.001         0.005     0.022\n",
      "Flatten_thresholds_135941_150684[T.True]      0.0104      0.005      2.066      0.039         0.001     0.020\n",
      "child_1                                      -0.0338      0.002    -13.723      0.000        -0.039    -0.029\n",
      "child_1:Between_threshold_1_child[T.True]    -0.0016      0.004     -0.448      0.654        -0.009     0.006\n",
      "child_1:Over_threshold_1_child[T.True]       -0.0196      0.003     -5.716      0.000        -0.026    -0.013\n",
      "child_2                                      -0.0301      0.002    -13.646      0.000        -0.034    -0.026\n",
      "child_2:Between_threshold_2_child[T.True]    -0.0214      0.003     -7.575      0.000        -0.027    -0.016\n",
      "child_2:Over_threshold_2_child[T.True]       -0.0290      0.003     -8.543      0.000        -0.036    -0.022\n",
      "child_3                                      -0.0344      0.002    -15.159      0.000        -0.039    -0.030\n",
      "child_3:Between_threshold_3_child[T.True]    -0.0258      0.004     -7.346      0.000        -0.033    -0.019\n",
      "child_3:Over_threshold_3_child[T.True]       -0.0256      0.004     -7.109      0.000        -0.033    -0.019\n",
      "child_4                                      -0.0377      0.003    -13.810      0.000        -0.043    -0.032\n",
      "child_4:Between_threshold_4_child[T.True]    -0.0256      0.004     -5.963      0.000        -0.034    -0.017\n",
      "child_4:Over_threshold_4_child[T.True]       -0.0239      0.004     -5.689      0.000        -0.032    -0.016\n",
      "Flatten_thresholds_more_then_150684           0.0067      0.004      1.500      0.134        -0.002     0.016\n",
      "Age_wo                                       -0.0017      0.001     -2.893      0.004        -0.003    -0.001\n",
      "Age_me                                       -0.0186      0.001    -24.694      0.000        -0.020    -0.017\n",
      "Age_wo_squared                             2.693e-05   7.13e-06      3.777      0.000       1.3e-05  4.09e-05\n",
      "Age_me_squared                                0.0003   8.65e-06     29.521      0.000         0.000     0.000\n",
      "Age_Elder_child                              -0.0002   8.54e-05     -2.732      0.006        -0.000 -6.59e-05\n",
      "==============================================================================\n",
      "Omnibus:                   140949.981   Durbin-Watson:                   1.999\n",
      "Prob(Omnibus):                  0.000   Jarque-Bera (JB):          1865948.349\n",
      "Skew:                           3.569   Prob(JB):                         0.00\n",
      "Kurtosis:                      16.473   Cond. No.                     1.65e+05\n",
      "==============================================================================\n",
      "\n",
      "Warnings:\n",
      "[1] Standard Errors are heteroscedasticity robust (HC1)\n",
      "[2] The condition number is large, 1.65e+05. This might indicate that there are\n",
      "strong multicollinearity or other numerical problems.\n",
      "                            OLS Regression Results                            \n",
      "==============================================================================\n",
      "Dep. Variable:         Wo_get_retired   R-squared:                       0.094\n",
      "Model:                            OLS   Adj. R-squared:                  0.094\n",
      "Method:                 Least Squares   F-statistic:                     188.6\n",
      "Date:                Sun, 10 Mar 2019   Prob (F-statistic):               0.00\n",
      "Time:                        11:45:48   Log-Likelihood:                 77469.\n",
      "No. Observations:              192640   AIC:                        -1.549e+05\n",
      "Df Residuals:                  192610   BIC:                        -1.546e+05\n",
      "Df Model:                          29                                         \n",
      "Covariance Type:                  HC1                                         \n",
      "=============================================================================================================\n",
      "                                                coef    std err          z      P>|z|      [95.0% Conf. Int.]\n",
      "-------------------------------------------------------------------------------------------------------------\n",
      "Intercept                                     0.3532      0.012     29.870      0.000         0.330     0.376\n",
      "Flatten_thresholds_58291_63233[T.True]       -0.0018      0.001     -1.236      0.216        -0.005     0.001\n",
      "Flatten_thresholds_63233_63530[T.True]       -0.0059      0.004     -1.314      0.189        -0.015     0.003\n",
      "Flatten_thresholds_63530_73516[T.True]        0.0021      0.002      0.923      0.356        -0.002     0.006\n",
      "Flatten_thresholds_73516_73806[T.True]       -0.0012      0.006     -0.198      0.843        -0.014     0.011\n",
      "Flatten_thresholds_73806_84103[T.True]        0.0040      0.003      1.324      0.185        -0.002     0.010\n",
      "Flatten_thresholds_84103_94368[T.True]        0.0026      0.003      0.795      0.427        -0.004     0.009\n",
      "Flatten_thresholds_94368_94451[T.True]       -0.0145      0.005     -2.766      0.006        -0.025    -0.004\n",
      "Flatten_thresholds_94451_104633[T.True]       0.0031      0.003      0.907      0.364        -0.004     0.010\n",
      "Flatten_thresholds_104633_115185[T.True]      0.0018      0.004      0.481      0.630        -0.006     0.009\n",
      "Flatten_thresholds_115185_135941[T.True]     -0.0034      0.004     -0.974      0.330        -0.010     0.003\n",
      "Flatten_thresholds_135941_150684[T.True]     -0.0026      0.004     -0.611      0.541        -0.011     0.006\n",
      "child_1                                      -0.0260      0.002    -13.563      0.000        -0.030    -0.022\n",
      "child_1:Between_threshold_1_child[T.True]    -0.0012      0.003     -0.450      0.653        -0.007     0.004\n",
      "child_1:Over_threshold_1_child[T.True]       -0.0092      0.003     -3.389      0.001        -0.015    -0.004\n",
      "child_2                                      -0.0184      0.002    -10.866      0.000        -0.022    -0.015\n",
      "child_2:Between_threshold_2_child[T.True]    -0.0067      0.002     -2.890      0.004        -0.011    -0.002\n",
      "child_2:Over_threshold_2_child[T.True]       -0.0090      0.003     -3.152      0.002        -0.015    -0.003\n",
      "child_3                                      -0.0180      0.002    -10.408      0.000        -0.021    -0.015\n",
      "child_3:Between_threshold_3_child[T.True]    -0.0096      0.003     -3.300      0.001        -0.015    -0.004\n",
      "child_3:Over_threshold_3_child[T.True]       -0.0065      0.003     -2.120      0.034        -0.012    -0.000\n",
      "child_4                                      -0.0186      0.002     -8.766      0.000        -0.023    -0.014\n",
      "child_4:Between_threshold_4_child[T.True]    -0.0067      0.004     -1.716      0.086        -0.014     0.001\n",
      "child_4:Over_threshold_4_child[T.True]       -0.0019      0.005     -0.407      0.684        -0.011     0.007\n",
      "Flatten_thresholds_more_then_150684          -0.0020      0.004     -0.528      0.597        -0.010     0.005\n",
      "Age_wo                                       -0.0118      0.001    -21.603      0.000        -0.013    -0.011\n",
      "Age_me                                       -0.0066      0.001    -10.400      0.000        -0.008    -0.005\n",
      "Age_wo_squared                                0.0002    6.5e-06     26.954      0.000         0.000     0.000\n",
      "Age_me_squared                             7.521e-05   7.08e-06     10.619      0.000      6.13e-05  8.91e-05\n",
      "Age_Elder_child                           -8.657e-05   6.87e-05     -1.259      0.208        -0.000  4.82e-05\n",
      "==============================================================================\n",
      "Omnibus:                   178729.574   Durbin-Watson:                   1.995\n",
      "Prob(Omnibus):                  0.000   Jarque-Bera (JB):          5143130.723\n",
      "Skew:                           4.714   Prob(JB):                         0.00\n",
      "Kurtosis:                      26.492   Cond. No.                     1.65e+05\n",
      "==============================================================================\n",
      "\n",
      "Warnings:\n",
      "[1] Standard Errors are heteroscedasticity robust (HC1)\n",
      "[2] The condition number is large, 1.65e+05. This might indicate that there are\n",
      "strong multicollinearity or other numerical problems.\n"
     ]
    }
   ],
   "source": [
    "m = sm.OLS.from_formula(\"(Me_get_retired)~   {}  + Age_wo + Age_me+ Age_wo_squared + Age_me_squared+Age_Elder_child\".format(\n",
    "               ' + '.join(children_number[:4] \n",
    "                    + children_number[:4] + flatten_thresholds_list\n",
    "                    + interaction_child_between_threshold[:4] + interaction_child_over_threshold[:4])),\n",
    "                    df.query(\"(NBPAC_2011<=4)\"))\n",
    "fit_men = m.fit(cov_type=\"HC1\")\n",
    "summary = fit_men.summary(); print(summary)\n",
    "\n",
    "m = sm.OLS.from_formula(\"(Wo_get_retired)~   {}  + Age_wo + Age_me+ Age_wo_squared + Age_me_squared+Age_Elder_child\".format(\n",
    "               ' + '.join(children_number[:4] \n",
    "                    + children_number[:4] + flatten_thresholds_list\n",
    "                    + interaction_child_between_threshold[:4] + interaction_child_over_threshold[:4])),\n",
    "                    df.query(\"(NBPAC_2011<=4)\"))\n",
    "fit_wo = m.fit(cov_type=\"HC1\")\n",
    "summary = fit_wo.summary(); print(summary)\n",
    "\n",
    "\n",
    "\n"
   ]
  },
  {
   "cell_type": "code",
   "execution_count": 60,
   "metadata": {
    "scrolled": false
   },
   "outputs": [
    {
     "name": "stdout",
     "output_type": "stream",
     "text": [
      "\n",
      "=================================================================================================================================================================\n",
      "                                          Me_start_working Wo_start_working Me_stop_working_not_retired Wo_stop_working_not_retired Me_get_retired Wo_get_retired\n",
      "-----------------------------------------------------------------------------------------------------------------------------------------------------------------\n",
      "Intercept                                 0.0877***        0.1316***        -1.1587***                  -0.0323**                   0.3897***      0.3532***     \n",
      "                                          (0.0100)         (0.0104)         (0.0315)                    (0.0139)                    (0.0133)       (0.0118)      \n",
      "Flatten_thresholds_58291_63233[T.True]    -0.0090***       -0.0140***       0.0209***                   0.0085***                   -0.0005        -0.0018       \n",
      "                                          (0.0007)         (0.0010)         (0.0030)                    (0.0021)                    (0.0017)       (0.0015)      \n",
      "Flatten_thresholds_63233_63530[T.True]    -0.0067**        -0.0137***       0.0312***                   0.0165**                    -0.0040        -0.0059       \n",
      "                                          (0.0027)         (0.0034)         (0.0112)                    (0.0082)                    (0.0055)       (0.0045)      \n",
      "Flatten_thresholds_63530_73516[T.True]    -0.0120***       -0.0153***       0.0374***                   0.0071***                   0.0149***      0.0021        \n",
      "                                          (0.0009)         (0.0012)         (0.0037)                    (0.0024)                    (0.0027)       (0.0022)      \n",
      "Flatten_thresholds_73516_73806[T.True]    -0.0147***       -0.0166***       0.0604***                   0.0071                      0.0165**       -0.0012       \n",
      "                                          (0.0024)         (0.0041)         (0.0146)                    (0.0103)                    (0.0084)       (0.0063)      \n",
      "Flatten_thresholds_73806_84103[T.True]    -0.0128***       -0.0126***       0.0684***                   0.0092***                   0.0210***      0.0040        \n",
      "                                          (0.0012)         (0.0014)         (0.0047)                    (0.0031)                    (0.0035)       (0.0030)      \n",
      "Flatten_thresholds_84103_94368[T.True]    -0.0118***       -0.0101***       0.0838***                   0.0108***                   0.0196***      0.0026        \n",
      "                                          (0.0014)         (0.0016)         (0.0053)                    (0.0035)                    (0.0038)       (0.0032)      \n",
      "Flatten_thresholds_94368_94451[T.True]    -0.0182***       -0.0248***       0.0869**                    -0.0314                     0.0033         -0.0145***    \n",
      "                                          (0.0011)         (0.0016)         (0.0380)                    (0.0193)                    (0.0143)       (0.0052)      \n",
      "Flatten_thresholds_94451_104633[T.True]   -0.0135***       -0.0044**        0.0947***                   0.0012                      0.0214***      0.0031        \n",
      "                                          (0.0014)         (0.0020)         (0.0060)                    (0.0038)                    (0.0042)       (0.0035)      \n",
      "Flatten_thresholds_104633_115185[T.True]  -0.0151***       -0.0065***       0.1084***                   0.0064                      0.0179***      0.0018        \n",
      "                                          (0.0015)         (0.0021)         (0.0067)                    (0.0044)                    (0.0045)       (0.0038)      \n",
      "Flatten_thresholds_115185_135941[T.True]  -0.0144***       -0.0074***       0.1185***                   0.0091**                    0.0136***      -0.0034       \n",
      "                                          (0.0014)         (0.0020)         (0.0063)                    (0.0043)                    (0.0042)       (0.0035)      \n",
      "Flatten_thresholds_135941_150684[T.True]  -0.0147***       -0.0057**        0.1406***                   0.0067                      0.0104**       -0.0026       \n",
      "                                          (0.0018)         (0.0029)         (0.0083)                    (0.0058)                    (0.0051)       (0.0042)      \n",
      "child_1                                   -0.0019          -0.0011          0.0808***                   -0.0052*                    -0.0338***     -0.0260***    \n",
      "                                          (0.0014)         (0.0015)         (0.0045)                    (0.0030)                    (0.0025)       (0.0019)      \n",
      "child_1:Between_threshold_1_child[T.True] 0.0013           0.0085***        -0.0093                     0.0011                      -0.0016        -0.0012       \n",
      "                                          (0.0018)         (0.0023)         (0.0078)                    (0.0056)                    (0.0037)       (0.0027)      \n",
      "child_1:Over_threshold_1_child[T.True]    0.0032**         0.0058***        -0.0256***                  0.0001                      -0.0196***     -0.0092***    \n",
      "                                          (0.0015)         (0.0017)         (0.0057)                    (0.0038)                    (0.0034)       (0.0027)      \n",
      "child_2                                   -0.0053***       0.0064***        0.0629***                   -0.0189***                  -0.0301***     -0.0184***    \n",
      "                                          (0.0011)         (0.0014)         (0.0042)                    (0.0028)                    (0.0022)       (0.0017)      \n",
      "child_2:Between_threshold_2_child[T.True] 0.0065***        0.0040**         -0.0113**                   0.0047                      -0.0214***     -0.0067***    \n",
      "                                          (0.0012)         (0.0017)         (0.0051)                    (0.0036)                    (0.0028)       (0.0023)      \n",
      "child_2:Over_threshold_2_child[T.True]    0.0086***        0.0010           -0.0480***                  0.0007                      -0.0290***     -0.0090***    \n",
      "                                          (0.0012)         (0.0016)         (0.0050)                    (0.0033)                    (0.0034)       (0.0029)      \n",
      "child_3                                   -0.0020          0.0250***        0.0529***                   -0.0257***                  -0.0344***     -0.0180***    \n",
      "                                          (0.0013)         (0.0018)         (0.0047)                    (0.0031)                    (0.0023)       (0.0017)      \n",
      "child_3:Between_threshold_3_child[T.True] 0.0047***        -0.0054*         -0.0286***                  -0.0032                     -0.0258***     -0.0096***    \n",
      "                                          (0.0016)         (0.0028)         (0.0067)                    (0.0045)                    (0.0035)       (0.0029)      \n",
      "child_3:Over_threshold_3_child[T.True]    0.0064***        -0.0147***       -0.0519***                  0.0057                      -0.0256***     -0.0065**     \n",
      "                                          (0.0015)         (0.0026)         (0.0067)                    (0.0046)                    (0.0036)       (0.0031)      \n",
      "child_4                                   0.0030           0.0462***        0.0388***                   -0.0264***                  -0.0377***     -0.0186***    \n",
      "                                          (0.0022)         (0.0041)         (0.0072)                    (0.0046)                    (0.0027)       (0.0021)      \n",
      "child_4:Between_threshold_4_child[T.True] 0.0017           -0.0168**        -0.0382***                  -0.0017                     -0.0256***     -0.0067*      \n",
      "                                          (0.0036)         (0.0079)         (0.0138)                    (0.0091)                    (0.0043)       (0.0039)      \n",
      "child_4:Over_threshold_4_child[T.True]    0.0017           -0.0206**        -0.0602***                  0.0140                      -0.0239***     -0.0019       \n",
      "                                          (0.0034)         (0.0082)         (0.0149)                    (0.0110)                    (0.0042)       (0.0047)      \n",
      "Flatten_thresholds_more_then_150684       -0.0170***       -0.0052**        0.1605***                   0.0125**                    0.0067         -0.0020       \n",
      "                                          (0.0014)         (0.0025)         (0.0071)                    (0.0049)                    (0.0045)       (0.0038)      \n",
      "Age_wo                                    0.0012***        -0.0058***       0.0063***                   0.0070***                   -0.0017***     -0.0118***    \n",
      "                                          (0.0003)         (0.0007)         (0.0012)                    (0.0004)                    (0.0006)       (0.0005)      \n",
      "Age_me                                    -0.0046***       0.0012**         0.0959***                   0.0002                      -0.0186***     -0.0066***    \n",
      "                                          (0.0006)         (0.0005)         (0.0018)                    (0.0007)                    (0.0008)       (0.0006)      \n",
      "I(Age_wo_squared / 10 ** 4)               -0.1025***       0.5614***        -1.1955***                  -0.9674***                  0.2693***      1.7518***     \n",
      "                                          (0.0348)         (0.0721)         (0.1369)                    (0.0527)                    (0.0713)       (0.0650)      \n",
      "I(Age_me_squared / 10 ** 4)               0.5090***        -0.1009**        -11.8298***                 -0.0203                     2.5521***      0.7521***     \n",
      "                                          (0.0653)         (0.0477)         (0.1955)                    (0.0747)                    (0.0865)       (0.0708)      \n",
      "I(Age_Elder_child / 10 ** 4)              0.9410**         -1.4765**        -0.9211                     -13.8524***                 -2.3328***     -0.8657       \n",
      "                                          (0.4754)         (0.6009)         (1.8390)                    (1.2051)                    (0.8539)       (0.6875)      \n",
      "adjusted-R2                               0.54%            0.94%            26.85%                      0.44%                       11.72%         9.43%         \n",
      "N                                         192640           192640           192640                      192640                      192640         192640        \n",
      "=================================================================================================================================================================\n",
      "Standard errors in parentheses.\n",
      "* p<.1, ** p<.05, ***p<.01\n"
     ]
    }
   ],
   "source": [
    "regression_fit_list = list()\n",
    "for var in [\"start_working\", \"stop_working_not_retired\",\"get_retired\" ]:\n",
    "    for sex in [\"Me\", \"Wo\"]:\n",
    "        m = sm.OLS.from_formula(\"({}_{})\".format(sex, var)+ \"~   {}  + Age_wo + Age_me+ I(Age_wo_squared/10**4) + I(Age_me_squared/10**4)+I(Age_Elder_child/10**4)\".format(\n",
    "                       ' + '.join(children_number[:4] \n",
    "                            + children_number[:4] + flatten_thresholds_list\n",
    "                            + interaction_child_between_threshold[:4] + interaction_child_over_threshold[:4])),\n",
    "                            df.query(\"(NBPAC_2011<=4)\"))\n",
    "        fit = m.fit(cov_type=\"HC1\")\n",
    "        summary = fit_men.summary()\n",
    "        regression_fit_list.append(fit)\n",
    "print(summary_col(regression_fit_list, stars = True,float_format='%.4f',\n",
    "                  info_dict=info_dict))\n"
   ]
  },
  {
   "cell_type": "code",
   "execution_count": 61,
   "metadata": {
    "scrolled": false
   },
   "outputs": [
    {
     "name": "stdout",
     "output_type": "stream",
     "text": [
      "\n",
      "================================================================================================================================================================\n",
      "                                         Me_start_working Wo_start_working Me_stop_working_not_retired Wo_stop_working_not_retired Me_get_retired Wo_get_retired\n",
      "----------------------------------------------------------------------------------------------------------------------------------------------------------------\n",
      "Intercept                                0.0852***        0.1311***        -1.1452***                  -0.0328**                   0.3988***      0.3562***     \n",
      "                                         (0.0100)         (0.0103)         (0.0313)                    (0.0139)                    (0.0134)       (0.0119)      \n",
      "Flatten_thresholds_58291_63233[T.True]   -0.0088***       -0.0126***       0.0193***                   0.0087***                   -0.0008        -0.0020       \n",
      "                                         (0.0006)         (0.0009)         (0.0028)                    (0.0020)                    (0.0015)       (0.0013)      \n",
      "Flatten_thresholds_63233_63530[T.True]   -0.0062**        -0.0127***       0.0273**                    0.0165**                    -0.0070        -0.0073*      \n",
      "                                         (0.0027)         (0.0034)         (0.0111)                    (0.0082)                    (0.0055)       (0.0044)      \n",
      "Flatten_thresholds_63530_73516[T.True]   -0.0088***       -0.0126***       0.0285***                   0.0091***                   0.0027*        -0.0023**     \n",
      "                                         (0.0006)         (0.0008)         (0.0025)                    (0.0017)                    (0.0014)       (0.0011)      \n",
      "Flatten_thresholds_73516_73806[T.True]   -0.0105***       -0.0151***       0.0359**                    0.0074                      0.0010         -0.0066       \n",
      "                                         (0.0023)         (0.0040)         (0.0144)                    (0.0101)                    (0.0080)       (0.0059)      \n",
      "Flatten_thresholds_73806_84103[T.True]   -0.0079***       -0.0121***       0.0393***                   0.0089***                   0.0012         -0.0030**     \n",
      "                                         (0.0007)         (0.0010)         (0.0031)                    (0.0021)                    (0.0017)       (0.0014)      \n",
      "Flatten_thresholds_84103_94368[T.True]   -0.0067***       -0.0101***       0.0532***                   0.0105***                   -0.0013        -0.0047***    \n",
      "                                         (0.0009)         (0.0013)         (0.0038)                    (0.0027)                    (0.0021)       (0.0017)      \n",
      "Flatten_thresholds_94368_94451[T.True]   -0.0128***       -0.0247***       0.0542                      -0.0318*                    -0.0187        -0.0222***    \n",
      "                                         (0.0006)         (0.0014)         (0.0379)                    (0.0191)                    (0.0137)       (0.0044)      \n",
      "Flatten_thresholds_94451_104633[T.True]  -0.0081***       -0.0066***       0.0592***                   0.0025                      0.0004         -0.0035*      \n",
      "                                         (0.0010)         (0.0018)         (0.0046)                    (0.0031)                    (0.0025)       (0.0020)      \n",
      "Flatten_thresholds_104633_115185[T.True] -0.0098***       -0.0088***       0.0730***                   0.0078**                    -0.0030        -0.0048*      \n",
      "                                         (0.0011)         (0.0020)         (0.0054)                    (0.0037)                    (0.0030)       (0.0025)      \n",
      "Flatten_thresholds_115185_135941[T.True] -0.0090***       -0.0102***       0.0814***                   0.0115***                   -0.0076***     -0.0098***    \n",
      "                                         (0.0011)         (0.0018)         (0.0049)                    (0.0035)                    (0.0026)       (0.0021)      \n",
      "Flatten_thresholds_135941_150684[T.True] -0.0093***       -0.0086***       0.1030***                   0.0091*                     -0.0109***     -0.0091***    \n",
      "                                         (0.0015)         (0.0028)         (0.0073)                    (0.0052)                    (0.0038)       (0.0032)      \n",
      "child_1                                  -0.0007          0.0021*          0.0708***                   -0.0051**                   -0.0410***     -0.0295***    \n",
      "                                         (0.0010)         (0.0011)         (0.0038)                    (0.0025)                    (0.0021)       (0.0016)      \n",
      "child_2                                  -0.0025**        0.0075***        0.0507***                   -0.0181***                  -0.0395***     -0.0214***    \n",
      "                                         (0.0010)         (0.0012)         (0.0039)                    (0.0027)                    (0.0020)       (0.0015)      \n",
      "child_3                                  -0.0008          0.0222***        0.0439***                   -0.0255***                  -0.0402***     -0.0199***    \n",
      "                                         (0.0012)         (0.0016)         (0.0044)                    (0.0030)                    (0.0021)       (0.0016)      \n",
      "child_4                                  0.0026           0.0415***        0.0309***                   -0.0251***                  -0.0414***     -0.0189***    \n",
      "                                         (0.0018)         (0.0034)         (0.0064)                    (0.0042)                    (0.0025)       (0.0020)      \n",
      "Flatten_thresholds_more_then_150684      -0.0115***       -0.0085***       0.1226***                   0.0151***                   -0.0146***     -0.0084***    \n",
      "                                         (0.0010)         (0.0023)         (0.0058)                    (0.0043)                    (0.0030)       (0.0026)      \n",
      "Age_wo                                   0.0012***        -0.0058***       0.0062***                   0.0070***                   -0.0018***     -0.0118***    \n",
      "                                         (0.0003)         (0.0007)         (0.0012)                    (0.0004)                    (0.0006)       (0.0005)      \n",
      "Age_me                                   -0.0046***       0.0012**         0.0958***                   0.0002                      -0.0187***     -0.0066***    \n",
      "                                         (0.0006)         (0.0005)         (0.0018)                    (0.0007)                    (0.0008)       (0.0006)      \n",
      "Age_wo_squared                           -0.0000***       0.0001***        -0.0001***                  -0.0001***                  0.0000***      0.0002***     \n",
      "                                         (0.0000)         (0.0000)         (0.0000)                    (0.0000)                    (0.0000)       (0.0000)      \n",
      "Age_me_squared                           0.0001***        -0.0000**        -0.0012***                  -0.0000                     0.0003***      0.0001***     \n",
      "                                         (0.0000)         (0.0000)         (0.0000)                    (0.0000)                    (0.0000)       (0.0000)      \n",
      "Age_Elder_child                          0.0001**         -0.0002**        -0.0001                     -0.0014***                  -0.0002***     -0.0001       \n",
      "                                         (0.0000)         (0.0001)         (0.0002)                    (0.0001)                    (0.0001)       (0.0001)      \n",
      "adjusted-R2                              0.51%            0.91%            26.81%                      0.44%                       11.65%         9.42%         \n",
      "N                                        192640           192640           192640                      192640                      192640         192640        \n",
      "================================================================================================================================================================\n",
      "Standard errors in parentheses.\n",
      "* p<.1, ** p<.05, ***p<.01\n"
     ]
    }
   ],
   "source": [
    "#Without treatment variables\n",
    "regression_fit_list = list()\n",
    "for var in [\"start_working\", \"stop_working_not_retired\",\"get_retired\" ]:\n",
    "    for sex in [\"Me\", \"Wo\"]:\n",
    "        m = sm.OLS.from_formula(\"({}_{})\".format(sex, var)+ \"~   {}  + Age_wo + Age_me+ Age_wo_squared + Age_me_squared+Age_Elder_child\".format(\n",
    "                       ' + '.join(children_number[:4] + flatten_thresholds_list)),\n",
    "                        df.query(\"(NBPAC_2011<=4)\"))\n",
    "        fit = m.fit(cov_type=\"HC1\")\n",
    "        summary = fit_men.summary()\n",
    "        regression_fit_list.append(fit)\n",
    "print(summary_col(regression_fit_list, stars = True,float_format='%.4f',\n",
    "                  info_dict=info_dict))\n"
   ]
  },
  {
   "cell_type": "code",
   "execution_count": 62,
   "metadata": {
    "scrolled": false
   },
   "outputs": [
    {
     "name": "stdout",
     "output_type": "stream",
     "text": [
      "                            OLS Regression Results                            \n",
      "==============================================================================\n",
      "Dep. Variable:         Me_get_retired   R-squared:                       0.117\n",
      "Model:                            OLS   Adj. R-squared:                  0.117\n",
      "Method:                 Least Squares   F-statistic:                     882.9\n",
      "Date:                Sun, 10 Mar 2019   Prob (F-statistic):               0.00\n",
      "Time:                        11:46:21   Log-Likelihood:                 41839.\n",
      "No. Observations:              192640   AIC:                        -8.362e+04\n",
      "Df Residuals:                  192610   BIC:                        -8.331e+04\n",
      "Df Model:                          29                                         \n",
      "Covariance Type:            nonrobust                                         \n",
      "=============================================================================================================\n",
      "                                                coef    std err          t      P>|t|      [95.0% Conf. Int.]\n",
      "-------------------------------------------------------------------------------------------------------------\n",
      "Intercept                                     0.3897      0.011     34.088      0.000         0.367     0.412\n",
      "Between_threshold_1_child[T.True]            -0.0005      0.002     -0.296      0.767        -0.004     0.003\n",
      "Between_threshold_2_child[T.True]             0.0188      0.006      3.041      0.002         0.007     0.031\n",
      "Between_threshold_3_child[T.True]             0.0045      0.008      0.564      0.573        -0.011     0.020\n",
      "Between_threshold_4_child[T.True]            -0.0015      0.003     -0.589      0.556        -0.006     0.003\n",
      "Between_threshold_5_child[T.True]            -0.0163      0.023     -0.701      0.483        -0.062     0.029\n",
      "Between_threshold_6_child[T.True]            -0.0035      0.004     -0.925      0.355        -0.011     0.004\n",
      "Over_threshold_1_child[T.True]               -0.0040      0.006     -0.660      0.509        -0.016     0.008\n",
      "Over_threshold_2_child[T.True]                0.0205      0.010      2.059      0.039         0.001     0.040\n",
      "Over_threshold_3_child[T.True]                0.0226      0.025      0.919      0.358        -0.026     0.071\n",
      "Over_threshold_4_child[T.True]               -0.0058      0.005     -1.251      0.211        -0.015     0.003\n",
      "Over_threshold_5_child[T.True]               -0.0194      0.024     -0.818      0.414        -0.066     0.027\n",
      "Over_threshold_6_child[T.True]               -0.0072      0.006     -1.117      0.264        -0.020     0.005\n",
      "child_1                                      -0.0338      0.002    -15.385      0.000        -0.038    -0.029\n",
      "child_1:Between_threshold_1_child[T.True]    -0.0016      0.004     -0.405      0.685        -0.010     0.006\n",
      "child_1:Over_threshold_1_child[T.True]       -0.0196      0.003     -6.767      0.000        -0.025    -0.014\n",
      "child_2                                      -0.0301      0.002    -14.618      0.000        -0.034    -0.026\n",
      "child_2:Between_threshold_2_child[T.True]    -0.0214      0.003     -7.632      0.000        -0.027    -0.016\n",
      "child_2:Over_threshold_2_child[T.True]       -0.0290      0.003    -11.226      0.000        -0.034    -0.024\n",
      "child_3                                      -0.0344      0.002    -14.578      0.000        -0.039    -0.030\n",
      "child_3:Between_threshold_3_child[T.True]    -0.0258      0.004     -6.874      0.000        -0.033    -0.018\n",
      "child_3:Over_threshold_3_child[T.True]       -0.0256      0.004     -6.800      0.000        -0.033    -0.018\n",
      "child_4                                      -0.0377      0.004     -9.877      0.000        -0.045    -0.030\n",
      "child_4:Between_threshold_4_child[T.True]    -0.0256      0.008     -3.210      0.001        -0.041    -0.010\n",
      "child_4:Over_threshold_4_child[T.True]       -0.0239      0.009     -2.753      0.006        -0.041    -0.007\n",
      "Age_wo                                       -0.0017      0.000     -3.610      0.000        -0.003    -0.001\n",
      "Age_me                                       -0.0186      0.001    -35.241      0.000        -0.020    -0.018\n",
      "Age_wo_squared                             2.693e-05   5.36e-06      5.020      0.000      1.64e-05  3.74e-05\n",
      "Age_me_squared                                0.0003   5.85e-06     43.625      0.000         0.000     0.000\n",
      "Age_Elder_child                              -0.0002   9.19e-05     -2.539      0.011        -0.000 -5.32e-05\n",
      "==============================================================================\n",
      "Omnibus:                   140949.981   Durbin-Watson:                   1.999\n",
      "Prob(Omnibus):                  0.000   Jarque-Bera (JB):          1865948.349\n",
      "Skew:                           3.569   Prob(JB):                         0.00\n",
      "Kurtosis:                      16.473   Cond. No.                     2.87e+05\n",
      "==============================================================================\n",
      "\n",
      "Warnings:\n",
      "[1] Standard Errors assume that the covariance matrix of the errors is correctly specified.\n",
      "[2] The condition number is large, 2.87e+05. This might indicate that there are\n",
      "strong multicollinearity or other numerical problems.\n",
      "                            OLS Regression Results                            \n",
      "==============================================================================\n",
      "Dep. Variable:         Wo_get_retired   R-squared:                       0.094\n",
      "Model:                            OLS   Adj. R-squared:                  0.094\n",
      "Method:                 Least Squares   F-statistic:                     692.8\n",
      "Date:                Sun, 10 Mar 2019   Prob (F-statistic):               0.00\n",
      "Time:                        11:46:24   Log-Likelihood:                 77469.\n",
      "No. Observations:              192640   AIC:                        -1.549e+05\n",
      "Df Residuals:                  192610   BIC:                        -1.546e+05\n",
      "Df Model:                          29                                         \n",
      "Covariance Type:            nonrobust                                         \n",
      "=============================================================================================================\n",
      "                                                coef    std err          t      P>|t|      [95.0% Conf. Int.]\n",
      "-------------------------------------------------------------------------------------------------------------\n",
      "Intercept                                     0.3532      0.010     37.176      0.000         0.335     0.372\n",
      "Between_threshold_1_child[T.True]            -0.0018      0.001     -1.313      0.189        -0.005     0.001\n",
      "Between_threshold_2_child[T.True]             0.0079      0.005      1.542      0.123        -0.002     0.018\n",
      "Between_threshold_3_child[T.True]             0.0052      0.007      0.784      0.433        -0.008     0.018\n",
      "Between_threshold_4_child[T.True]            -0.0014      0.002     -0.684      0.494        -0.006     0.003\n",
      "Between_threshold_5_child[T.True]            -0.0171      0.019     -0.886      0.376        -0.055     0.021\n",
      "Between_threshold_6_child[T.True]            -0.0013      0.003     -0.426      0.670        -0.007     0.005\n",
      "Over_threshold_1_child[T.True]               -0.0059      0.005     -1.173      0.241        -0.016     0.004\n",
      "Over_threshold_2_child[T.True]                0.0046      0.008      0.559      0.576        -0.012     0.021\n",
      "Over_threshold_3_child[T.True]                0.0229      0.020      1.120      0.263        -0.017     0.063\n",
      "Over_threshold_4_child[T.True]               -0.0067      0.004     -1.724      0.085        -0.014     0.001\n",
      "Over_threshold_5_child[T.True]               -0.0162      0.020     -0.824      0.410        -0.055     0.022\n",
      "Over_threshold_6_child[T.True]               -0.0008      0.005     -0.146      0.884        -0.011     0.010\n",
      "child_1                                      -0.0260      0.002    -14.231      0.000        -0.030    -0.022\n",
      "child_1:Between_threshold_1_child[T.True]    -0.0012      0.003     -0.363      0.717        -0.008     0.005\n",
      "child_1:Over_threshold_1_child[T.True]       -0.0092      0.002     -3.824      0.000        -0.014    -0.004\n",
      "child_2                                      -0.0184      0.002    -10.740      0.000        -0.022    -0.015\n",
      "child_2:Between_threshold_2_child[T.True]    -0.0067      0.002     -2.894      0.004        -0.011    -0.002\n",
      "child_2:Over_threshold_2_child[T.True]       -0.0090      0.002     -4.211      0.000        -0.013    -0.005\n",
      "child_3                                      -0.0180      0.002     -9.215      0.000        -0.022    -0.014\n",
      "child_3:Between_threshold_3_child[T.True]    -0.0096      0.003     -3.079      0.002        -0.016    -0.003\n",
      "child_3:Over_threshold_3_child[T.True]       -0.0065      0.003     -2.071      0.038        -0.013    -0.000\n",
      "child_4                                      -0.0186      0.003     -5.876      0.000        -0.025    -0.012\n",
      "child_4:Between_threshold_4_child[T.True]    -0.0067      0.007     -1.004      0.315        -0.020     0.006\n",
      "child_4:Over_threshold_4_child[T.True]       -0.0019      0.007     -0.264      0.792        -0.016     0.012\n",
      "Age_wo                                       -0.0118      0.000    -30.666      0.000        -0.013    -0.011\n",
      "Age_me                                       -0.0066      0.000    -14.991      0.000        -0.007    -0.006\n",
      "Age_wo_squared                                0.0002   4.46e-06     39.288      0.000         0.000     0.000\n",
      "Age_me_squared                             7.521e-05   4.86e-06     15.467      0.000      6.57e-05  8.47e-05\n",
      "Age_Elder_child                           -8.657e-05   7.64e-05     -1.134      0.257        -0.000  6.31e-05\n",
      "==============================================================================\n",
      "Omnibus:                   178729.574   Durbin-Watson:                   1.995\n",
      "Prob(Omnibus):                  0.000   Jarque-Bera (JB):          5143130.723\n",
      "Skew:                           4.714   Prob(JB):                         0.00\n",
      "Kurtosis:                      26.492   Cond. No.                     2.87e+05\n",
      "==============================================================================\n",
      "\n",
      "Warnings:\n",
      "[1] Standard Errors assume that the covariance matrix of the errors is correctly specified.\n",
      "[2] The condition number is large, 2.87e+05. This might indicate that there are\n",
      "strong multicollinearity or other numerical problems.\n"
     ]
    }
   ],
   "source": [
    "m = sm.OLS.from_formula(\"(Me_get_retired)~   {}  \".format(\n",
    "        ' + '.join(between_threshold_for_child_rank+children_number[:4]+ over_threshold_for_child_rank+\n",
    "                  interaction_child_between_threshold[:4]+interaction_child_over_threshold[:4]))\n",
    "        + \" + Age_wo + Age_me+ Age_wo_squared + Age_me_squared+Age_Elder_child\"\n",
    "                                                                                        , reg_df_same_NBPAC.query(\"(NBPAC_2011<=4)\"))\n",
    "fit = m.fit()\n",
    "summary = fit.summary(); print(summary)\n",
    "\n",
    "m = sm.OLS.from_formula(\"(Wo_get_retired)~   {}  \".format(\n",
    "        ' + '.join(between_threshold_for_child_rank+children_number[:4]+ over_threshold_for_child_rank+\n",
    "                  interaction_child_between_threshold[:4]+interaction_child_over_threshold[:4]))\n",
    "        + \" + Age_wo + Age_me+ Age_wo_squared + Age_me_squared+Age_Elder_child\"\n",
    "                                                                                        , reg_df_same_NBPAC.query(\"(NBPAC_2011<=4)\"))\n",
    "fit_wo = m.fit()\n",
    "summary = fit_wo.summary(); print(summary)\n"
   ]
  },
  {
   "cell_type": "code",
   "execution_count": 63,
   "metadata": {},
   "outputs": [
    {
     "name": "stdout",
     "output_type": "stream",
     "text": [
      "\n",
      "=======================================================================\n",
      "                                          Me_get_retired Wo_get_retired\n",
      "-----------------------------------------------------------------------\n",
      "Intercept                                 0.3897***      0.3532***     \n",
      "                                          (0.0114)       (0.0095)      \n",
      "Between_threshold_1_child[T.True]         -0.0005        -0.0018       \n",
      "                                          (0.0017)       (0.0014)      \n",
      "Between_threshold_2_child[T.True]         0.0188***      0.0079        \n",
      "                                          (0.0062)       (0.0051)      \n",
      "Between_threshold_3_child[T.True]         0.0045         0.0052        \n",
      "                                          (0.0081)       (0.0067)      \n",
      "Between_threshold_4_child[T.True]         -0.0015        -0.0014       \n",
      "                                          (0.0025)       (0.0021)      \n",
      "Between_threshold_5_child[T.True]         -0.0163        -0.0171       \n",
      "                                          (0.0232)       (0.0193)      \n",
      "Between_threshold_6_child[T.True]         -0.0035        -0.0013       \n",
      "                                          (0.0038)       (0.0031)      \n",
      "Over_threshold_1_child[T.True]            -0.0040        -0.0059       \n",
      "                                          (0.0060)       (0.0050)      \n",
      "Over_threshold_2_child[T.True]            0.0205**       0.0046        \n",
      "                                          (0.0099)       (0.0083)      \n",
      "Over_threshold_3_child[T.True]            0.0226         0.0229        \n",
      "                                          (0.0246)       (0.0204)      \n",
      "Over_threshold_4_child[T.True]            -0.0058        -0.0067*      \n",
      "                                          (0.0046)       (0.0039)      \n",
      "Over_threshold_5_child[T.True]            -0.0194        -0.0162       \n",
      "                                          (0.0237)       (0.0197)      \n",
      "Over_threshold_6_child[T.True]            -0.0072        -0.0008       \n",
      "                                          (0.0064)       (0.0053)      \n",
      "child_1                                   -0.0338***     -0.0260***    \n",
      "                                          (0.0022)       (0.0018)      \n",
      "child_1:Between_threshold_1_child[T.True] -0.0016        -0.0012       \n",
      "                                          (0.0041)       (0.0034)      \n",
      "child_1:Over_threshold_1_child[T.True]    -0.0196***     -0.0092***    \n",
      "                                          (0.0029)       (0.0024)      \n",
      "child_2                                   -0.0301***     -0.0184***    \n",
      "                                          (0.0021)       (0.0017)      \n",
      "child_2:Between_threshold_2_child[T.True] -0.0214***     -0.0067***    \n",
      "                                          (0.0028)       (0.0023)      \n",
      "child_2:Over_threshold_2_child[T.True]    -0.0290***     -0.0090***    \n",
      "                                          (0.0026)       (0.0021)      \n",
      "child_3                                   -0.0344***     -0.0180***    \n",
      "                                          (0.0024)       (0.0020)      \n",
      "child_3:Between_threshold_3_child[T.True] -0.0258***     -0.0096***    \n",
      "                                          (0.0038)       (0.0031)      \n",
      "child_3:Over_threshold_3_child[T.True]    -0.0256***     -0.0065**     \n",
      "                                          (0.0038)       (0.0031)      \n",
      "child_4                                   -0.0377***     -0.0186***    \n",
      "                                          (0.0038)       (0.0032)      \n",
      "child_4:Between_threshold_4_child[T.True] -0.0256***     -0.0067       \n",
      "                                          (0.0080)       (0.0066)      \n",
      "child_4:Over_threshold_4_child[T.True]    -0.0239***     -0.0019       \n",
      "                                          (0.0087)       (0.0072)      \n",
      "Age_wo                                    -0.0017***     -0.0118***    \n",
      "                                          (0.0005)       (0.0004)      \n",
      "Age_me                                    -0.0186***     -0.0066***    \n",
      "                                          (0.0005)       (0.0004)      \n",
      "Age_wo_squared                            0.0000***      0.0002***     \n",
      "                                          (0.0000)       (0.0000)      \n",
      "Age_me_squared                            0.0003***      0.0001***     \n",
      "                                          (0.0000)       (0.0000)      \n",
      "Age_Elder_child                           -0.0002**      -0.0001       \n",
      "                                          (0.0001)       (0.0001)      \n",
      "adjusted-R2                               11.72%         9.43%         \n",
      "N                                         192640         192640        \n",
      "=======================================================================\n",
      "Standard errors in parentheses.\n",
      "* p<.1, ** p<.05, ***p<.01\n"
     ]
    }
   ],
   "source": [
    "print(summary_col([fit, fit_wo], stars = True, info_dict={'adjusted-R2':lambda x:\"{:4.2f}%\".format(x.rsquared_adj*100), \"N\":lambda x:\"{:d}\".format(int(x.nobs))}))"
   ]
  },
  {
   "cell_type": "code",
   "execution_count": null,
   "metadata": {
    "collapsed": true
   },
   "outputs": [],
   "source": []
  },
  {
   "cell_type": "markdown",
   "metadata": {},
   "source": [
    "### ZIMPOM"
   ]
  },
  {
   "cell_type": "code",
   "execution_count": null,
   "metadata": {},
   "outputs": [],
   "source": []
  },
  {
   "cell_type": "code",
   "execution_count": null,
   "metadata": {
    "collapsed": true
   },
   "outputs": [],
   "source": []
  },
  {
   "cell_type": "code",
   "execution_count": 64,
   "metadata": {},
   "outputs": [
    {
     "name": "stdout",
     "output_type": "stream",
     "text": [
      "(193555, 500)\n",
      "(193555, 500)\n"
     ]
    },
    {
     "data": {
      "text/plain": [
       "<matplotlib.text.Text at 0x4569c198>"
      ]
     },
     "execution_count": 64,
     "metadata": {},
     "output_type": "execute_result"
    },
    {
     "data": {
      "image/png": "[encoded data removed]",
      "text/plain": [
       "<matplotlib.figure.Figure at 0x3c971860>"
      ]
     },
     "metadata": {},
     "output_type": "display_data"
    },
    {
     "data": {
      "image/png": "[encoded data removed]",
      "text/plain": [
       "<matplotlib.figure.Figure at 0x10db582e8>"
      ]
     },
     "metadata": {},
     "output_type": "display_data"
    }
   ],
   "source": [
    "sns.set(font_scale = 1.7)\n",
    "df_temp = df.query(\"(NBPAC_2011 >=0) & (NBPAC_2011==NBPAC_2014) \")\n",
    "print(df_temp.shape)\n",
    "fig = plt.figure(figsize=(10,6))\n",
    "plt.scatter(df_temp.ZIMPOM14_2014,df_temp.Irpp_2014, s=0.02 )\n",
    "plt.xlim(0,15000) ; plt.xlabel(\"Actual Income Tax\")\n",
    "plt.ylim(0,15000) ; plt.ylabel(\"Predicted Income Tax\")\n",
    "df_temp = df.query(\"(NBPAC_2011 >=0) & (NBPAC_2011==NBPAC_2014) \")\n",
    "print(df_temp.shape)\n",
    "fig = plt.figure(figsize=(10,6))\n",
    "plt.scatter(df_temp.ZIMPOM_2011,df_temp.Irpp_2011, s=0.02 )\n",
    "plt.xlim(0,15000) ; plt.xlabel(\"Actual Income Tax\")\n",
    "plt.ylim(0,15000) ; plt.ylabel(\"Predicted Income Tax\")"
   ]
  },
  {
   "cell_type": "code",
   "execution_count": 65,
   "metadata": {
    "collapsed": true
   },
   "outputs": [],
   "source": [
    "regression_delta_zimpom_formula = \" {}  + Not_touched_by_reform*C(NBPAC_2011)- Not_touched_by_reform-C(NBPAC_2011)\"\\\n",
    "\"+ Delta_Rbg_times_not_touched_reform/C(NBPAC_2011)-Delta_Rbg_times_not_touched_reform\"\\\n",
    "\"-1\".format(\n",
    "        ' + '.join( interactions_child_over+ interactions_child_between+interactions_rbg_over+interactions_rbg_between))"
   ]
  },
  {
   "cell_type": "code",
   "execution_count": 66,
   "metadata": {},
   "outputs": [],
   "source": [
    "\n",
    "\n",
    "df[\"Not_touched_by_reform\"] = (df.NBPAC_2011 == 0).astype(\"int\")\n",
    "for nb_enf in range(1,7): ### in modification\n",
    "    df[\"Not_touched_by_reform\".format(nb_enf)\n",
    "          ] +=((df.Rbg_2011<  threshold_byr_rbg[\"2014\"].iloc[nb_enf-1])\n",
    "                *( df.NBPAC_2011 == nb_enf)).astype(\"float\")"
   ]
  },
  {
   "cell_type": "code",
   "execution_count": 67,
   "metadata": {},
   "outputs": [],
   "source": [
    "m = sm.OLS.from_formula(\"(Delta_ZIMPOM)~  \"+ regression_delta_zimpom_formula,\n",
    "                        df)\n",
    "fit1 = m.fit()\n",
    "\n",
    "m = sm.OLS.from_formula(\"(Delta_ZIMPOM)~  \"+ regression_delta_zimpom_formula,\n",
    "                        df.query(\"(ZVALM_2011<50)\"))\n",
    "fit2 = m.fit()\n",
    "\n",
    "m = sm.OLS.from_formula(\"(Delta_ZIMPOM)~  \"+ regression_delta_zimpom_formula,\n",
    "                        df.query(\"(ZIMPOM_2011>500)&(ZIMPOM14_2014>500)\"))\n",
    "fit3 = m.fit()\n",
    "\n",
    "\n",
    "m = sm.OLS.from_formula(\"(Delta_ZIMPOM)~  \"+ regression_delta_zimpom_formula,\n",
    "                        df.query(\"(ZVAMM_2011<200)& (ZRACM_2011<200) & (ZETRM_2011<100)\"))\n",
    "fit4 = m.fit()\n",
    "\n",
    "m = sm.OLS.from_formula(\"(Delta_ZIMPOM)~  \"+ regression_delta_zimpom_formula,\n",
    "                        df.query(\"(ZVAMM_2011<200)& (ZRACM_2011<200) & (ZETRM_2011<100)\"\\\n",
    "                                 \"&(ZIMPOM_2011>500)&(ZIMPOM14_2014>500)\"\\\n",
    "                                 \"&(ZVALM_2011<50)\" \\\n",
    "                                ))\n",
    "fit5 = m.fit()\n",
    "\n",
    "m = sm.OLS.from_formula(\"(Delta_ZIMPOM)~  \"+ regression_delta_zimpom_formula,\n",
    "                        df.query((\"(ZVALM_2011<50)&(ZIMPOM_2011>500)&(ZIMPOM14_2014>500)&(ZVAMM_2011<200)& (ZRACM_2011<200) & (ZETRM_2011<100)&(Delta_rbg_positif==1)\"))\n",
    "                        )\n",
    "fit6 = m.fit()\n",
    "\n",
    "\n",
    "m = sm.OLS.from_formula(\"(Delta_ZIMPOM)~  \"+ regression_delta_zimpom_formula,\n",
    "                        df.query((\"(ZVALM_2011<50)&(ZIMPOM_2011>500)&(ZIMPOM14_2014>500)&(ZVAMM_2011<200)& (ZRACM_2011<200) & (ZETRM_2011<100)&(Delta_rbg_positif==0)\"))\n",
    "                        )\n",
    "fit7 = m.fit()\n",
    "\n"
   ]
  },
  {
   "cell_type": "code",
   "execution_count": 68,
   "metadata": {},
   "outputs": [
    {
     "data": {
      "text/plain": [
       "187.35313193021668"
      ]
     },
     "execution_count": 68,
     "metadata": {},
     "output_type": "execute_result"
    }
   ],
   "source": [
    "df.query(\"(Not_touched_by_reform==1)&(NBPAC_2011==1)\").Delta_ZIMPOM.mean()* 0.128"
   ]
  },
  {
   "cell_type": "code",
   "execution_count": 69,
   "metadata": {
    "scrolled": false
   },
   "outputs": [
    {
     "name": "stdout",
     "output_type": "stream",
     "text": [
      "\n",
      "===================================================================================================================================================================================\n",
      "                                                      Delta_ZIMPOM I Delta_ZIMPOM II Delta_ZIMPOM III Delta_ZIMPOM IIII Delta_ZIMPOM IIIII Delta_ZIMPOM IIIIII Delta_ZIMPOM IIIIIII\n",
      "-----------------------------------------------------------------------------------------------------------------------------------------------------------------------------------\n",
      "Interactions_child1_over                              1224.397***    1054.033***     1220.851***      1182.230***       1138.669***        908.510***          907.230***          \n",
      "                                                      (39.269)       (34.399)        (40.883)         (35.480)          (31.176)           (53.015)            (80.654)            \n",
      "Interactions_child2_over                              1987.648***    1815.497***     1978.035***      2043.818***       1859.081***        1525.396***         1727.364***         \n",
      "                                                      (30.691)       (27.459)        (32.125)         (28.494)          (25.712)           (43.427)            (68.702)            \n",
      "Interactions_child3_over                              3682.055***    3134.968***     3716.500***      3506.887***       3184.281***        2970.179***         2827.691***         \n",
      "                                                      (61.388)       (57.678)        (64.039)         (60.787)          (55.740)           (100.425)           (152.979)           \n",
      "Interactions_child4_over                              5204.079***    4456.285***     5053.701***      5262.456***       5119.359***        4797.621***         5634.420***         \n",
      "                                                      (171.386)      (159.991)       (178.419)        (177.418)         (165.521)          (295.235)           (470.332)           \n",
      "Interactions_child5_over                              13121.919***   8455.536***     13663.625***     6139.071***       6920.581***        7628.626***         7602.334*           \n",
      "                                                      (701.561)      (615.583)       (743.876)        (815.109)         (704.650)          (1212.292)          (4608.796)          \n",
      "Interactions_child6_over                              5967.392***    6294.761***     6303.589***      6214.304***       6154.763***        0.000***            -0.000***           \n",
      "                                                      (1904.630)     (1703.160)      (2110.278)       (1739.273)        (1512.565)         (0.000)             (0.000)             \n",
      "Interactions_child1_between                           923.167***     900.214***      892.713***       950.811***        910.641***         852.372***          433.385***          \n",
      "                                                      (74.969)       (59.606)        (80.641)         (63.535)          (53.425)           (81.693)            (140.265)           \n",
      "Interactions_child2_between                           1336.725***    1313.144***     1260.281***      1339.001***       1248.149***        859.358***          590.550***          \n",
      "                                                      (42.141)       (33.932)        (46.420)         (36.804)          (31.798)           (48.305)            (86.937)            \n",
      "Interactions_child3_between                           1963.651***    1870.832***     1887.500***      1920.675***       1783.027***        1189.992***         801.837***          \n",
      "                                                      (65.924)       (53.823)        (75.494)         (60.886)          (54.442)           (84.877)            (153.557)           \n",
      "Interactions_child4_between                           2830.866***    2660.282***     2610.946***      2509.800***       2262.656***        1295.585***         1127.314**          \n",
      "                                                      (161.253)      (132.074)       (193.055)        (158.973)         (150.804)          (255.014)           (439.943)           \n",
      "Interactions_child5_between                           3454.794***    3516.912***     3941.226***      2862.238***       2941.539***        1908.865**          741.941             \n",
      "                                                      (393.533)      (330.408)       (477.901)        (417.691)         (400.300)          (928.063)           (1088.800)          \n",
      "Interactions_child6_between                           3446.676***    2653.361***     4567.905***      5935.706***       10059.622***       12934.249           -17583.224***       \n",
      "                                                      (983.116)      (809.563)       (1155.801)       (952.128)         (957.433)          (12018.685)         (5363.402)          \n",
      "Interactions_rbg_child1_over                          0.259***       0.243***        0.267***         0.252***          0.249***           0.267***            0.224***            \n",
      "                                                      (0.002)        (0.002)         (0.002)          (0.002)           (0.002)            (0.003)             (0.005)             \n",
      "Interactions_rbg_child2_over                          0.279***       0.268***        0.287***         0.274***          0.275***           0.296***            0.254***            \n",
      "                                                      (0.002)        (0.001)         (0.002)          (0.002)           (0.001)            (0.002)             (0.004)             \n",
      "Interactions_rbg_child3_over                          0.310***       0.297***        0.317***         0.301***          0.305***           0.316***            0.280***            \n",
      "                                                      (0.003)        (0.003)         (0.003)          (0.003)           (0.003)            (0.005)             (0.008)             \n",
      "Interactions_rbg_child4_over                          0.325***       0.314***        0.326***         0.326***          0.328***           0.338***            0.343***            \n",
      "                                                      (0.006)        (0.006)         (0.007)          (0.007)           (0.007)            (0.012)             (0.021)             \n",
      "Interactions_rbg_child5_over                          0.335***       0.335***        0.309***         0.403***          0.404***           0.378***            0.462**             \n",
      "                                                      (0.025)        (0.025)         (0.027)          (0.031)           (0.028)            (0.046)             (0.232)             \n",
      "Interactions_rbg_child6_over                          0.366***       0.388***        0.388***         0.389***          0.389***           0.573***            0.214***            \n",
      "                                                      (0.061)        (0.059)         (0.085)          (0.062)           (0.044)            (0.063)             (0.063)             \n",
      "Interactions_rbg_child1_between                       0.179***       0.174***        0.186***         0.176***          0.183***           0.193***            0.128***            \n",
      "                                                      (0.006)        (0.005)         (0.007)          (0.005)           (0.005)            (0.007)             (0.013)             \n",
      "Interactions_rbg_child2_between                       0.214***       0.210***        0.223***         0.215***          0.223***           0.258***            0.121***            \n",
      "                                                      (0.003)        (0.002)         (0.003)          (0.003)           (0.003)            (0.004)             (0.008)             \n",
      "Interactions_rbg_child3_between                       0.224***       0.222***        0.233***         0.223***          0.230***           0.271***            0.111***            \n",
      "                                                      (0.004)        (0.003)         (0.004)          (0.004)           (0.003)            (0.005)             (0.011)             \n",
      "Interactions_rbg_child4_between                       0.236***       0.236***        0.238***         0.238***          0.233***           0.290***            0.112***            \n",
      "                                                      (0.008)        (0.007)         (0.010)          (0.008)           (0.008)            (0.014)             (0.028)             \n",
      "Interactions_rbg_child5_between                       0.262***       0.267***        0.264***         0.219***          0.225***           0.294***            0.111**             \n",
      "                                                      (0.018)        (0.015)         (0.021)          (0.020)           (0.019)            (0.046)             (0.050)             \n",
      "Interactions_rbg_child6_between                       0.025          -0.016          0.005            0.040             -0.019             -0.095              -0.777***           \n",
      "                                                      (0.051)        (0.039)         (0.054)          (0.041)           (0.032)            (0.469)             (0.148)             \n",
      "Not_touched_by_reform:C(NBPAC_2011)[0.0]              122.484***     27.396          153.430***       162.122***        109.484***         350.708***          416.135***          \n",
      "                                                      (20.199)       (17.645)        (20.864)         (18.183)          (15.783)           (26.362)            (41.781)            \n",
      "Not_touched_by_reform:C(NBPAC_2011)[1.0]              385.765***     396.095***      336.594***       405.267***        368.151***         295.760***          299.237***          \n",
      "                                                      (39.558)       (30.425)        (44.400)         (32.375)          (27.767)           (35.680)            (89.200)            \n",
      "Not_touched_by_reform:C(NBPAC_2011)[2.0]              391.394***     400.265***      255.768***       420.805***        268.565***         162.901***          268.073***          \n",
      "                                                      (22.847)       (17.500)        (27.063)         (18.858)          (17.079)           (21.132)            (54.897)            \n",
      "Not_touched_by_reform:C(NBPAC_2011)[3.0]              236.062***     225.294***      0.609            241.547***        -31.953            -219.547***         82.923              \n",
      "                                                      (33.967)       (25.812)        (48.729)         (28.539)          (31.551)           (38.480)            (98.094)            \n",
      "Not_touched_by_reform:C(NBPAC_2011)[4.0]              215.635**      -13.935         935.589***       -43.481           -33.818            -199.747            2.925               \n",
      "                                                      (83.878)       (63.643)        (168.237)        (72.438)          (115.421)          (141.051)           (378.717)           \n",
      "Not_touched_by_reform:C(NBPAC_2011)[5.0]              253.683        103.518         290.627          94.861            -567.608           -1040.817*          64.932              \n",
      "                                                      (204.498)      (157.353)       (634.809)        (178.963)         (472.390)          (613.362)           (1525.818)          \n",
      "Not_touched_by_reform:C(NBPAC_2011)[6.0]              194.868        272.229         -467.868         -30.690           1096.854           1868.347*           -0.000              \n",
      "                                                      (393.353)      (296.998)       (1283.717)       (355.450)         (959.667)          (1085.238)          (0.001)             \n",
      "Delta_Rbg_times_not_touched_reform:C(NBPAC_2011)[0.0] 0.199***       0.179***        0.211***         0.183***          0.183***           0.164***            0.216***            \n",
      "                                                      (0.001)        (0.001)         (0.001)          (0.001)           (0.001)            (0.002)             (0.003)             \n",
      "Delta_Rbg_times_not_touched_reform:C(NBPAC_2011)[1.0] 0.131***       0.123***        0.141***         0.123***          0.128***           0.134***            0.102***            \n",
      "                                                      (0.003)        (0.002)         (0.003)          (0.002)           (0.002)            (0.003)             (0.010)             \n",
      "Delta_Rbg_times_not_touched_reform:C(NBPAC_2011)[2.0] 0.139***       0.134***        0.156***         0.133***          0.148***           0.157***            0.110***            \n",
      "                                                      (0.002)        (0.001)         (0.002)          (0.001)           (0.002)            (0.002)             (0.007)             \n",
      "Delta_Rbg_times_not_touched_reform:C(NBPAC_2011)[3.0] 0.120***       0.115***        0.161***         0.112***          0.156***           0.170***            0.096***            \n",
      "                                                      (0.002)        (0.002)         (0.004)          (0.002)           (0.003)            (0.003)             (0.015)             \n",
      "Delta_Rbg_times_not_touched_reform:C(NBPAC_2011)[4.0] 0.093***       0.101***        0.098***         0.090***          0.141***           0.150***            0.085               \n",
      "                                                      (0.005)        (0.004)         (0.010)          (0.004)           (0.007)            (0.009)             (0.052)             \n",
      "Delta_Rbg_times_not_touched_reform:C(NBPAC_2011)[5.0] 0.075***       0.075***        0.134***         0.066***          0.157***           0.177***            0.135               \n",
      "                                                      (0.011)        (0.008)         (0.030)          (0.010)           (0.022)            (0.028)             (0.139)             \n",
      "Delta_Rbg_times_not_touched_reform:C(NBPAC_2011)[6.0] 0.112***       0.057***        0.222***         0.088***          0.046              0.002               0.844               \n",
      "                                                      (0.019)        (0.015)         (0.058)          (0.019)           (0.071)            (0.077)             (1.152)             \n",
      "adjusted-R2                                           40.15%         49.61%          42.59%           49.41%            62.82%             57.39%              47.19%              \n",
      "N                                                     193555         144841          158976           135445            87773              69144               18629               \n",
      "===================================================================================================================================================================================\n",
      "Standard errors in parentheses.\n",
      "* p<.1, ** p<.05, ***p<.01\n"
     ]
    }
   ],
   "source": [
    "print(summary_col([fit1, fit2,fit3, fit4, fit5, fit6, fit7], stars = True,float_format='%.3f',\n",
    "                  info_dict=info_dict))"
   ]
  },
  {
   "cell_type": "code",
   "execution_count": 70,
   "metadata": {},
   "outputs": [
    {
     "data": {
      "text/plain": [
       "<matplotlib.axes._subplots.AxesSubplot at 0x6ac74a20>"
      ]
     },
     "execution_count": 70,
     "metadata": {},
     "output_type": "execute_result"
    },
    {
     "data": {
      "image/png": "[encoded data removed]",
      "text/plain": [
       "<matplotlib.figure.Figure at 0x3c992748>"
      ]
     },
     "metadata": {},
     "output_type": "display_data"
    }
   ],
   "source": [
    "df.query(\"(Not_touched_by_reform==1)&(NBPAC_2011==1)\").MTR_2014.hist(bins = 20)"
   ]
  },
  {
   "cell_type": "code",
   "execution_count": 71,
   "metadata": {},
   "outputs": [],
   "source": [
    "df[\"Delta_Rbg_times_not_touched_reform\"] = df.Not_touched_by_reform * df.Delta_Rbg"
   ]
  },
  {
   "cell_type": "code",
   "execution_count": 72,
   "metadata": {},
   "outputs": [
    {
     "data": {
      "text/plain": [
       "<matplotlib.axes._subplots.AxesSubplot at 0x6aca01d0>"
      ]
     },
     "execution_count": 72,
     "metadata": {},
     "output_type": "execute_result"
    },
    {
     "data": {
      "image/png": "[encoded data removed]",
      "text/plain": [
       "<matplotlib.figure.Figure at 0x10d5286a0>"
      ]
     },
     "metadata": {},
     "output_type": "display_data"
    }
   ],
   "source": [
    "df.query(\"(Not_touched_by_reform==1)&(NBPAC_2011==1)\").Counterfactual_MTR_2011.hist(bins = 20)"
   ]
  },
  {
   "cell_type": "code",
   "execution_count": 73,
   "metadata": {},
   "outputs": [
    {
     "name": "stdout",
     "output_type": "stream",
     "text": [
      "                            OLS Regression Results                            \n",
      "==============================================================================\n",
      "Dep. Variable:           Delta_ZIMPOM   R-squared:                       0.573\n",
      "Model:                            OLS   Adj. R-squared:                  0.573\n",
      "Method:                 Least Squares   F-statistic:                     3097.\n",
      "Date:                Sun, 10 Mar 2019   Prob (F-statistic):               0.00\n",
      "Time:                        11:46:52   Log-Likelihood:            -6.2713e+05\n",
      "No. Observations:               69144   AIC:                         1.254e+06\n",
      "Df Residuals:                   69113   BIC:                         1.255e+06\n",
      "Df Model:                          30                                         \n",
      "Covariance Type:            nonrobust                                         \n",
      "============================================================================================================\n",
      "                                               coef    std err          t      P>|t|      [99.0% Conf. Int.]\n",
      "------------------------------------------------------------------------------------------------------------\n",
      "Interactions_child1_over                   908.5098     53.053     17.125      0.000       771.851  1045.169\n",
      "Interactions_child2_over                  1525.3960     43.458     35.100      0.000      1413.452  1637.339\n",
      "Interactions_child3_over                  2970.1790    100.496     29.555      0.000      2711.310  3229.048\n",
      "Interactions_child4_over                  4797.6209    295.444     16.239      0.000      4036.587  5558.655\n",
      "Interactions_child5_over                  7628.6257   1213.148      6.288      0.000      4503.676  1.08e+04\n",
      "Interactions_child6_over                  1.712e-05   1.89e-06      9.074      0.000      1.23e-05   2.2e-05\n",
      "Interactions_rbg_child1_over                 0.2673      0.003     76.768      0.000         0.258     0.276\n",
      "Interactions_rbg_child2_over                 0.2956      0.002    121.817      0.000         0.289     0.302\n",
      "Interactions_rbg_child3_over                 0.3163      0.005     69.704      0.000         0.305     0.328\n",
      "Interactions_rbg_child4_over                 0.3384      0.012     29.020      0.000         0.308     0.368\n",
      "Interactions_rbg_child5_over                 0.3780      0.046      8.259      0.000         0.260     0.496\n",
      "Interactions_rbg_child6_over                 0.5733      0.063      9.102      0.000         0.411     0.736\n",
      "Interactions_rbg_child1_between              0.1932      0.007     28.013      0.000         0.175     0.211\n",
      "Interactions_rbg_child2_between              0.2580      0.004     69.580      0.000         0.248     0.268\n",
      "Interactions_rbg_child3_between              0.2711      0.005     52.994      0.000         0.258     0.284\n",
      "Interactions_rbg_child4_between              0.2902      0.014     21.286      0.000         0.255     0.325\n",
      "Interactions_rbg_child5_between              0.2939      0.046      6.416      0.000         0.176     0.412\n",
      "Interactions_rbg_child6_between             -0.0954      0.469     -0.203      0.839        -1.304     1.114\n",
      "Interactions_child1_between                852.3724     81.750     10.427      0.000       641.792  1062.953\n",
      "Interactions_child2_between                859.3580     48.339     17.778      0.000       734.842   983.874\n",
      "Interactions_child3_between               1189.9923     84.937     14.010      0.000       971.202  1408.782\n",
      "Interactions_child4_between               1295.5847    255.194      5.077      0.000       638.231  1952.938\n",
      "Interactions_child5_between               1908.8648    928.719      2.055      0.040      -483.422  4301.152\n",
      "Interactions_child6_between               1.293e+04    1.2e+04      1.075      0.282      -1.8e+04  4.39e+04\n",
      "Not_touched_by_reform:C(NBPAC_2011)[0.0]   418.2765     21.700     19.275      0.000       362.379   474.174\n",
      "Not_touched_by_reform:C(NBPAC_2011)[1.0]    72.3268     25.778      2.806      0.005         5.925   138.728\n",
      "Not_touched_by_reform:C(NBPAC_2011)[2.0]   155.5167     16.651      9.340      0.000       112.625   198.409\n",
      "Not_touched_by_reform:C(NBPAC_2011)[3.0]  -104.0909     27.052     -3.848      0.000      -173.774   -34.408\n",
      "Not_touched_by_reform:C(NBPAC_2011)[4.0]  -292.3286     91.162     -3.207      0.001      -527.152   -57.505\n",
      "Not_touched_by_reform:C(NBPAC_2011)[5.0]  -692.6736    346.330     -2.000      0.045     -1584.784   199.437\n",
      "Not_touched_by_reform:C(NBPAC_2011)[6.0]   184.5829    701.185      0.263      0.792     -1621.601  1990.767\n",
      "Delta_Rbg_times_not_touched_reform           0.1576      0.001    147.457      0.000         0.155     0.160\n",
      "==============================================================================\n",
      "Omnibus:                    57924.211   Durbin-Watson:                   1.997\n",
      "Prob(Omnibus):                  0.000   Jarque-Bera (JB):         74459295.386\n",
      "Skew:                           2.744   Prob(JB):                         0.00\n",
      "Kurtosis:                     163.670   Cond. No.                     2.25e+15\n",
      "==============================================================================\n",
      "\n",
      "Warnings:\n",
      "[1] Standard Errors assume that the covariance matrix of the errors is correctly specified.\n",
      "[2] The smallest eigenvalue is 1.71e-18. This might indicate that there are\n",
      "strong multicollinearity problems or that the design matrix is singular.\n"
     ]
    }
   ],
   "source": [
    "### To_keep article !!\n",
    "m = sm.OLS.from_formula(\"(Delta_ZIMPOM)~   {} - 1 + Not_touched_by_reform:C(NBPAC_2011) + Delta_Rbg_times_not_touched_reform\".format(\n",
    "        ' + '.join( interactions_child_over+interactions_rbg_over+interactions_rbg_between+interactions_child_between)),\n",
    "       df.query(\"(ZVALM_2011<50)&(ZIMPOM_2011>500)&(ZIMPOM14_2014>500)&(ZVAMM_2011<200)& (ZRACM_2011<200) & (ZETRM_2011<100)&(Delta_rbg_positif==1)\").sample(frac = 1))\n",
    "fit = m.fit()\n",
    "fit.conf_int()\n",
    "\n",
    "\n",
    "summary = fit.summary(alpha = 0.01); print(summary)"
   ]
  },
  {
   "cell_type": "code",
   "execution_count": 74,
   "metadata": {},
   "outputs": [
    {
     "name": "stdout",
     "output_type": "stream",
     "text": [
      "                            OLS Regression Results                            \n",
      "==============================================================================\n",
      "Dep. Variable:           Delta_ZIMPOM   R-squared:                       0.450\n",
      "Model:                            OLS   Adj. R-squared:                  0.450\n",
      "Method:                 Least Squares   F-statistic:                     6083.\n",
      "Date:                Sun, 10 Mar 2019   Prob (F-statistic):               0.00\n",
      "Time:                        11:46:55   Log-Likelihood:            -1.8898e+06\n",
      "No. Observations:              193555   AIC:                         3.780e+06\n",
      "Df Residuals:                  193529   BIC:                         3.780e+06\n",
      "Df Model:                          26                                         \n",
      "Covariance Type:            nonrobust                                         \n",
      "============================================================================================================\n",
      "                                               coef    std err          t      P>|t|      [99.0% Conf. Int.]\n",
      "------------------------------------------------------------------------------------------------------------\n",
      "Interactions_child1_over                  1224.3973     39.711     30.833      0.000      1122.107  1326.688\n",
      "Interactions_child2_over                  1987.6478     31.037     64.042      0.000      1907.702  2067.594\n",
      "Interactions_child3_over                  3682.0550     62.079     59.312      0.000      3522.148  3841.962\n",
      "Interactions_child4_over                  5204.0786    173.316     30.027      0.000      4757.642  5650.516\n",
      "Interactions_child5_over                  1.312e+04    709.461     18.496      0.000      1.13e+04  1.49e+04\n",
      "Interactions_child6_over                  5967.3918   1926.077      3.098      0.002      1006.098  1.09e+04\n",
      "Interactions_rbg_child1_over                 0.2585      0.002    113.981      0.000         0.253     0.264\n",
      "Interactions_rbg_child2_over                 0.2791      0.002    178.099      0.000         0.275     0.283\n",
      "Interactions_rbg_child3_over                 0.3102      0.003    117.084      0.000         0.303     0.317\n",
      "Interactions_rbg_child4_over                 0.3253      0.007     49.645      0.000         0.308     0.342\n",
      "Interactions_rbg_child5_over                 0.3352      0.026     13.005      0.000         0.269     0.402\n",
      "Interactions_rbg_child6_over                 0.3658      0.061      5.957      0.000         0.208     0.524\n",
      "Interactions_rbg_child1_between              0.1985      0.006     34.618      0.000         0.184     0.213\n",
      "Interactions_rbg_child2_between              0.2470      0.003     87.296      0.000         0.240     0.254\n",
      "Interactions_rbg_child3_between              0.2679      0.003     78.087      0.000         0.259     0.277\n",
      "Interactions_rbg_child4_between              0.2873      0.007     39.131      0.000         0.268     0.306\n",
      "Interactions_rbg_child5_between              0.2781      0.018     15.573      0.000         0.232     0.324\n",
      "Interactions_rbg_child6_between              0.0139      0.051      0.272      0.785        -0.118     0.146\n",
      "Not_touched_by_reform:C(NBPAC_2011)[0.0]   237.4888     20.243     11.732      0.000       185.345   289.633\n",
      "Not_touched_by_reform:C(NBPAC_2011)[1.0]   131.1185     33.860      3.872      0.000        43.899   218.338\n",
      "Not_touched_by_reform:C(NBPAC_2011)[2.0]   199.7846     20.041      9.969      0.000       148.162   251.407\n",
      "Not_touched_by_reform:C(NBPAC_2011)[3.0]  -128.1595     29.329     -4.370      0.000      -203.708   -52.611\n",
      "Not_touched_by_reform:C(NBPAC_2011)[4.0]  -464.8032     70.900     -6.556      0.000      -647.431  -282.176\n",
      "Not_touched_by_reform:C(NBPAC_2011)[5.0]  -651.6217    175.284     -3.718      0.000     -1103.127  -200.117\n",
      "Not_touched_by_reform:C(NBPAC_2011)[6.0]  -373.2759    333.930     -1.118      0.264     -1233.430   486.878\n",
      "Delta_Rbg_times_not_touched_reform           0.1623      0.001    195.129      0.000         0.160     0.164\n",
      "==============================================================================\n",
      "Omnibus:                   262218.574   Durbin-Watson:                   1.992\n",
      "Prob(Omnibus):                  0.000   Jarque-Bera (JB):       4622951319.320\n",
      "Skew:                           6.346   Prob(JB):                         0.00\n",
      "Kurtosis:                     760.011   Cond. No.                     2.61e+06\n",
      "==============================================================================\n",
      "\n",
      "Warnings:\n",
      "[1] Standard Errors assume that the covariance matrix of the errors is correctly specified.\n",
      "[2] The condition number is large, 2.61e+06. This might indicate that there are\n",
      "strong multicollinearity or other numerical problems.\n"
     ]
    }
   ],
   "source": [
    "### To_keep article !!\n",
    "m = sm.OLS.from_formula(\"(Delta_ZIMPOM)~   {} - 1 + Not_touched_by_reform:C(NBPAC_2011) + Delta_Rbg_times_not_touched_reform\".format(\n",
    "        ' + '.join( interactions_child_over+interactions_rbg_over+interactions_rbg_between))\n",
    "                                                                                        , df.sample(frac = 1))\n",
    "fit = m.fit()\n",
    "fit.conf_int()\n",
    "summary = fit.summary(alpha = 0.01); print(summary)"
   ]
  },
  {
   "cell_type": "code",
   "execution_count": 75,
   "metadata": {},
   "outputs": [
    {
     "data": {
      "text/plain": [
       "0    1\n",
       "1    0\n",
       "2    0\n",
       "3    0\n",
       "4    0\n",
       "Name: Between_thresholds, dtype: int32"
      ]
     },
     "execution_count": 75,
     "metadata": {},
     "output_type": "execute_result"
    }
   ],
   "source": [
    "df.Between_thresholds.head()"
   ]
  },
  {
   "cell_type": "code",
   "execution_count": 76,
   "metadata": {},
   "outputs": [
    {
     "name": "stdout",
     "output_type": "stream",
     "text": [
      "                            OLS Regression Results                            \n",
      "==============================================================================\n",
      "Dep. Variable:           Delta_ZIMPOM   R-squared:                       0.625\n",
      "Model:                            OLS   Adj. R-squared:                  0.625\n",
      "Method:                 Least Squares   F-statistic:                     4724.\n",
      "Date:                Sun, 10 Mar 2019   Prob (F-statistic):               0.00\n",
      "Time:                        11:46:56   Log-Likelihood:            -7.9791e+05\n",
      "No. Observations:               87773   AIC:                         1.596e+06\n",
      "Df Residuals:                   87741   BIC:                         1.596e+06\n",
      "Df Model:                          31                                         \n",
      "Covariance Type:            nonrobust                                         \n",
      "============================================================================================================\n",
      "                                               coef    std err          t      P>|t|      [99.0% Conf. Int.]\n",
      "------------------------------------------------------------------------------------------------------------\n",
      "Interactions_child1_over                  1138.6689     31.301     36.378      0.000      1058.041  1219.296\n",
      "Interactions_child2_over                  1859.0810     25.815     72.015      0.000      1792.584  1925.578\n",
      "Interactions_child3_over                  3184.2812     55.965     56.898      0.000      3040.123  3328.440\n",
      "Interactions_child4_over                  5119.3594    166.187     30.805      0.000      4691.282  5547.437\n",
      "Interactions_child5_over                  6920.5810    707.484      9.782      0.000      5098.185  8742.977\n",
      "Interactions_child6_over                  6154.7631   1518.646      4.053      0.000      2242.905  1.01e+04\n",
      "Interactions_rbg_child1_over                 0.2490      0.002    122.923      0.000         0.244     0.254\n",
      "Interactions_rbg_child2_over                 0.2753      0.001    189.027      0.000         0.272     0.279\n",
      "Interactions_rbg_child3_over                 0.3046      0.003    117.492      0.000         0.298     0.311\n",
      "Interactions_rbg_child4_over                 0.3276      0.007     48.303      0.000         0.310     0.345\n",
      "Interactions_rbg_child5_over                 0.4043      0.028     14.210      0.000         0.331     0.478\n",
      "Interactions_rbg_child6_over                 0.3890      0.044      8.775      0.000         0.275     0.503\n",
      "Interactions_rbg_child1_between              0.1832      0.005     39.146      0.000         0.171     0.195\n",
      "Interactions_rbg_child2_between              0.2227      0.003     87.703      0.000         0.216     0.229\n",
      "Interactions_rbg_child3_between              0.2300      0.003     67.091      0.000         0.221     0.239\n",
      "Interactions_rbg_child4_between              0.2334      0.008     27.725      0.000         0.212     0.255\n",
      "Interactions_rbg_child5_between              0.2252      0.019     11.706      0.000         0.176     0.275\n",
      "Interactions_rbg_child6_between             -0.0194      0.032     -0.612      0.540        -0.101     0.062\n",
      "Interactions_child1_between                910.6414     53.640     16.977      0.000       772.472  1048.811\n",
      "Interactions_child2_between               1248.1491     31.925     39.096      0.000      1165.913  1330.385\n",
      "Interactions_child3_between               1783.0266     54.661     32.620      0.000      1642.226  1923.828\n",
      "Interactions_child4_between               2262.6556    151.410     14.944      0.000      1872.640  2652.671\n",
      "Interactions_child5_between               2941.5391    401.909      7.319      0.000      1906.267  3976.811\n",
      "Interactions_child6_between               1.006e+04    961.282     10.465      0.000      7583.469  1.25e+04\n",
      "Not_touched_by_reform:C(NBPAC_2011)[0.0]   180.3462     15.594     11.565      0.000       140.179   220.513\n",
      "Not_touched_by_reform:C(NBPAC_2011)[1.0]    98.5790     23.120      4.264      0.000        39.025   158.133\n",
      "Not_touched_by_reform:C(NBPAC_2011)[2.0]   145.9411     14.330     10.184      0.000       109.029   182.853\n",
      "Not_touched_by_reform:C(NBPAC_2011)[3.0]  -106.7023     24.767     -4.308      0.000      -170.500   -42.904\n",
      "Not_touched_by_reform:C(NBPAC_2011)[4.0]  -286.4654     86.591     -3.308      0.001      -509.513   -63.418\n",
      "Not_touched_by_reform:C(NBPAC_2011)[5.0]  -694.9234    331.497     -2.096      0.036     -1548.822   158.975\n",
      "Not_touched_by_reform:C(NBPAC_2011)[6.0]   -37.7198    678.987     -0.056      0.956     -1786.713  1711.273\n",
      "Delta_Rbg_times_not_touched_reform           0.1652      0.001    214.692      0.000         0.163     0.167\n",
      "==============================================================================\n",
      "Omnibus:                    62973.759   Durbin-Watson:                   1.996\n",
      "Prob(Omnibus):                  0.000   Jarque-Bera (JB):         53793433.773\n",
      "Skew:                           2.111   Prob(JB):                         0.00\n",
      "Kurtosis:                     124.207   Cond. No.                     2.28e+06\n",
      "==============================================================================\n",
      "\n",
      "Warnings:\n",
      "[1] Standard Errors assume that the covariance matrix of the errors is correctly specified.\n",
      "[2] The condition number is large, 2.28e+06. This might indicate that there are\n",
      "strong multicollinearity or other numerical problems.\n"
     ]
    }
   ],
   "source": [
    "### To_keep article !!\n",
    "m = sm.OLS.from_formula(\"(Delta_ZIMPOM)~   {} - 1 + Not_touched_by_reform:C(NBPAC_2011) + Delta_Rbg_times_not_touched_reform\".format(\n",
    "        ' + '.join( interactions_child_over+interactions_rbg_over+interactions_rbg_between+interactions_child_between))\n",
    "                                                                                        , df.query(\"(ZVALM_2011<50)&(ZIMPOM_2011>500)&(ZIMPOM14_2014>500)&(ZVAMM_2011<200)& (ZRACM_2011<200) & (ZETRM_2011<100)\").sample(frac = 1))\n",
    "fit = m.fit()\n",
    "fit.conf_int()\n",
    "summary = fit.summary(alpha = 0.01); print(summary)"
   ]
  },
  {
   "cell_type": "code",
   "execution_count": 77,
   "metadata": {},
   "outputs": [],
   "source": [
    "\n",
    "df_expetcted_values = pd.DataFrame()\n",
    "df_expetcted_values.loc[\"Over_lumpsum_1\",\"expected_same_rbg2\"] = 836\n",
    "df_expetcted_values.loc[\"Over_lumpsum_2\",\"expected_same_rbg2\"] = 836 * 2 \n",
    "df_expetcted_values.loc[\"Over_lumpsum_3\",\"expected_same_rbg2\"] = 836 * 4 \n",
    "df_expetcted_values.loc[\"Over_lumpsum_4\",\"expected_same_rbg2\"] = 836 * 6\n",
    "df_expetcted_values.loc[\"Over_lumpsum_5\",\"expected_same_rbg2\"] = 836 * 8\n",
    "\n",
    "df_expetcted_values.loc[\"Over_lumpsum_1\",\"expected_same_rbg\"] = df.query(\"Interactions_child1_over == 1\").Irpp_2011.mean() - df.query(\"Interactions_child1_over == 1\").Counterfactual_Irpp_2011.mean() \n",
    "df_expetcted_values.loc[\"Over_lumpsum_2\",\"expected_same_rbg\"] = df.query(\"Interactions_child2_over == 1\").Irpp_2011.mean() - df.query(\"Interactions_child2_over == 1\").Counterfactual_Irpp_2011.mean() \n",
    "df_expetcted_values.loc[\"Over_lumpsum_3\",\"expected_same_rbg\"] = df.query(\"Interactions_child3_over == 1\").Irpp_2011.mean() - df.query(\"Interactions_child3_over == 1\").Counterfactual_Irpp_2011.mean() \n",
    "df_expetcted_values.loc[\"Over_lumpsum_4\",\"expected_same_rbg\"] = df.query(\"Interactions_child4_over == 1\").Irpp_2011.mean() - df.query(\"Interactions_child4_over == 1\").Counterfactual_Irpp_2011.mean() \n",
    "df_expetcted_values.loc[\"Over_lumpsum_5\",\"expected_same_rbg\"] = df.query(\"Interactions_child5_over == 1\").Irpp_2011.mean() - df.query(\"Interactions_child5_over == 1\").Counterfactual_Irpp_2011.mean() \n",
    "\n",
    "\n",
    "\n",
    "df_expetcted_values.loc[\"Between_lumpsum_1\",\"expected_same_rbg\"] =30\n",
    "df_expetcted_values.loc[\"Between_lumpsum_2\",\"expected_same_rbg\"] = 836 * 2 \n",
    "df_expetcted_values.loc[\"Between_lumpsum_3\",\"expected_same_rbg\"] = 836 * 4 \n",
    "df_expetcted_values.loc[\"Between_lumpsum_4\",\"expected_same_rbg\"] = 836 * 6\n",
    "df_expetcted_values.loc[\"Between_lumpsum_5\",\"expected_same_rbg\"] = 836 * 8\n",
    "\n",
    "\n",
    "\n",
    "df_expetcted_values.loc[\"Over_lumpsum_1\",\"expected\"] = 836\n",
    "df_expetcted_values.loc[\"Over_lumpsum_2\",\"expected\"] = 836 * 2 \n",
    "df_expetcted_values.loc[\"Over_lumpsum_3\",\"expected\"] = 836 * 4 \n",
    "df_expetcted_values.loc[\"Over_lumpsum_4\",\"expected\"] = 836 * 6\n",
    "df_expetcted_values.loc[\"Over_lumpsum_5\",\"expected\"] = 836 * 8\n",
    "\n",
    "\n",
    "df_expetcted_values.loc[\"Over_MTR_1\", \"expected\"] = df.query(\"Interactions_child1_over == 1\").MTR_2014.mean() \n",
    "df_expetcted_values.loc[\"Over_MTR_2\", \"expected\"] = df.query(\"Interactions_child2_over == 1\").MTR_2014.mean()\n",
    "df_expetcted_values.loc[\"Over_MTR_3\", \"expected\"] = df.query(\"Interactions_child3_over == 1\").MTR_2014.mean() \n",
    "df_expetcted_values.loc[\"Over_MTR_4\", \"expected\"] = df.query(\"Interactions_child4_over == 1\").MTR_2014.mean()\n",
    "df_expetcted_values.loc[\"Over_MTR_5\", \"expected\"] = df.query(\"Interactions_child5_over == 1\").MTR_2014.mean()\n",
    "\n",
    "\n",
    "df_expetcted_values.loc[\"Between_MTR_1\", \"expected\"] = df.query(\"(Between_thresholds==1)& (NBPAC_2011 == 1)\").MTR_2014.mean() \n",
    "df_expetcted_values.loc[\"Between_MTR_2\", \"expected\"] = df.query(\"(Between_thresholds==1)& (NBPAC_2011 == 2)\").MTR_2014.mean()\n",
    "df_expetcted_values.loc[\"Between_MTR_3\", \"expected\"] = df.query(\"(Between_thresholds==1)& (NBPAC_2011 == 3)\").MTR_2014.mean() \n",
    "df_expetcted_values.loc[\"Between_MTR_4\", \"expected\"] = df.query(\"(Between_thresholds==1)& (NBPAC_2011 == 4)\").MTR_2014.mean()\n",
    "df_expetcted_values.loc[\"Between_MTR_5\", \"expected\"] = df.query(\"(Between_thresholds==1)& (NBPAC_2011 == 5)\").MTR_2014.mean()\n",
    "\n",
    "df_expetcted_values.loc[\"Not_touched_by_reform\", \"expected\"] = 18\n",
    "df_expetcted_values.loc[\"Not_touched_by_reform_MTR\", \"expected\"] = df.query(\"Not_touched_by_reform == True\").MTR_2014.mean()\n",
    "\n",
    "\n",
    "\n",
    "\n",
    "\n",
    "\n",
    "df_expetcted_values.loc[\"Over_lumpsum_1\",\"expected\"] = (df.query(\"Interactions_child1_over == 1\").Counterfactual_Irpp_2014 \n",
    "                                                        - df.query(\"Interactions_child1_over == 1\").Irpp_2011).mean()\n",
    "df_expetcted_values.loc[\"Over_lumpsum_2\",\"expected\"] = (df.query(\"Interactions_child2_over == 1\").Counterfactual_Irpp_2014 \n",
    "                                                        - df.query(\"Interactions_child2_over == 1\").Irpp_2011).mean()\n",
    "df_expetcted_values.loc[\"Over_lumpsum_3\",\"expected\"] = (df.query(\"Interactions_child3_over == 1\").Counterfactual_Irpp_2014 \n",
    "                                                        - df.query(\"Interactions_child3_over == 1\").Irpp_2011).mean()\n",
    "df_expetcted_values.loc[\"Over_lumpsum_4\",\"expected\"] = (df.query(\"Interactions_child4_over == 1\").Counterfactual_Irpp_2014 \n",
    "                                                        - df.query(\"Interactions_child4_over == 1\").Irpp_2011).mean()\n",
    "df_expetcted_values.loc[\"Over_lumpsum_5\",\"expected\"] = (df.query(\"Interactions_child5_over == 1\").Counterfactual_Irpp_2014 \n",
    "                                                        - df.query(\"Interactions_child5_over == 1\").Irpp_2011).mean()\n",
    "\n",
    "\n",
    "df_expetcted_values.loc[\"Over_MTR_1\", \"expected\"] = df.query(\"Interactions_child1_over == 1\").Counterfactual_MTR_2011.mean() \n",
    "df_expetcted_values.loc[\"Over_MTR_2\", \"expected\"] = df.query(\"Interactions_child2_over == 1\").Counterfactual_MTR_2011.mean()\n",
    "df_expetcted_values.loc[\"Over_MTR_3\", \"expected\"] = df.query(\"Interactions_child3_over == 1\").Counterfactual_MTR_2011.mean() \n",
    "df_expetcted_values.loc[\"Over_MTR_4\", \"expected\"] = df.query(\"Interactions_child4_over == 1\").Counterfactual_MTR_2011.mean()\n",
    "df_expetcted_values.loc[\"Over_MTR_5\", \"expected\"] = df.query(\"Interactions_child5_over == 1\").Counterfactual_MTR_2011.mean()\n",
    "\n",
    "\n",
    "df_expetcted_values.loc[\"Between_MTR_1\", \"expected\"] = df.query(\"(Between_thresholds==1)& (NBPAC_2011 == 1)\").Counterfactual_MTR_2011.mean() \n",
    "df_expetcted_values.loc[\"Between_MTR_2\", \"expected\"] = df.query(\"(Between_thresholds==1)& (NBPAC_2011 == 2)\").Counterfactual_MTR_2011.mean()\n",
    "df_expetcted_values.loc[\"Between_MTR_3\", \"expected\"] = df.query(\"(Between_thresholds==1)& (NBPAC_2011 == 3)\").Counterfactual_MTR_2011.mean() \n",
    "df_expetcted_values.loc[\"Between_MTR_4\", \"expected\"] = df.query(\"(Between_thresholds==1)& (NBPAC_2011 == 4)\").Counterfactual_MTR_2011.mean()\n",
    "df_expetcted_values.loc[\"Between_MTR_5\", \"expected\"] = df.query(\"(Between_thresholds==1)& (NBPAC_2011 == 5)\").Counterfactual_MTR_2011.mean()\n",
    "\n",
    "df_expetcted_values.loc[\"Not_touched_by_reform\", \"expected\"] = 18\n",
    "df_expetcted_values.loc[\"Not_touched_by_reform_MTR\", \"expected\"] = df.query(\"Not_touched_by_reform == True\").Counterfactual_MTR_2014.mean()\n",
    "\n",
    "\n",
    "\n",
    "\n",
    "\n",
    "\n",
    "\n",
    "\n",
    "# df_expetcted_values[\"OLS\"] = fit.params.values\n",
    "# df_expetcted_values[\"Delta_OLS\"] = df_expetcted_values[\"OLS\"]-df_expetcted_values[\"expected\"]"
   ]
  },
  {
   "cell_type": "code",
   "execution_count": 78,
   "metadata": {},
   "outputs": [
    {
     "data": {
      "text/plain": [
       "<bound method Series.describe of Interactions_child1_over                     1138.668897\n",
       "Interactions_child2_over                     1859.081007\n",
       "Interactions_child3_over                     3184.281197\n",
       "Interactions_child4_over                     5119.359370\n",
       "Interactions_child5_over                     6920.581010\n",
       "Interactions_child6_over                     6154.763135\n",
       "Interactions_rbg_child1_over                    0.249042\n",
       "Interactions_rbg_child2_over                    0.275315\n",
       "Interactions_rbg_child3_over                    0.304584\n",
       "Interactions_rbg_child4_over                    0.327581\n",
       "Interactions_rbg_child5_over                    0.404251\n",
       "Interactions_rbg_child6_over                    0.388969\n",
       "Interactions_rbg_child1_between                 0.183153\n",
       "Interactions_rbg_child2_between                 0.222697\n",
       "Interactions_rbg_child3_between                 0.230030\n",
       "Interactions_rbg_child4_between                 0.233436\n",
       "Interactions_rbg_child5_between                 0.225226\n",
       "Interactions_rbg_child6_between                -0.019433\n",
       "Interactions_child1_between                   910.641438\n",
       "Interactions_child2_between                  1248.149127\n",
       "Interactions_child3_between                  1783.026559\n",
       "Interactions_child4_between                  2262.655620\n",
       "Interactions_child5_between                  2941.539067\n",
       "Interactions_child6_between                 10059.622384\n",
       "Not_touched_by_reform:C(NBPAC_2011)[0.0]      180.346178\n",
       "Not_touched_by_reform:C(NBPAC_2011)[1.0]       98.579043\n",
       "Not_touched_by_reform:C(NBPAC_2011)[2.0]      145.941061\n",
       "Not_touched_by_reform:C(NBPAC_2011)[3.0]     -106.702306\n",
       "Not_touched_by_reform:C(NBPAC_2011)[4.0]     -286.465434\n",
       "Not_touched_by_reform:C(NBPAC_2011)[5.0]     -694.923379\n",
       "Not_touched_by_reform:C(NBPAC_2011)[6.0]      -37.719826\n",
       "Delta_Rbg_times_not_touched_reform              0.165162\n",
       "dtype: float64>"
      ]
     },
     "execution_count": 78,
     "metadata": {},
     "output_type": "execute_result"
    }
   ],
   "source": [
    "fit.params.describe"
   ]
  },
  {
   "cell_type": "code",
   "execution_count": 79,
   "metadata": {},
   "outputs": [
    {
     "data": {
      "text/plain": [
       "array([-680.97])"
      ]
     },
     "execution_count": 79,
     "metadata": {},
     "output_type": "execute_result"
    }
   ],
   "source": [
    "\n",
    "ir_2011.ir_avec_plafond_qf_enfant(np.array([85000]), np.array([0.5]))-  ir_2014.ir_avec_plafond_qf_enfant(np.array([85000]), np.array([0.5]))"
   ]
  },
  {
   "cell_type": "code",
   "execution_count": 80,
   "metadata": {},
   "outputs": [
    {
     "data": {
      "text/html": [
       "<div>\n",
       "<table border=\"1\" class=\"dataframe\">\n",
       "  <thead>\n",
       "    <tr style=\"text-align: right;\">\n",
       "      <th></th>\n",
       "      <th>expected_same_rbg2</th>\n",
       "      <th>expected_same_rbg</th>\n",
       "      <th>expected</th>\n",
       "    </tr>\n",
       "  </thead>\n",
       "  <tbody>\n",
       "    <tr>\n",
       "      <th>Over_lumpsum_1</th>\n",
       "      <td>836</td>\n",
       "      <td>-669.766751</td>\n",
       "      <td>1267.204433</td>\n",
       "    </tr>\n",
       "    <tr>\n",
       "      <th>Over_lumpsum_2</th>\n",
       "      <td>1672</td>\n",
       "      <td>-1488.925320</td>\n",
       "      <td>2065.162118</td>\n",
       "    </tr>\n",
       "    <tr>\n",
       "      <th>Over_lumpsum_3</th>\n",
       "      <td>3344</td>\n",
       "      <td>-3111.518390</td>\n",
       "      <td>2824.891414</td>\n",
       "    </tr>\n",
       "    <tr>\n",
       "      <th>Over_lumpsum_4</th>\n",
       "      <td>5016</td>\n",
       "      <td>-4719.088800</td>\n",
       "      <td>3658.975696</td>\n",
       "    </tr>\n",
       "    <tr>\n",
       "      <th>Over_lumpsum_5</th>\n",
       "      <td>6688</td>\n",
       "      <td>-6285.332310</td>\n",
       "      <td>4851.605929</td>\n",
       "    </tr>\n",
       "    <tr>\n",
       "      <th>Between_lumpsum_1</th>\n",
       "      <td>NaN</td>\n",
       "      <td>30.000000</td>\n",
       "      <td>NaN</td>\n",
       "    </tr>\n",
       "    <tr>\n",
       "      <th>Between_lumpsum_2</th>\n",
       "      <td>NaN</td>\n",
       "      <td>1672.000000</td>\n",
       "      <td>NaN</td>\n",
       "    </tr>\n",
       "    <tr>\n",
       "      <th>Between_lumpsum_3</th>\n",
       "      <td>NaN</td>\n",
       "      <td>3344.000000</td>\n",
       "      <td>NaN</td>\n",
       "    </tr>\n",
       "    <tr>\n",
       "      <th>Between_lumpsum_4</th>\n",
       "      <td>NaN</td>\n",
       "      <td>5016.000000</td>\n",
       "      <td>NaN</td>\n",
       "    </tr>\n",
       "    <tr>\n",
       "      <th>Between_lumpsum_5</th>\n",
       "      <td>NaN</td>\n",
       "      <td>6688.000000</td>\n",
       "      <td>NaN</td>\n",
       "    </tr>\n",
       "    <tr>\n",
       "      <th>Over_MTR_1</th>\n",
       "      <td>NaN</td>\n",
       "      <td>NaN</td>\n",
       "      <td>0.305823</td>\n",
       "    </tr>\n",
       "    <tr>\n",
       "      <th>Over_MTR_2</th>\n",
       "      <td>NaN</td>\n",
       "      <td>NaN</td>\n",
       "      <td>0.309416</td>\n",
       "    </tr>\n",
       "    <tr>\n",
       "      <th>Over_MTR_3</th>\n",
       "      <td>NaN</td>\n",
       "      <td>NaN</td>\n",
       "      <td>0.324800</td>\n",
       "    </tr>\n",
       "    <tr>\n",
       "      <th>Over_MTR_4</th>\n",
       "      <td>NaN</td>\n",
       "      <td>NaN</td>\n",
       "      <td>0.347988</td>\n",
       "    </tr>\n",
       "    <tr>\n",
       "      <th>Over_MTR_5</th>\n",
       "      <td>NaN</td>\n",
       "      <td>NaN</td>\n",
       "      <td>0.394286</td>\n",
       "    </tr>\n",
       "    <tr>\n",
       "      <th>Between_MTR_1</th>\n",
       "      <td>NaN</td>\n",
       "      <td>NaN</td>\n",
       "      <td>0.285048</td>\n",
       "    </tr>\n",
       "    <tr>\n",
       "      <th>Between_MTR_2</th>\n",
       "      <td>NaN</td>\n",
       "      <td>NaN</td>\n",
       "      <td>0.292524</td>\n",
       "    </tr>\n",
       "    <tr>\n",
       "      <th>Between_MTR_3</th>\n",
       "      <td>NaN</td>\n",
       "      <td>NaN</td>\n",
       "      <td>0.294966</td>\n",
       "    </tr>\n",
       "    <tr>\n",
       "      <th>Between_MTR_4</th>\n",
       "      <td>NaN</td>\n",
       "      <td>NaN</td>\n",
       "      <td>0.295672</td>\n",
       "    </tr>\n",
       "    <tr>\n",
       "      <th>Between_MTR_5</th>\n",
       "      <td>NaN</td>\n",
       "      <td>NaN</td>\n",
       "      <td>0.292920</td>\n",
       "    </tr>\n",
       "    <tr>\n",
       "      <th>Not_touched_by_reform</th>\n",
       "      <td>NaN</td>\n",
       "      <td>NaN</td>\n",
       "      <td>18.000000</td>\n",
       "    </tr>\n",
       "    <tr>\n",
       "      <th>Not_touched_by_reform_MTR</th>\n",
       "      <td>NaN</td>\n",
       "      <td>NaN</td>\n",
       "      <td>0.184606</td>\n",
       "    </tr>\n",
       "  </tbody>\n",
       "</table>\n",
       "</div>"
      ],
      "text/plain": [
       "                           expected_same_rbg2  expected_same_rbg     expected\n",
       "Over_lumpsum_1                            836        -669.766751  1267.204433\n",
       "Over_lumpsum_2                           1672       -1488.925320  2065.162118\n",
       "Over_lumpsum_3                           3344       -3111.518390  2824.891414\n",
       "Over_lumpsum_4                           5016       -4719.088800  3658.975696\n",
       "Over_lumpsum_5                           6688       -6285.332310  4851.605929\n",
       "Between_lumpsum_1                         NaN          30.000000          NaN\n",
       "Between_lumpsum_2                         NaN        1672.000000          NaN\n",
       "Between_lumpsum_3                         NaN        3344.000000          NaN\n",
       "Between_lumpsum_4                         NaN        5016.000000          NaN\n",
       "Between_lumpsum_5                         NaN        6688.000000          NaN\n",
       "Over_MTR_1                                NaN                NaN     0.305823\n",
       "Over_MTR_2                                NaN                NaN     0.309416\n",
       "Over_MTR_3                                NaN                NaN     0.324800\n",
       "Over_MTR_4                                NaN                NaN     0.347988\n",
       "Over_MTR_5                                NaN                NaN     0.394286\n",
       "Between_MTR_1                             NaN                NaN     0.285048\n",
       "Between_MTR_2                             NaN                NaN     0.292524\n",
       "Between_MTR_3                             NaN                NaN     0.294966\n",
       "Between_MTR_4                             NaN                NaN     0.295672\n",
       "Between_MTR_5                             NaN                NaN     0.292920\n",
       "Not_touched_by_reform                     NaN                NaN    18.000000\n",
       "Not_touched_by_reform_MTR                 NaN                NaN     0.184606"
      ]
     },
     "execution_count": 80,
     "metadata": {},
     "output_type": "execute_result"
    }
   ],
   "source": [
    "df_expetcted_values"
   ]
  },
  {
   "cell_type": "code",
   "execution_count": 81,
   "metadata": {},
   "outputs": [],
   "source": [
    "\n",
    "# df[\"Treatment_0_2011\"] = False * df.shape[0]\n",
    "\n",
    "\n",
    "\n",
    "# df[\"Treatment_1_2011\"] = False * df.shape[0]\n",
    "\n",
    "\n",
    "# df[\"Treatment_2_2011\"] = False * df.shape[0]\n",
    "# for child in range(1,7):\n",
    "\n",
    "#     df[\"Treatment_1_2011\"] += (df.NBPAC_2011 == child) * df[\"Between_threshold_{}_child\".format(child)]\n",
    "    \n",
    "\n",
    "#     df[\"Treatment_2_2011\"] += (df.NBPAC_2011 == child) * df[\"Over_threshold_{}_child\".format(child)]\n",
    "# df[\"Treatment_1_2011\"] = df[\"Treatment_1_2011\"].astype(\"bool\")\n",
    "# df[\"Treatment_2_2011\"] = df[\"Treatment_2_2011\"].astype(\"bool\")\n",
    "# df[\"Treatment_0_2011\"] = ~(df.Treatment_1_2011 |df_start.Treatment_2_2011)\n",
    "\n",
    "# print(df.query(\"Treatment_1_2011==1\").Counterfactual_MTR_2011.mean())\n",
    "# print(df.query(\"Between_thresholds==1\").Counterfactual_MTR_2011.mean())"
   ]
  },
  {
   "cell_type": "markdown",
   "metadata": {},
   "source": [
    "### Graphs MTR"
   ]
  },
  {
   "cell_type": "code",
   "execution_count": 82,
   "metadata": {},
   "outputs": [],
   "source": [
    "import matplotlib"
   ]
  },
  {
   "cell_type": "code",
   "execution_count": 83,
   "metadata": {},
   "outputs": [
    {
     "data": {
      "text/plain": [
       "<matplotlib.text.Text at 0x10f5963c8>"
      ]
     },
     "execution_count": 83,
     "metadata": {},
     "output_type": "execute_result"
    },
    {
     "data": {
      "image/png": "[encoded data removed]",
      "text/plain": [
       "<matplotlib.figure.Figure at 0x70ee1198>"
      ]
     },
     "metadata": {},
     "output_type": "display_data"
    }
   ],
   "source": [
    "sns.set(font_scale = 1.7)\n",
    "df[\"Real_MTR_from_Zimpom\"] = (df.ZIMPOM14_2014 - df.ZIMPOM_2011)/(df.Rbg_2014 - df.Rbg_2011)\n",
    "plt.figure(figsize = (20,7))\n",
    "plt.subplot(1,2,1)\n",
    "df.query(\"(-1<Real_MTR_from_Zimpom<1)\").Real_MTR_from_Zimpom.hist(bins = 100)\n",
    "y_min, y_max = plt.ylim()\n",
    "plt.axvline(0.3,  color = 'r',alpha = 0.4)\n",
    "plt.axvline(0.14, color = 'r',alpha = 0.4)\n",
    "plt.axvline(0.41, color = 'r',alpha = 0.4)\n",
    "plt.axvline(0.45, color = 'r',alpha = 0.4)\n",
    "plt.ylabel(\"Number of Households\")\n",
    "plt.xlabel(\"MTR\")\n",
    "plt.title(\"Effective MTR\")\n",
    "plt.subplot(1,2,2)\n",
    "plt.title(\"Computed/Statutory MTR\")\n",
    "df.MTR_2014.hist(bins = 51)\n",
    "plt.axvline(0.3,  color = 'r',alpha = 0.4)\n",
    "plt.axvline(0.14, color = 'r',alpha = 0.4)\n",
    "plt.axvline(0.41, color = 'r',alpha = 0.4)\n",
    "plt.axvline(0.45, color = 'r',alpha = 0.4)\n",
    "plt.xlabel(\"MTR\")"
   ]
  },
  {
   "cell_type": "code",
   "execution_count": 84,
   "metadata": {},
   "outputs": [
    {
     "data": {
      "text/plain": [
       "<matplotlib.legend.Legend at 0x7579ca20>"
      ]
     },
     "execution_count": 84,
     "metadata": {},
     "output_type": "execute_result"
    },
    {
     "data": {
      "image/png": "[encoded data removed]",
      "text/plain": [
       "<matplotlib.figure.Figure at 0x114d13d68>"
      ]
     },
     "metadata": {},
     "output_type": "display_data"
    }
   ],
   "source": [
    "#Transformer en barplot plutpot qu'en hist\n",
    "import matplotlib as mpl\n",
    "import matplotlib.patches as mpatches\n",
    "\n",
    "# mpl.rcParams[\"hatch.color\"] = \"white\"\n",
    "# mpl.rcParams['hatch.linewidth'] = 2\n",
    "\n",
    "fig,ax = plt.subplots(figsize = (10,7))\n",
    "\n",
    "plt.title(\"Computed MTR\")\n",
    "df.MTR_2011.hist(bins = 51, color = (0,0,0,0), alpha=0.5, zorder = 3, label = \"MTR 2011\")\n",
    "#df.MTR_2011.hist(bins = 51, color = \"k\", alpha=0.7, zorder = 1, )\n",
    "\n",
    "plt.axvline(0.3,  color = 'red',)\n",
    "plt.axvline(0.14, color = 'red',)\n",
    "plt.axvline(0.41, color = 'red',)\n",
    "\n",
    "\n",
    "plt.title(\"Computed MTR\")\n",
    "df.MTR_2014.hist(bins = 51, color = \"w\", alpha=0.7, zorder = 4, label = \"MTR 2014\")\n",
    "\n",
    "#ax.set_xticks([0, 0.055, 0.14, 0.28, 0.3, 0.41])\n",
    "plt.xlabel(\"MTR\")\n",
    "plt.ylabel(\"Headcount\")\n",
    "plt.legend()\n"
   ]
  },
  {
   "cell_type": "code",
   "execution_count": 85,
   "metadata": {},
   "outputs": [
    {
     "data": {
      "text/plain": [
       "0.140    116381\n",
       "0.300     60927\n",
       "0.055      5883\n",
       "0.410      4923\n",
       "0.083      2220\n",
       "0.082      1784\n",
       "0.000      1269\n",
       "dtype: int64"
      ]
     },
     "execution_count": 85,
     "metadata": {},
     "output_type": "execute_result"
    }
   ],
   "source": [
    "df.MTR_2011.value_counts().iloc[:7]"
   ]
  },
  {
   "cell_type": "code",
   "execution_count": 86,
   "metadata": {},
   "outputs": [
    {
     "data": {
      "text/plain": [
       "8.25"
      ]
     },
     "execution_count": 86,
     "metadata": {},
     "output_type": "execute_result"
    }
   ],
   "source": [
    "5.5*1.5"
   ]
  },
  {
   "cell_type": "code",
   "execution_count": 87,
   "metadata": {},
   "outputs": [],
   "source": [
    "df_mtr_2011 = pd.DataFrame((df.MTR_2011).value_counts().iloc[:8]); df_mtr_2011\n",
    "df_mtr_2011.loc[0.083] =df_mtr_2011.loc[0.083]+df_mtr_2011.loc[0.082];df_mtr_2011=  df_mtr_2011[~(df_mtr_2011.index == 0.082)]"
   ]
  },
  {
   "cell_type": "code",
   "execution_count": 88,
   "metadata": {},
   "outputs": [
    {
     "name": "stdout",
     "output_type": "stream",
     "text": [
      "0.140    116381\n",
      "0.300     60927\n",
      "0.055      5883\n",
      "0.410      4923\n",
      "0.083      2220\n",
      "0.082      1784\n",
      "0.000      1269\n",
      "0.210       116\n",
      "0.191         4\n",
      "0.065         3\n",
      "0.063         3\n",
      "dtype: int64\n"
     ]
    },
    {
     "data": {
      "text/html": [
       "<div>\n",
       "<table border=\"1\" class=\"dataframe\">\n",
       "  <thead>\n",
       "    <tr style=\"text-align: right;\">\n",
       "      <th></th>\n",
       "      <th>02011</th>\n",
       "      <th>02014</th>\n",
       "    </tr>\n",
       "  </thead>\n",
       "  <tbody>\n",
       "    <tr>\n",
       "      <th>0.000</th>\n",
       "      <td>1269</td>\n",
       "      <td>3653</td>\n",
       "    </tr>\n",
       "    <tr>\n",
       "      <th>0.055</th>\n",
       "      <td>5883</td>\n",
       "      <td>0</td>\n",
       "    </tr>\n",
       "    <tr>\n",
       "      <th>0.083</th>\n",
       "      <td>4004</td>\n",
       "      <td>0</td>\n",
       "    </tr>\n",
       "    <tr>\n",
       "      <th>0.140</th>\n",
       "      <td>116381</td>\n",
       "      <td>79607</td>\n",
       "    </tr>\n",
       "    <tr>\n",
       "      <th>0.210</th>\n",
       "      <td>116</td>\n",
       "      <td>0</td>\n",
       "    </tr>\n",
       "    <tr>\n",
       "      <th>0.280</th>\n",
       "      <td>0</td>\n",
       "      <td>5597</td>\n",
       "    </tr>\n",
       "    <tr>\n",
       "      <th>0.300</th>\n",
       "      <td>60927</td>\n",
       "      <td>97947</td>\n",
       "    </tr>\n",
       "    <tr>\n",
       "      <th>0.410</th>\n",
       "      <td>4923</td>\n",
       "      <td>6679</td>\n",
       "    </tr>\n",
       "  </tbody>\n",
       "</table>\n",
       "</div>"
      ],
      "text/plain": [
       "        02011  02014\n",
       "0.000    1269   3653\n",
       "0.055    5883      0\n",
       "0.083    4004      0\n",
       "0.140  116381  79607\n",
       "0.210     116      0\n",
       "0.280       0   5597\n",
       "0.300   60927  97947\n",
       "0.410    4923   6679"
      ]
     },
     "execution_count": 88,
     "metadata": {},
     "output_type": "execute_result"
    }
   ],
   "source": [
    "df_mtr_2011 = pd.DataFrame((df.MTR_2011).value_counts().iloc[:8]); print(df.MTR_2011).value_counts().head(11)\n",
    "df_mtr_2011.loc[0.083] =df_mtr_2011.loc[0.083]+df_mtr_2011.loc[0.082];df_mtr_2011=  df_mtr_2011[~(df_mtr_2011.index == 0.082)] #put MTR 0.082 with 0.083 actual value 0.825\n",
    "df_mtr_2014 = pd.DataFrame((df.MTR_2014).value_counts().iloc[:5]); df_mtr_2014\n",
    "pd.merge(df_mtr_2011,df_mtr_2014, left_index = True, right_index = True, how = \"outer\", suffixes = [\"2011\", \"2014\"]).fillna(0)"
   ]
  },
  {
   "cell_type": "code",
   "execution_count": 89,
   "metadata": {},
   "outputs": [
    {
     "data": {
      "text/html": [
       "<div>\n",
       "<table border=\"1\" class=\"dataframe\">\n",
       "  <thead>\n",
       "    <tr style=\"text-align: right;\">\n",
       "      <th></th>\n",
       "      <th>02011</th>\n",
       "      <th>02014</th>\n",
       "    </tr>\n",
       "  </thead>\n",
       "  <tbody>\n",
       "    <tr>\n",
       "      <th>0.0</th>\n",
       "      <td>0.006556</td>\n",
       "      <td>0.018873</td>\n",
       "    </tr>\n",
       "    <tr>\n",
       "      <th>0.055</th>\n",
       "      <td>0.030394</td>\n",
       "      <td>0.000000</td>\n",
       "    </tr>\n",
       "    <tr>\n",
       "      <th>0.083</th>\n",
       "      <td>0.020687</td>\n",
       "      <td>0.000000</td>\n",
       "    </tr>\n",
       "    <tr>\n",
       "      <th>0.14</th>\n",
       "      <td>0.601281</td>\n",
       "      <td>0.411289</td>\n",
       "    </tr>\n",
       "    <tr>\n",
       "      <th>0.21</th>\n",
       "      <td>0.000599</td>\n",
       "      <td>0.000000</td>\n",
       "    </tr>\n",
       "    <tr>\n",
       "      <th>0.28</th>\n",
       "      <td>0.000000</td>\n",
       "      <td>0.028917</td>\n",
       "    </tr>\n",
       "    <tr>\n",
       "      <th>0.3</th>\n",
       "      <td>0.314779</td>\n",
       "      <td>0.506042</td>\n",
       "    </tr>\n",
       "    <tr>\n",
       "      <th>0.41</th>\n",
       "      <td>0.025435</td>\n",
       "      <td>0.034507</td>\n",
       "    </tr>\n",
       "    <tr>\n",
       "      <th>Total</th>\n",
       "      <td>0.999731</td>\n",
       "      <td>0.999628</td>\n",
       "    </tr>\n",
       "  </tbody>\n",
       "</table>\n",
       "</div>"
      ],
      "text/plain": [
       "          02011     02014\n",
       "0.0    0.006556  0.018873\n",
       "0.055  0.030394  0.000000\n",
       "0.083  0.020687  0.000000\n",
       "0.14   0.601281  0.411289\n",
       "0.21   0.000599  0.000000\n",
       "0.28   0.000000  0.028917\n",
       "0.3    0.314779  0.506042\n",
       "0.41   0.025435  0.034507\n",
       "Total  0.999731  0.999628"
      ]
     },
     "execution_count": 89,
     "metadata": {},
     "output_type": "execute_result"
    }
   ],
   "source": [
    "df_mtr_2011 = pd.DataFrame((df.MTR_2011).value_counts(normalize = True).iloc[:8]); df_mtr_2011\n",
    "df_mtr_2011.loc[0.083] =df_mtr_2011.loc[0.083]+df_mtr_2011.loc[0.082];df_mtr_2011=  df_mtr_2011[~(df_mtr_2011.index == 0.082)] #put MTR 0.082 with 0.083 actual value 0.825\n",
    "df_mtr_2014 = pd.DataFrame((df.MTR_2014).value_counts(normalize = True).iloc[:5]); df_mtr_2014\n",
    "df_mtr_merged = pd.merge(df_mtr_2011,df_mtr_2014, left_index = True, right_index = True, how = \"outer\", suffixes = [\"2011\", \"2014\"])\n",
    "df_mtr_merged.loc[\"Total\"] = df_mtr_merged.sum(); df_mtr_merged.fillna(0)"
   ]
  },
  {
   "cell_type": "code",
   "execution_count": null,
   "metadata": {
    "collapsed": true
   },
   "outputs": [],
   "source": []
  },
  {
   "cell_type": "code",
   "execution_count": null,
   "metadata": {
    "collapsed": true
   },
   "outputs": [],
   "source": []
  },
  {
   "cell_type": "code",
   "execution_count": 90,
   "metadata": {},
   "outputs": [],
   "source": [
    "df[\"Distance_to_treatment_2\"]  = 0\n",
    "for child in range(1,nb_enf_max_for_annalysis+1):\n",
    "    df[\"Distance_to_treatment_2\"] += (df[\"Over_threshold_{}_child\".format(child)] * df[child_bool_list[child-1]] \n",
    "                                     * ((threshold_byr_rbg[\"2011\"].iloc[child-1]) - df.Rbg_2011))\n",
    "df[\"Distance_to_treatment_2\"] = np.abs(df[\"Distance_to_treatment_2\"])"
   ]
  },
  {
   "cell_type": "code",
   "execution_count": 91,
   "metadata": {},
   "outputs": [
    {
     "data": {
      "text/plain": [
       "-18417"
      ]
     },
     "execution_count": 91,
     "metadata": {},
     "output_type": "execute_result"
    }
   ],
   "source": [
    "76034-94451"
   ]
  },
  {
   "cell_type": "code",
   "execution_count": 92,
   "metadata": {},
   "outputs": [],
   "source": [
    "df[\"Distance_to_treatment_1\"]  = 0\n",
    "for child in [2]:\n",
    "    df[\"Distance_to_treatment_1\"] += (df[child_bool_list[child-1]]*(df[\"Over_threshold_{}_child\".format(child)])\n",
    "                                     * (threshold_byr_rbg[\"2011\"].iloc[child-1] - df.Rbg_2011))\n",
    "df[\"Distance_to_treatment_1\"] = np.abs(df[\"Distance_to_treatment_1\"])\n",
    "\n",
    "\n",
    "\n",
    "\n",
    "df[\"Distance_to_treatment_2\"]  = 0\n",
    "for child in range(1,nb_enf_max_for_annalysis+1):\n",
    "    df[\"Distance_to_treatment_2\"] += (df[child_bool_list[child-1]]*(df[\"Over_threshold_{}_child\".format(child)])\n",
    "                                     * (threshold_byr_rbg[\"2011\"].iloc[child-1] - df.Rbg_2011))\n",
    "df[\"Distance_to_treatment_2\"] = np.abs(df[\"Distance_to_treatment_2\"])"
   ]
  },
  {
   "cell_type": "code",
   "execution_count": 93,
   "metadata": {},
   "outputs": [
    {
     "name": "stdout",
     "output_type": "stream",
     "text": [
      "                            OLS Regression Results                            \n",
      "==============================================================================\n",
      "Dep. Variable:              Delta_Rbg   R-squared:                       0.046\n",
      "Model:                            OLS   Adj. R-squared:                  0.046\n",
      "Method:                 Least Squares   F-statistic:                     306.6\n",
      "Date:                Sun, 10 Mar 2019   Prob (F-statistic):               0.00\n",
      "Time:                        11:47:04   Log-Likelihood:            -2.1329e+06\n",
      "No. Observations:              193555   AIC:                         4.266e+06\n",
      "Df Residuals:                  193523   BIC:                         4.266e+06\n",
      "Df Model:                          31                                         \n",
      "Covariance Type:                  HC1                                         \n",
      "=============================================================================================================\n",
      "                                                coef    std err          z      P>|z|      [95.0% Conf. Int.]\n",
      "-------------------------------------------------------------------------------------------------------------\n",
      "Intercept                                  6345.3722     83.320     76.156      0.000      6182.067  6508.677\n",
      "Flatten_thresholds_58291_63233[T.True]    -5398.9892    105.272    -51.286      0.000     -5605.318 -5192.660\n",
      "Flatten_thresholds_63233_63530[T.True]    -5916.4123    383.190    -15.440      0.000     -6667.450 -5165.374\n",
      "Flatten_thresholds_63530_73516[T.True]    -6756.8404    146.975    -45.973      0.000     -7044.905 -6468.776\n",
      "Flatten_thresholds_73516_73806[T.True]    -8100.2552    635.770    -12.741      0.000     -9346.342 -6854.168\n",
      "Flatten_thresholds_73806_84103[T.True]    -8071.7237    211.591    -38.148      0.000     -8486.435 -7657.013\n",
      "Flatten_thresholds_84103_94368[T.True]    -8458.3045    251.146    -33.679      0.000     -8950.541 -7966.068\n",
      "Flatten_thresholds_94368_94451[T.True]    -8563.7119   1871.706     -4.575      0.000     -1.22e+04 -4895.235\n",
      "Flatten_thresholds_94451_104633[T.True]   -7303.7923    304.393    -23.995      0.000     -7900.391 -6707.193\n",
      "Flatten_thresholds_104633_115185[T.True]  -7275.8353    371.730    -19.573      0.000     -8004.412 -6547.259\n",
      "Flatten_thresholds_115185_135941[T.True]  -6588.1509    389.427    -16.918      0.000     -7351.414 -5824.887\n",
      "Flatten_thresholds_135941_150684[T.True]  -4563.4669    610.495     -7.475      0.000     -5760.016 -3366.918\n",
      "child_1                                    1864.8482    127.052     14.678      0.000      1615.830  2113.866\n",
      "child_1:Between_threshold_1_child[T.True]   621.5866    255.936      2.429      0.015       119.961  1123.212\n",
      "child_1:Over_threshold_1_child[T.True]     2988.9688    238.150     12.551      0.000      2522.204  3455.733\n",
      "child_2                                    2699.4300     95.264     28.336      0.000      2512.717  2886.143\n",
      "child_2:Between_threshold_2_child[T.True]  2678.7705    198.408     13.501      0.000      2289.898  3067.643\n",
      "child_2:Over_threshold_2_child[T.True]     4919.5559    240.031     20.495      0.000      4449.104  5390.008\n",
      "child_3                                    4463.5911    114.708     38.913      0.000      4238.768  4688.414\n",
      "child_3:Between_threshold_3_child[T.True]  4544.7577    316.443     14.362      0.000      3924.540  5164.975\n",
      "child_3:Over_threshold_3_child[T.True]     3774.7278    402.146      9.386      0.000      2986.536  4562.919\n",
      "child_4                                    6354.9759    251.272     25.291      0.000      5862.492  6847.460\n",
      "child_4:Between_threshold_4_child[T.True]  2754.6814    755.207      3.648      0.000      1274.502  4234.861\n",
      "child_4:Over_threshold_4_child[T.True]     1676.5590   1071.158      1.565      0.118      -422.873  3775.991\n",
      "child_5                                    7547.1017    684.105     11.032      0.000      6206.281  8887.922\n",
      "child_5:Between_threshold_5_child[T.True] -4634.3120   2197.716     -2.109      0.035     -8941.756  -326.868\n",
      "child_5:Over_threshold_5_child[T.True]     2019.1295   3982.572      0.507      0.612     -5786.569  9824.828\n",
      "child_6                                    9139.8775   1373.578      6.654      0.000      6447.713  1.18e+04\n",
      "child_6:Between_threshold_6_child[T.True] -1.053e+04   4765.617     -2.210      0.027     -1.99e+04 -1192.255\n",
      "child_6:Over_threshold_6_child[T.True]    -4528.6265   1.38e+04     -0.328      0.743     -3.15e+04  2.25e+04\n",
      "Flatten_thresholds_more_then_150684       -4170.4025    771.206     -5.408      0.000     -5681.938 -2658.867\n",
      "I(Distance_to_treatment_2 ** 2)           -6.215e-07   8.47e-08     -7.335      0.000     -7.88e-07 -4.55e-07\n",
      "==============================================================================\n",
      "Omnibus:                    12775.400   Durbin-Watson:                   2.008\n",
      "Prob(Omnibus):                  0.000   Jarque-Bera (JB):            48887.937\n",
      "Skew:                           0.240   Prob(JB):                         0.00\n",
      "Kurtosis:                       5.415   Cond. No.                     2.75e+11\n",
      "==============================================================================\n",
      "\n",
      "Warnings:\n",
      "[1] Standard Errors are heteroscedasticity robust (HC1)\n",
      "[2] The condition number is large, 2.75e+11. This might indicate that there are\n",
      "strong multicollinearity or other numerical problems.\n"
     ]
    }
   ],
   "source": [
    "m = sm.OLS.from_formula(\"(Delta_Rbg)~   {} + I(Distance_to_treatment_2**2)\".format(\n",
    "        ' + '.join(\n",
    "                  children_number + flatten_thresholds_list\n",
    "                + interaction_child_between_threshold + interaction_child_over_threshold)),\n",
    "        df)\n",
    "fit = m.fit(cov_type=\"HC1\")\n",
    "print(fit.summary())"
   ]
  },
  {
   "cell_type": "code",
   "execution_count": 94,
   "metadata": {},
   "outputs": [
    {
     "name": "stdout",
     "output_type": "stream",
     "text": [
      "                            OLS Regression Results                            \n",
      "==============================================================================\n",
      "Dep. Variable:           Delta_ZIMPOM   R-squared:                       0.573\n",
      "Model:                            OLS   Adj. R-squared:                  0.573\n",
      "Method:                 Least Squares   F-statistic:                     3097.\n",
      "Date:                Sun, 10 Mar 2019   Prob (F-statistic):               0.00\n",
      "Time:                        11:47:06   Log-Likelihood:            -6.2713e+05\n",
      "No. Observations:               69144   AIC:                         1.254e+06\n",
      "Df Residuals:                   69113   BIC:                         1.255e+06\n",
      "Df Model:                          30                                         \n",
      "Covariance Type:            nonrobust                                         \n",
      "============================================================================================================\n",
      "                                               coef    std err          t      P>|t|      [99.0% Conf. Int.]\n",
      "------------------------------------------------------------------------------------------------------------\n",
      "Interactions_child1_over                   908.5098     53.053     17.125      0.000       771.851  1045.169\n",
      "Interactions_child2_over                  1525.3960     43.458     35.100      0.000      1413.452  1637.339\n",
      "Interactions_child3_over                  2970.1790    100.496     29.555      0.000      2711.310  3229.048\n",
      "Interactions_child4_over                  4797.6209    295.444     16.239      0.000      4036.587  5558.655\n",
      "Interactions_child5_over                  7628.6257   1213.148      6.288      0.000      4503.676  1.08e+04\n",
      "Interactions_child6_over                  1.717e-05   1.89e-06      9.102      0.000      1.23e-05   2.2e-05\n",
      "Interactions_rbg_child1_over                 0.2673      0.003     76.768      0.000         0.258     0.276\n",
      "Interactions_rbg_child2_over                 0.2956      0.002    121.817      0.000         0.289     0.302\n",
      "Interactions_rbg_child3_over                 0.3163      0.005     69.704      0.000         0.305     0.328\n",
      "Interactions_rbg_child4_over                 0.3384      0.012     29.020      0.000         0.308     0.368\n",
      "Interactions_rbg_child5_over                 0.3780      0.046      8.259      0.000         0.260     0.496\n",
      "Interactions_rbg_child6_over                 0.5733      0.063      9.102      0.000         0.411     0.736\n",
      "Interactions_rbg_child1_between              0.1932      0.007     28.013      0.000         0.175     0.211\n",
      "Interactions_rbg_child2_between              0.2580      0.004     69.580      0.000         0.248     0.268\n",
      "Interactions_rbg_child3_between              0.2711      0.005     52.994      0.000         0.258     0.284\n",
      "Interactions_rbg_child4_between              0.2902      0.014     21.286      0.000         0.255     0.325\n",
      "Interactions_rbg_child5_between              0.2939      0.046      6.416      0.000         0.176     0.412\n",
      "Interactions_rbg_child6_between             -0.0954      0.469     -0.203      0.839        -1.304     1.114\n",
      "Interactions_child1_between                852.3724     81.750     10.427      0.000       641.792  1062.953\n",
      "Interactions_child2_between                859.3580     48.339     17.778      0.000       734.842   983.874\n",
      "Interactions_child3_between               1189.9923     84.937     14.010      0.000       971.202  1408.782\n",
      "Interactions_child4_between               1295.5847    255.194      5.077      0.000       638.231  1952.938\n",
      "Interactions_child5_between               1908.8648    928.719      2.055      0.040      -483.422  4301.152\n",
      "Interactions_child6_between               1.293e+04    1.2e+04      1.075      0.282      -1.8e+04  4.39e+04\n",
      "Not_touched_by_reform:C(NBPAC_2011)[0.0]   418.2765     21.700     19.275      0.000       362.379   474.174\n",
      "Not_touched_by_reform:C(NBPAC_2011)[1.0]    72.3268     25.778      2.806      0.005         5.925   138.728\n",
      "Not_touched_by_reform:C(NBPAC_2011)[2.0]   155.5167     16.651      9.340      0.000       112.625   198.409\n",
      "Not_touched_by_reform:C(NBPAC_2011)[3.0]  -104.0909     27.052     -3.848      0.000      -173.774   -34.408\n",
      "Not_touched_by_reform:C(NBPAC_2011)[4.0]  -292.3286     91.162     -3.207      0.001      -527.152   -57.505\n",
      "Not_touched_by_reform:C(NBPAC_2011)[5.0]  -692.6736    346.330     -2.000      0.045     -1584.784   199.437\n",
      "Not_touched_by_reform:C(NBPAC_2011)[6.0]   184.5829    701.185      0.263      0.792     -1621.601  1990.767\n",
      "Delta_Rbg_times_not_touched_reform           0.1576      0.001    147.457      0.000         0.155     0.160\n",
      "==============================================================================\n",
      "Omnibus:                    57924.211   Durbin-Watson:                   2.007\n",
      "Prob(Omnibus):                  0.000   Jarque-Bera (JB):         74459295.386\n",
      "Skew:                           2.744   Prob(JB):                         0.00\n",
      "Kurtosis:                     163.670   Cond. No.                     1.98e+18\n",
      "==============================================================================\n",
      "\n",
      "Warnings:\n",
      "[1] Standard Errors assume that the covariance matrix of the errors is correctly specified.\n",
      "[2] The smallest eigenvalue is 2.21e-24. This might indicate that there are\n",
      "strong multicollinearity problems or that the design matrix is singular.\n"
     ]
    }
   ],
   "source": [
    "### To_keep article !!\n",
    "m = sm.OLS.from_formula(\"(Delta_ZIMPOM)~   {} - 1 + Not_touched_by_reform:C(NBPAC_2011) + Delta_Rbg_times_not_touched_reform\".format(\n",
    "        ' + '.join( interactions_child_over+interactions_rbg_over+interactions_rbg_between+interactions_child_between)),\n",
    "       df.query(\"(ZVALM_2011<50)&(ZIMPOM_2011>500)&(ZIMPOM14_2014>500)&(ZVAMM_2011<200)& (ZRACM_2011<200) & (ZETRM_2011<100)&(Delta_rbg_positif==1)\").sample(frac = 1))\n",
    "fit = m.fit()\n",
    "fit.conf_int()\n",
    "\n",
    "\n",
    "summary = fit.summary(alpha = 0.01); print(summary)"
   ]
  },
  {
   "cell_type": "code",
   "execution_count": null,
   "metadata": {
    "collapsed": true
   },
   "outputs": [],
   "source": []
  },
  {
   "cell_type": "code",
   "execution_count": 95,
   "metadata": {},
   "outputs": [
    {
     "name": "stdout",
     "output_type": "stream",
     "text": [
      "2019-03-10 11:47:06.485000\n"
     ]
    }
   ],
   "source": [
    "print datetime.datetime.now()"
   ]
  }
 ],
 "metadata": {
  "kernelspec": {
   "display_name": "Python 3",
   "language": "python",
   "name": "python3"
  },
  "language_info": {
   "codemirror_mode": {
    "name": "ipython",
    "version": 3
   },
   "file_extension": ".py",
   "mimetype": "text/x-python",
   "name": "python",
   "nbconvert_exporter": "python",
   "pygments_lexer": "ipython3",
   "version": "3.7.2"
  },
  "toc": {
   "base_numbering": 1,
   "nav_menu": {},
   "number_sections": true,
   "sideBar": true,
   "skip_h1_title": false,
   "title_cell": "Table of Contents",
   "title_sidebar": "Contents",
   "toc_cell": false,
   "toc_position": {},
   "toc_section_display": true,
   "toc_window_display": false
  },
  "varInspector": {
   "cols": {
    "lenName": 16,
    "lenType": 16,
    "lenVar": 40
   },
   "kernels_config": {
    "python": {
     "delete_cmd_postfix": "",
     "delete_cmd_prefix": "del ",
     "library": "var_list.py",
     "varRefreshCmd": "print(var_dic_list())"
    },
    "r": {
     "delete_cmd_postfix": ") ",
     "delete_cmd_prefix": "rm(",
     "library": "var_list.r",
     "varRefreshCmd": "cat(var_dic_list()) "
    }
   },
   "types_to_exclude": [
    "module",
    "function",
    "builtin_function_or_method",
    "instance",
    "_Feature"
   ],
   "window_display": false
  }
 },
 "nbformat": 4,
 "nbformat_minor": 1
}
