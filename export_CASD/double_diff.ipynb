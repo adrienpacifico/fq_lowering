{
 "cells": [
  {
   "cell_type": "code",
   "execution_count": 1,
   "metadata": {},
   "outputs": [
    {
     "name": "stdout",
     "output_type": "stream",
     "text": [
      "2019-03-10 11:27:54.512000\n"
     ]
    }
   ],
   "source": [
    "import datetime\n",
    "print datetime.datetime.now()"
   ]
  },
  {
   "cell_type": "code",
   "execution_count": 2,
   "metadata": {},
   "outputs": [
    {
     "data": {
      "text/html": [
       "<style>.container { width:100% !important; }<\\style>"
      ],
      "text/plain": [
       "<IPython.core.display.HTML object>"
      ]
     },
     "metadata": {},
     "output_type": "display_data"
    }
   ],
   "source": [
    "from IPython.core.display import display, HTML\n",
    "display(HTML(\"<style>.container { width:100% !important; }<\\style>\"))"
   ]
  },
  {
   "cell_type": "code",
   "execution_count": 3,
   "metadata": {
    "collapsed": true
   },
   "outputs": [],
   "source": [
    "%matplotlib inline"
   ]
  },
  {
   "cell_type": "code",
   "execution_count": 4,
   "metadata": {
    "collapsed": true
   },
   "outputs": [],
   "source": [
    "import matplotlib.pyplot as plt"
   ]
  },
  {
   "cell_type": "code",
   "execution_count": 5,
   "metadata": {
    "collapsed": true
   },
   "outputs": [],
   "source": [
    "from __future__ import division\n",
    "import importlib \n",
    "\n",
    "import statsmodels.api as sm; from statsmodels.iolib.summary2 import summary_col\n",
    "import pandas as pd ; pd.set_option(\"display.max_columns\",200)\n",
    "import numpy as np"
   ]
  },
  {
   "cell_type": "code",
   "execution_count": 6,
   "metadata": {
    "collapsed": true
   },
   "outputs": [],
   "source": [
    "store_path = 'C:/Users/IMPTEMP_A_PACIFIC/Desktop/EDP_2015/Data/hdf/edp_2015_final.h5'\n",
    "reaction_store_path = 'C:/Users/IMPTEMP_A_PACIFIC/Desktop/EDP_2015/Data/hdf/reaction.h5'\n",
    "Store = pd.HDFStore(store_path)"
   ]
  },
  {
   "cell_type": "code",
   "execution_count": 7,
   "metadata": {
    "collapsed": true
   },
   "outputs": [],
   "source": [
    "def load_fisc_i_by_year(year = 2014):\n",
    "    df_fisci = pd.read_hdf(store_path, 'FISC_INDIVIDU_{}'.format(year))\n",
    "    return df_fisci\n",
    "def load_fisc_r_by_year(year = 2014):\n",
    "    df_fiscr = pd.read_hdf(store_path, 'FISC_REVENU_{}'.format(year))\n",
    "    return df_fiscr\n",
    "def load_fisc_l_by_year(year = 2014):\n",
    "    df_fiscr = pd.read_hdf(store_path, 'FISC_LOGEMENT_{}'.format(year))\n",
    "    return df_fiscr\n",
    "\n",
    "def load_df_fiscrevdet_by_year(year = 2015):\n",
    "    df_fiscrevdet = pd.read_hdf(store_path, 'FISC_REVDET_{}'.format(year))\n",
    "    return df_fiscrevdet\n",
    "\n",
    "ir_2014 = importlib.import_module(\"IRPP_from_scratch_civil_union\")\n",
    "ir_2011 = importlib.import_module(\"IRPP_from_scratch_civil_union_{}\".format(2011))"
   ]
  },
  {
   "cell_type": "code",
   "execution_count": 8,
   "metadata": {
    "collapsed": true
   },
   "outputs": [],
   "source": [
    "info_dict = {'adjusted-R2':lambda x:\"{:4.2f}%\".format(x.rsquared_adj*100), \"N\":lambda x:\"{:d}\".format(int(x.nobs))}"
   ]
  },
  {
   "cell_type": "markdown",
   "metadata": {},
   "source": [
    "## Needed variables"
   ]
  },
  {
   "cell_type": "code",
   "execution_count": 9,
   "metadata": {
    "collapsed": true
   },
   "outputs": [],
   "source": [
    "nb_enf_max_for_annalysis = 6"
   ]
  },
  {
   "cell_type": "code",
   "execution_count": 10,
   "metadata": {
    "collapsed": true
   },
   "outputs": [],
   "source": [
    "threshold_byr_rbg = pd.DataFrame()\n",
    "threshold_byr_rbg[\"2011\"] = pd.Series([63233,73516,94451,115185,135941,150684])\n",
    "threshold_byr_rbg[\"2014\"] = pd.Series([58291,63530,73806,84103,94368,104633])"
   ]
  },
  {
   "cell_type": "code",
   "execution_count": 11,
   "metadata": {
    "collapsed": true
   },
   "outputs": [],
   "source": [
    "child_bool_list = [\"child_{}\".format(child) for child in  np.arange(1,nb_enf_max_for_annalysis+1)]\n",
    "cumulative_child_bool_list = [\"cumulative_child_{}\".format(child) for child in  np.arange(1,nb_enf_max_for_annalysis+1)] "
   ]
  },
  {
   "cell_type": "code",
   "execution_count": 12,
   "metadata": {
    "collapsed": true
   },
   "outputs": [],
   "source": [
    "thrsh_bool_list = [\"Threshold_{}\".format(thrsh) for thrsh in  threshold_byr_rbg[\"2011\"]]"
   ]
  },
  {
   "cell_type": "code",
   "execution_count": 13,
   "metadata": {
    "collapsed": true
   },
   "outputs": [],
   "source": [
    "between_threshold_for_child_rank = [\"Between_threshold_{}_child\".format(nb_child) for nb_child in range(1,nb_enf_max_for_annalysis+1)]\n",
    "over_threshold_for_child_rank = [\"Over_threshold_{}_child\".format(nb_child) for nb_child in range(1,nb_enf_max_for_annalysis+1)]\n",
    "children_number =  [\"child_{}\".format(nb_child) for nb_child in range(1,nb_enf_max_for_annalysis+1)]"
   ]
  },
  {
   "cell_type": "code",
   "execution_count": 14,
   "metadata": {
    "collapsed": true
   },
   "outputs": [],
   "source": [
    "interaction_child_between_threshold  = [\"{}:{}\".format(child,interaction) for child, interaction in zip(children_number, between_threshold_for_child_rank)]\n",
    "interaction_child_over_threshold  = [\"{}:{}\".format(child,interaction) for child, interaction in zip(children_number, over_threshold_for_child_rank)]"
   ]
  },
  {
   "cell_type": "code",
   "execution_count": 15,
   "metadata": {},
   "outputs": [
    {
     "data": {
      "text/html": [
       "<div>\n",
       "<table border=\"1\" class=\"dataframe\">\n",
       "  <thead>\n",
       "    <tr style=\"text-align: right;\">\n",
       "      <th></th>\n",
       "      <th>2011</th>\n",
       "      <th>2014</th>\n",
       "    </tr>\n",
       "  </thead>\n",
       "  <tbody>\n",
       "    <tr>\n",
       "      <th>0</th>\n",
       "      <td>63233</td>\n",
       "      <td>58291</td>\n",
       "    </tr>\n",
       "    <tr>\n",
       "      <th>1</th>\n",
       "      <td>73516</td>\n",
       "      <td>63530</td>\n",
       "    </tr>\n",
       "    <tr>\n",
       "      <th>2</th>\n",
       "      <td>94451</td>\n",
       "      <td>73806</td>\n",
       "    </tr>\n",
       "    <tr>\n",
       "      <th>3</th>\n",
       "      <td>115185</td>\n",
       "      <td>84103</td>\n",
       "    </tr>\n",
       "    <tr>\n",
       "      <th>4</th>\n",
       "      <td>135941</td>\n",
       "      <td>94368</td>\n",
       "    </tr>\n",
       "    <tr>\n",
       "      <th>5</th>\n",
       "      <td>150684</td>\n",
       "      <td>104633</td>\n",
       "    </tr>\n",
       "  </tbody>\n",
       "</table>\n",
       "</div>"
      ],
      "text/plain": [
       "     2011    2014\n",
       "0   63233   58291\n",
       "1   73516   63530\n",
       "2   94451   73806\n",
       "3  115185   84103\n",
       "4  135941   94368\n",
       "5  150684  104633"
      ]
     },
     "execution_count": 15,
     "metadata": {},
     "output_type": "execute_result"
    }
   ],
   "source": [
    "threshold_byr_rbg"
   ]
  },
  {
   "cell_type": "code",
   "execution_count": null,
   "metadata": {
    "collapsed": true
   },
   "outputs": [],
   "source": []
  },
  {
   "cell_type": "code",
   "execution_count": null,
   "metadata": {
    "collapsed": true
   },
   "outputs": [],
   "source": []
  },
  {
   "cell_type": "code",
   "execution_count": 16,
   "metadata": {},
   "outputs": [
    {
     "name": "stdout",
     "output_type": "stream",
     "text": [
      "(1522346, 362)\n"
     ]
    }
   ],
   "source": [
    "df_start = pd.read_hdf(u\"C:/Users/IMPTEMP_A_PACIFIC/Desktop/EDP_2015/Programme/Réaction offre de travail/hdf/data_step_1_reaction_offre_travail.h5\",\"fisci_fiscr_fiscrevdet\")\n",
    "print(df_start.shape)"
   ]
  },
  {
   "cell_type": "code",
   "execution_count": 17,
   "metadata": {},
   "outputs": [],
   "source": [
    "df_start[\"Delta_Rbg\"] = df_start.Rbg_2014 - df_start.Rbg_2011\n",
    "df_start[\"Delta_NBPAC\"] = df_start.NBPAC_2014 - df_start.NBPAC_2011\n",
    "df_start[\"Delta_ZIMPOM\"] = df_start.ZIMPOM14_2014 - df_start.ZIMPOM_2011\n",
    "\n",
    "\n",
    "df_start[\"Age_wo_squared\"] = df_start.Age_wo **2\n",
    "df_start[\"Age_me_squared\"] = df_start.Age_me ** 2 \n",
    "\n",
    "df_start[\"Age_oldest_parent\"] = df_start[[\"Age_me\", \"Age_wo\"]].max(axis = 1)\n",
    "df_start[\"Age_oldest_parent_squared\"] = df_start.Age_oldest_parent**2\n",
    "\n",
    "df_start[\"Parts_fiscales_enfants\"] = ir_2011.parts_fiscales_enfants(df_start.NBPAC_2011)\n",
    "df_start[\"ZTSAM_10_percent_2014\"] =  df_start[\"ZTSAM_2014\"]*0.9\n",
    "df_start[\"ZTSAM_10_percent_2014\"] =  df_start[\"ZTSAM_2014\"]*0.9\n",
    "df_start[\"Irpp_2014\"] = np.maximum(0, ir_2014.ir_avec_plafond_qf_enfant(df_start.Rbg_2014, df_start.Parts_fiscales_enfants) - ir_2014.decote_ir(df_start.Rbg_2014, df_start.Parts_fiscales_enfants))\n",
    "df_start[\"Irpp_2014_plus_10_euros\"] = np.maximum(0, ir_2014.ir_avec_plafond_qf_enfant(df_start.Rbg_2014+10, df_start.Parts_fiscales_enfants) - ir_2014.decote_ir(df_start.Rbg_2014+10, df_start.Parts_fiscales_enfants))\n",
    "df_start[\"Counterfactual_Irpp_2014\"] = np.maximum(0, ir_2011.ir_avec_plafond_qf_enfant(df_start.Rbg_2014, df_start.Parts_fiscales_enfants) - ir_2011.decote_ir(df_start.Rbg_2014, df_start.Parts_fiscales_enfants))\n",
    "df_start[\"Counterfactual_Irpp_2014_plus_10_euros\"] =  np.maximum(0, ir_2011.ir_avec_plafond_qf_enfant(df_start.Rbg_2014+10, df_start.Parts_fiscales_enfants) - ir_2011.decote_ir(df_start.Rbg_2014+10, df_start.Parts_fiscales_enfants))\n",
    "df_start[\"Irpp_2011\"] = np.maximum(0, ir_2011.ir_avec_plafond_qf_enfant(df_start.Rbg_2011, df_start.Parts_fiscales_enfants) - ir_2011.decote_ir(df_start.Rbg_2011, df_start.Parts_fiscales_enfants))\n",
    "df_start[\"Irpp_2011_plus_10_euros\"] = np.maximum(0, ir_2011.ir_avec_plafond_qf_enfant(df_start.Rbg_2011+10, df_start.Parts_fiscales_enfants) - ir_2011.decote_ir(df_start.Rbg_2011+10, df_start.Parts_fiscales_enfants))\n",
    "df_start[\"Counterfactual_Irpp_2011\"] = np.maximum(0, ir_2014.ir_avec_plafond_qf_enfant(df_start.Rbg_2011, df_start.Parts_fiscales_enfants) - ir_2014.decote_ir(df_start.Rbg_2011, df_start.Parts_fiscales_enfants))\n",
    "df_start[\"Counterfactual_Irpp_2011_plus_10_euros\"] =  np.maximum(0, ir_2014.ir_avec_plafond_qf_enfant(df_start.Rbg_2011+10, df_start.Parts_fiscales_enfants) - ir_2014.decote_ir(df_start.Rbg_2011+10, df_start.Parts_fiscales_enfants))\n",
    "df_start[\"MTR_2014\"] = np.round((df_start.Irpp_2014_plus_10_euros - df_start.Irpp_2014)/10,3)\n",
    "df_start[\"MTR_2011\"] = np.round((df_start.Irpp_2011_plus_10_euros - df_start.Irpp_2011)/10,3)\n",
    "df_start[\"Counterfactual_MTR_2014\"\n",
    "                     ] =  np.round((df_start.Counterfactual_Irpp_2014_plus_10_euros - df_start.Counterfactual_Irpp_2014)/10,2)\n",
    "df_start[\"Counterfactual_MTR_2011\"\n",
    "                     ] = np.round((df_start.Counterfactual_Irpp_2011_plus_10_euros - df_start.Counterfactual_Irpp_2011)/10,2)\n"
   ]
  },
  {
   "cell_type": "code",
   "execution_count": null,
   "metadata": {
    "collapsed": true
   },
   "outputs": [],
   "source": []
  },
  {
   "cell_type": "code",
   "execution_count": 18,
   "metadata": {},
   "outputs": [
    {
     "name": "stdout",
     "output_type": "stream",
     "text": [
      "(58291, 63233)\n",
      "(63233, 63530)\n",
      "(63530, 73516)\n",
      "(73516, 73806)\n",
      "(73806, 84103)\n",
      "(84103, 94368)\n",
      "(94368, 94451)\n",
      "(94451, 104633)\n",
      "(104633, 115185)\n",
      "(115185, 135941)\n",
      "(135941, 150684)\n"
     ]
    }
   ],
   "source": [
    "#Flatten thresholds\n",
    "threshold_byr_rbg.iloc[0:nb_enf_max_for_annalysis]\n",
    "flatten_thresholds = np.sort(threshold_byr_rbg.iloc[0:nb_enf_max_for_annalysis].values.flatten())\n",
    "flatten_thresholds_list = list()\n",
    "for counter in range(len(flatten_thresholds)-1):\n",
    "    print(flatten_thresholds[counter], flatten_thresholds[counter+1])\n",
    "    \n",
    "    thrsh1, thrsh2 = flatten_thresholds[counter], flatten_thresholds[counter+1]\n",
    "    flatten_thresholds_list.append(\"Flatten_thresholds_{}_{}\".format(thrsh1, thrsh2))\n",
    "    df_start[\"Flatten_thresholds_{}_{}\".format(thrsh1, thrsh2)] = ((df_start.Rbg_2011>  thrsh1)& (df_start.Rbg_2011< thrsh2))\n",
    "df_start[\"Flatten_thresholds_more_then_{}\".format( thrsh2)] = (df_start.Rbg_2011> thrsh2).astype(\"int\")\n",
    "flatten_thresholds_list.append(\"Flatten_thresholds_more_then_{}\".format(thrsh2))"
   ]
  },
  {
   "cell_type": "code",
   "execution_count": 19,
   "metadata": {
    "scrolled": true
   },
   "outputs": [
    {
     "name": "stderr",
     "output_type": "stream",
     "text": [
      "C:\\Users\\IMPTEMP_A_PACIFIC\\Desktop\\WinPython-64bit-2.7.10.2\\WinPython-64bit-2.7.10.2\\python-2.7.10.amd64\\lib\\site-packages\\IPython\\kernel\\__main__.py:6: SettingWithCopyWarning: \n",
      "A value is trying to be set on a copy of a slice from a DataFrame.\n",
      "Try using .loc[row_indexer,col_indexer] = value instead\n",
      "\n",
      "See the the caveats in the documentation: http://pandas.pydata.org/pandas-docs/stable/indexing.html#indexing-view-versus-copy\n"
     ]
    }
   ],
   "source": [
    "\n",
    "\n",
    "\n",
    "fisici = load_fisc_i_by_year(2014)\n",
    "df_fisci_child = fisici[fisici.TYPE_FISC.isin([\"A\", \"B\", \"C\", \"D\", \"E\", \"F\", \"G\", \"H\"])]\n",
    "df_fisci_child[\"Age\"] = 2014 - df_fisci_child.ANAIS \n",
    "df_fisci_child = df_fisci_child.sort(['ID_FISC_FOY_DIFF', \"Age\"])\n",
    "\n",
    "\n",
    "df_fisci_Elder = df_fisci_child.groupby(\"ID_FISC_FOY_DIFF\").last()\n",
    "df_fisci_Elder[\"Age_Elder_child\"] = df_fisci_Elder.Age\n",
    "df_fisci_Elder = df_fisci_Elder.reset_index()[[\"ID_FISC_FOY_DIFF\",\"Age_Elder_child\" ]]\n",
    "\n",
    "df_fisci_Youngest = df_fisci_child.groupby(\"ID_FISC_FOY_DIFF\").first()\n",
    "df_fisci_Youngest[\"Age_Youngest_child\"] = df_fisci_Youngest.Age\n",
    "df_fisci_Youngest = df_fisci_Youngest.reset_index()[[\"ID_FISC_FOY_DIFF\",\"Age_Youngest_child\" ]]"
   ]
  },
  {
   "cell_type": "code",
   "execution_count": 20,
   "metadata": {},
   "outputs": [
    {
     "name": "stderr",
     "output_type": "stream",
     "text": [
      "C:\\Users\\IMPTEMP_A_PACIFIC\\Desktop\\WinPython-64bit-2.7.10.2\\WinPython-64bit-2.7.10.2\\python-2.7.10.amd64\\lib\\site-packages\\pandas\\computation\\expressions.py:190: UserWarning: evaluating in Python space because the '*' operator is not supported by numexpr for the bool dtype, use '&' instead\n",
      "  unsupported[op_str]))\n"
     ]
    }
   ],
   "source": [
    "\n",
    "\n",
    "df_start[\"Not_touched_by_reform\"] = (df_start.NBPAC_2011 == 0).astype(\"int\")\n",
    "for nb_enf in range(1,7): ### in modification\n",
    "    df_start[\"Not_touched_by_reform\".format(nb_enf)\n",
    "          ] +=((df_start.Rbg_2011<  threshold_byr_rbg[\"2014\"].iloc[nb_enf-1])\n",
    "                *( df_start.NBPAC_2011 == nb_enf)).astype(\"float\")\n",
    "    \n",
    "df_start[\"Delta_Rbg_times_not_touched_reform\"] = df_start.Not_touched_by_reform * df_start.Delta_Rbg"
   ]
  },
  {
   "cell_type": "markdown",
   "metadata": {},
   "source": [
    "###  Income sample selection"
   ]
  },
  {
   "cell_type": "code",
   "execution_count": 21,
   "metadata": {},
   "outputs": [
    {
     "data": {
      "text/plain": [
       "(1522346, 397)"
      ]
     },
     "execution_count": 21,
     "metadata": {},
     "output_type": "execute_result"
    }
   ],
   "source": [
    "df_start.shape"
   ]
  },
  {
   "cell_type": "code",
   "execution_count": 22,
   "metadata": {},
   "outputs": [
    {
     "name": "stdout",
     "output_type": "stream",
     "text": [
      "(451670, 397)\n"
     ]
    }
   ],
   "source": [
    "#Nouvelle version ou il faut appartenir à l'intervalle de revenu que sur un seule des deux années\n",
    "df_start = df_start[((\n",
    "            (df_start.Rbg_2011>50000)\n",
    "            &(df_start.Rbg_2011<200000)\n",
    "        )|(\n",
    "            (df_start.Rbg_2014>50000)\n",
    "            & (df_start.Rbg_2014<200000)))];print(df_start.shape)"
   ]
  },
  {
   "cell_type": "code",
   "execution_count": 23,
   "metadata": {},
   "outputs": [
    {
     "name": "stdout",
     "output_type": "stream",
     "text": [
      "0.02   -49800.258\n",
      "0.98    67618.066\n",
      "dtype: float64\n",
      "(433602, 397)\n",
      "(429713, 397)\n"
     ]
    }
   ],
   "source": [
    "low = 0.02\n",
    "high = 0.98\n",
    "quant_df_start = df_start.Delta_Rbg.quantile([low,high])\n",
    "print(quant_df_start)\n",
    "df_start = df_start[df_start.Delta_Rbg>quant_df_start.loc[low]]\n",
    "df_start = df_start[df_start.Delta_Rbg<quant_df_start.loc[high]]\n",
    "print(df_start.shape)\n",
    "\n",
    "df_start = df_start[df_start.Rbg_2011>7000]\n",
    "df_start = df_start[df_start.Rbg_2014>7000]\n",
    "print(df_start.shape)"
   ]
  },
  {
   "cell_type": "code",
   "execution_count": null,
   "metadata": {
    "collapsed": true
   },
   "outputs": [],
   "source": []
  },
  {
   "cell_type": "code",
   "execution_count": null,
   "metadata": {
    "collapsed": true
   },
   "outputs": [],
   "source": []
  },
  {
   "cell_type": "code",
   "execution_count": 24,
   "metadata": {},
   "outputs": [
    {
     "data": {
      "text/plain": [
       "(414255, 397)"
      ]
     },
     "execution_count": 24,
     "metadata": {},
     "output_type": "execute_result"
    }
   ],
   "source": [
    "df_start = df_start[~(df_start.NBPERSM_2011 == 1 )] #Vire une seule personne dans le ménage\n",
    "df_start = df_start[~(df_start.NBPERSM_2011 - df_start.NBPAC_2011  == 1 )]  # Vire les parents célibataires\n",
    "df_start.shape"
   ]
  },
  {
   "cell_type": "code",
   "execution_count": 25,
   "metadata": {
    "collapsed": true
   },
   "outputs": [],
   "source": [
    "\n",
    "df_start[\"Treatment_0_2011\"] = False * df_start.shape[0]\n",
    "\n",
    "\n",
    "\n",
    "df_start[\"Treatment_1_2011\"] = False * df_start.shape[0]\n",
    "\n",
    "\n",
    "df_start[\"Treatment_2_2011\"] = False * df_start.shape[0]\n",
    "\n",
    "\n",
    "\n",
    "for child in range(1,7):\n",
    "\n",
    "    df_start[\"Treatment_1_2011\"] += (df_start.NBPAC_2011 == child) * df_start[\"Between_threshold_{}_child\".format(child)]\n",
    "    \n",
    "\n",
    "    df_start[\"Treatment_2_2011\"] += (df_start.NBPAC_2011 == child) * df_start[\"Over_threshold_{}_child\".format(child)]\n",
    "    \n",
    "\n",
    "\n",
    "\n",
    "df_start[\"Treatment_1_2011\"] = df_start[\"Treatment_1_2011\"].astype(\"bool\")\n",
    "df_start[\"Treatment_2_2011\"] = df_start[\"Treatment_2_2011\"].astype(\"bool\")\n",
    "df_start[\"Treatment_0_2011\"] = ~(df_start.Treatment_1_2011 |df_start.Treatment_2_2011)\n"
   ]
  },
  {
   "cell_type": "code",
   "execution_count": 26,
   "metadata": {},
   "outputs": [],
   "source": [
    "reg_df = df_start[(df_start.Age_wo<65)&(df_start.Age_me<65)] # Vire les papi mamies"
   ]
  },
  {
   "cell_type": "code",
   "execution_count": 27,
   "metadata": {},
   "outputs": [
    {
     "data": {
      "text/plain": [
       "(267967, 400)"
      ]
     },
     "execution_count": 27,
     "metadata": {},
     "output_type": "execute_result"
    }
   ],
   "source": [
    "reg_df.shape"
   ]
  },
  {
   "cell_type": "code",
   "execution_count": 28,
   "metadata": {},
   "outputs": [
    {
     "data": {
      "text/plain": [
       "(267860, 400)"
      ]
     },
     "execution_count": 28,
     "metadata": {},
     "output_type": "execute_result"
    }
   ],
   "source": [
    "reg_df = reg_df[reg_df.NBPAC_2011.isin(range(nb_enf_max_for_annalysis+1))] #Drop families with more than 6 children\n",
    "reg_df.shape"
   ]
  },
  {
   "cell_type": "code",
   "execution_count": 29,
   "metadata": {},
   "outputs": [
    {
     "name": "stdout",
     "output_type": "stream",
     "text": [
      "M    432455\n",
      "A    384949\n",
      "O     36386\n",
      "C     24600\n",
      "D      8695\n",
      "V      1052\n",
      "dtype: int64\n"
     ]
    },
    {
     "data": {
      "text/plain": [
       "(267860, 400)"
      ]
     },
     "execution_count": 29,
     "metadata": {},
     "output_type": "execute_result"
    }
   ],
   "source": [
    "# Drop non maried families\n",
    "fisici = load_fisc_i_by_year(2014)\n",
    "id_foy_diff = reg_df.ID_FISC_FOY_DIFF\n",
    "fisci_2 = fisici[fisici.ID_FISC_FOY_DIFF.isin(id_foy_diff)]\n",
    "print(fisci_2.CIDECI.value_counts())\n",
    "to_drop = fisci_2.CIDECI.isin([ 'C','D', 'V', 'O'])\n",
    "reg_df = reg_df[~reg_df.ID_FISC_FOY_DIFF.isin(to_drop)]\n",
    "reg_df.shape"
   ]
  },
  {
   "cell_type": "code",
   "execution_count": 30,
   "metadata": {},
   "outputs": [
    {
     "data": {
      "text/plain": [
       "(193599, 400)"
      ]
     },
     "execution_count": 30,
     "metadata": {},
     "output_type": "execute_result"
    }
   ],
   "source": [
    "reg_df_same_NBPAC = reg_df[(reg_df.NBPAC_2011 == reg_df.NBPAC_2014)]\n",
    "reg_df_same_NBPAC.shape"
   ]
  },
  {
   "cell_type": "code",
   "execution_count": 31,
   "metadata": {},
   "outputs": [
    {
     "data": {
      "text/plain": [
       "(193599, 402)"
      ]
     },
     "execution_count": 31,
     "metadata": {},
     "output_type": "execute_result"
    }
   ],
   "source": [
    "### Add children age\n",
    "reg_df_same_NBPAC = reg_df_same_NBPAC.merge(df_fisci_Youngest, on = \"ID_FISC_FOY_DIFF\", how = \"left\")\n",
    "reg_df_same_NBPAC = reg_df_same_NBPAC.merge(df_fisci_Elder, on = \"ID_FISC_FOY_DIFF\",  how = \"left\")\n",
    "reg_df_same_NBPAC.Age_Elder_child.fillna(0, inplace = True)\n",
    "reg_df_same_NBPAC.Age_Youngest_child.fillna(0, inplace = True)\n",
    "reg_df_same_NBPAC.shape"
   ]
  },
  {
   "cell_type": "code",
   "execution_count": 32,
   "metadata": {},
   "outputs": [
    {
     "data": {
      "text/plain": [
       "<matplotlib.axes._subplots.AxesSubplot at 0x1551c3fd0>"
      ]
     },
     "execution_count": 32,
     "metadata": {},
     "output_type": "execute_result"
    },
    {
     "data": {
      "image/png": "[encoded data removed]",
      "text/plain": [
       "<matplotlib.figure.Figure at 0x1f3b6ba8>"
      ]
     },
     "metadata": {},
     "output_type": "display_data"
    }
   ],
   "source": [
    "import seaborn as sns\n",
    "sns.distplot(reg_df_same_NBPAC.Rbg_2014, color = \"r\")\n",
    "sns.distplot(reg_df_same_NBPAC.Rbg_2011)"
   ]
  },
  {
   "cell_type": "code",
   "execution_count": 33,
   "metadata": {},
   "outputs": [],
   "source": [
    "df = reg_df_same_NBPAC"
   ]
  },
  {
   "cell_type": "code",
   "execution_count": 34,
   "metadata": {
    "collapsed": true
   },
   "outputs": [],
   "source": [
    "df[\"Wo_is_independant_worker_2011\"] = (df[\"YBICI_wo_2011\"]+df[\"YBNCI_wo_2011\"])>10**3\n",
    "df[\"Me_is_independant_worker_2011\"] = (df[\"YBICI_me_2011\"]+df[\"YBNCI_me_2011\"])>10**3"
   ]
  },
  {
   "cell_type": "code",
   "execution_count": 35,
   "metadata": {
    "collapsed": true
   },
   "outputs": [],
   "source": [
    "df[\"Wo_is_independant_worker_2014\"] = (df[\"YBICI_wo_2014\"]+df[\"YBNCI_wo_2014\"])>10**3\n",
    "df[\"Me_is_independant_worker_2014\"] = (df[\"YBICI_me_2014\"]+df[\"YBNCI_me_2014\"])>10**3"
   ]
  },
  {
   "cell_type": "code",
   "execution_count": 36,
   "metadata": {},
   "outputs": [
    {
     "name": "stdout",
     "output_type": "stream",
     "text": [
      "0    0.979959\n",
      "1    0.020041\n",
      "dtype: float64\n",
      "0    0.9903\n",
      "1    0.0097\n",
      "dtype: float64\n"
     ]
    }
   ],
   "source": [
    "df[\"Wo_start_working\"] = (\n",
    "    ((df[\"YSALI_wo_2011\"]+df[\"YBICI_wo_2011\"]+df[\"YBNCI_wo_2011\"])<2000)\n",
    "    &((df[\"YSALI_wo_2014\"]+df[\"YBICI_wo_2014\"]+df[\"YBNCI_wo_2014\"])>10000)\n",
    "    ).astype(\"int\")\n",
    "\n",
    "df[\"Me_start_working\"] = (\n",
    "    ((df[\"YSALI_me_2011\"]+df[\"YBICI_me_2011\"]+df[\"YBNCI_me_2011\"])<2000)\n",
    "    &((df[\"YSALI_me_2014\"]+df[\"YBICI_me_2014\"]+df[\"YBNCI_me_2014\"])>10000)\n",
    "    ).astype(\"int\")\n",
    "\n",
    "print df[\"Wo_start_working\"].value_counts(normalize = True)\n",
    "print df[\"Me_start_working\"].value_counts(normalize = True)"
   ]
  },
  {
   "cell_type": "code",
   "execution_count": 37,
   "metadata": {},
   "outputs": [
    {
     "name": "stdout",
     "output_type": "stream",
     "text": [
      "0    0.935485\n",
      "1    0.064515\n",
      "dtype: float64\n",
      "0    0.935496\n",
      "1    0.064504\n",
      "dtype: float64\n"
     ]
    }
   ],
   "source": [
    "df[\"Wo_stop_working_not_retired\"] = (\n",
    "    ((df[\"YSALI_wo_2011\"]+df[\"YBICI_wo_2011\"]+df[\"YBNCI_wo_2011\"])>10000)\n",
    "    &((df[\"YSALI_wo_2014\"]+df[\"YBICI_wo_2014\"]+df[\"YBNCI_wo_2014\"])<2000)\n",
    "    &(reg_df_same_NBPAC[\"YRSTI_wo_2014\"]<6000)\n",
    "    ).astype(\"int\")\n",
    "\n",
    "df[\"Me_stop_working_not_retired\"] = (\n",
    "    ((df[\"YSALI_me_2011\"]+df[\"YBICI_me_2011\"]+df[\"YBNCI_me_2011\"])>10000)\n",
    "    &((df[\"YSALI_me_2014\"]+df[\"YBICI_me_2014\"]+df[\"YBNCI_me_2014\"])<2000)\n",
    "    &(reg_df_same_NBPAC[\"YRSTI_me_2014\"]<6000)\n",
    "    ).astype(\"int\")\n",
    "print df[\"Wo_stop_working_not_retired\"].value_counts(normalize = True)\n",
    "print df[\"Me_stop_working_not_retired\"].value_counts(normalize = True)"
   ]
  },
  {
   "cell_type": "code",
   "execution_count": 38,
   "metadata": {},
   "outputs": [
    {
     "name": "stdout",
     "output_type": "stream",
     "text": [
      "0    0.970299\n",
      "1    0.029701\n",
      "dtype: float64\n",
      "0    0.955201\n",
      "1    0.044799\n",
      "dtype: float64\n"
     ]
    }
   ],
   "source": [
    "df[\"Wo_get_retired\"] = ((df[\"YRSTI_wo_2011\"]<2000) & (df[\"YRSTI_wo_2014\"]>6000)).astype(\"int\")\n",
    "\n",
    "df[\"Me_get_retired\"] = (((df[\"YRSTI_me_2011\"]<2000) & (df[\"YRSTI_me_2014\"]>6000))                               \n",
    "                                           ).astype(\"int\")\n",
    "print df[\"Wo_get_retired\"].value_counts(normalize = True)\n",
    "print df[\"Me_get_retired\"].value_counts(normalize = True)\n"
   ]
  },
  {
   "cell_type": "code",
   "execution_count": 39,
   "metadata": {},
   "outputs": [],
   "source": [
    "\n",
    "\n",
    "df[\"Not_touched_by_reform\"] = (df.NBPAC_2011 == 0).astype(\"int\")\n",
    "for nb_enf in range(1,7): ### in modification\n",
    "    df[\"Not_touched_by_reform\".format(nb_enf)\n",
    "          ] +=((df.Rbg_2011<  threshold_byr_rbg[\"2014\"].iloc[nb_enf-1])\n",
    "                *( df.NBPAC_2011 == nb_enf)).astype(\"float\")"
   ]
  },
  {
   "cell_type": "code",
   "execution_count": 40,
   "metadata": {},
   "outputs": [],
   "source": [
    "df[\"Delta_Rbg_times_not_touched_reform\"] = df.Not_touched_by_reform * df.Delta_Rbg"
   ]
  },
  {
   "cell_type": "code",
   "execution_count": 41,
   "metadata": {
    "collapsed": true
   },
   "outputs": [],
   "source": [
    "df[\"Delta_rbg_positif\"] = (df.Delta_Rbg>0).astype(\"int\")\n",
    "df[\"Delta_rbg_negatif\"] = (df.Delta_Rbg<0).astype(\"int\")"
   ]
  },
  {
   "cell_type": "code",
   "execution_count": null,
   "metadata": {
    "collapsed": true
   },
   "outputs": [],
   "source": []
  },
  {
   "cell_type": "code",
   "execution_count": 42,
   "metadata": {},
   "outputs": [
    {
     "data": {
      "text/html": [
       "<table class=\"simpletable\">\n",
       "<caption>OLS Regression Results</caption>\n",
       "<tr>\n",
       "  <th>Dep. Variable:</th>        <td>Delta_Rbg</td>    <th>  R-squared:         </th>  <td>   0.002</td>  \n",
       "</tr>\n",
       "<tr>\n",
       "  <th>Model:</th>                   <td>OLS</td>       <th>  Adj. R-squared:    </th>  <td>   0.002</td>  \n",
       "</tr>\n",
       "<tr>\n",
       "  <th>Method:</th>             <td>Least Squares</td>  <th>  F-statistic:       </th>  <td>   155.6</td>  \n",
       "</tr>\n",
       "<tr>\n",
       "  <th>Date:</th>             <td>Sun, 10 Mar 2019</td> <th>  Prob (F-statistic):</th>  <td>3.06e-68</td>  \n",
       "</tr>\n",
       "<tr>\n",
       "  <th>Time:</th>                 <td>11:37:13</td>     <th>  Log-Likelihood:    </th> <td>-2.1378e+06</td>\n",
       "</tr>\n",
       "<tr>\n",
       "  <th>No. Observations:</th>      <td>193599</td>      <th>  AIC:               </th>  <td>4.276e+06</td> \n",
       "</tr>\n",
       "<tr>\n",
       "  <th>Df Residuals:</th>          <td>193596</td>      <th>  BIC:               </th>  <td>4.276e+06</td> \n",
       "</tr>\n",
       "<tr>\n",
       "  <th>Df Model:</th>              <td>     2</td>      <th>                     </th>      <td> </td>     \n",
       "</tr>\n",
       "<tr>\n",
       "  <th>Covariance Type:</th>         <td>HC1</td>       <th>                     </th>      <td> </td>     \n",
       "</tr>\n",
       "</table>\n",
       "<table class=\"simpletable\">\n",
       "<tr>\n",
       "           <td></td>             <th>coef</th>     <th>std err</th>      <th>z</th>      <th>P>|z|</th> <th>[95.0% Conf. Int.]</th> \n",
       "</tr>\n",
       "<tr>\n",
       "  <th>Intercept</th>          <td> 6647.1298</td> <td>   37.801</td> <td>  175.844</td> <td> 0.000</td> <td> 6573.041  6721.219</td>\n",
       "</tr>\n",
       "<tr>\n",
       "  <th>Over_threshold</th>     <td>-1472.6521</td> <td>  105.841</td> <td>  -13.914</td> <td> 0.000</td> <td>-1680.097 -1265.207</td>\n",
       "</tr>\n",
       "<tr>\n",
       "  <th>Between_thresholds</th> <td>-1342.0392</td> <td>  107.299</td> <td>  -12.507</td> <td> 0.000</td> <td>-1552.342 -1131.737</td>\n",
       "</tr>\n",
       "</table>\n",
       "<table class=\"simpletable\">\n",
       "<tr>\n",
       "  <th>Omnibus:</th>       <td>10972.777</td> <th>  Durbin-Watson:     </th> <td>   2.009</td> \n",
       "</tr>\n",
       "<tr>\n",
       "  <th>Prob(Omnibus):</th>  <td> 0.000</td>   <th>  Jarque-Bera (JB):  </th> <td>45105.919</td>\n",
       "</tr>\n",
       "<tr>\n",
       "  <th>Skew:</th>           <td> 0.093</td>   <th>  Prob(JB):          </th> <td>    0.00</td> \n",
       "</tr>\n",
       "<tr>\n",
       "  <th>Kurtosis:</th>       <td> 5.357</td>   <th>  Cond. No.          </th> <td>    3.52</td> \n",
       "</tr>\n",
       "</table>"
      ],
      "text/plain": [
       "<class 'statsmodels.iolib.summary.Summary'>\n",
       "\"\"\"\n",
       "                            OLS Regression Results                            \n",
       "==============================================================================\n",
       "Dep. Variable:              Delta_Rbg   R-squared:                       0.002\n",
       "Model:                            OLS   Adj. R-squared:                  0.002\n",
       "Method:                 Least Squares   F-statistic:                     155.6\n",
       "Date:                Sun, 10 Mar 2019   Prob (F-statistic):           3.06e-68\n",
       "Time:                        11:37:13   Log-Likelihood:            -2.1378e+06\n",
       "No. Observations:              193599   AIC:                         4.276e+06\n",
       "Df Residuals:                  193596   BIC:                         4.276e+06\n",
       "Df Model:                           2                                         \n",
       "Covariance Type:                  HC1                                         \n",
       "======================================================================================\n",
       "                         coef    std err          z      P>|z|      [95.0% Conf. Int.]\n",
       "--------------------------------------------------------------------------------------\n",
       "Intercept           6647.1298     37.801    175.844      0.000      6573.041  6721.219\n",
       "Over_threshold     -1472.6521    105.841    -13.914      0.000     -1680.097 -1265.207\n",
       "Between_thresholds -1342.0392    107.299    -12.507      0.000     -1552.342 -1131.737\n",
       "==============================================================================\n",
       "Omnibus:                    10972.777   Durbin-Watson:                   2.009\n",
       "Prob(Omnibus):                  0.000   Jarque-Bera (JB):            45105.919\n",
       "Skew:                           0.093   Prob(JB):                         0.00\n",
       "Kurtosis:                       5.357   Cond. No.                         3.52\n",
       "==============================================================================\n",
       "\n",
       "Warnings:\n",
       "[1] Standard Errors are heteroscedasticity robust (HC1)\n",
       "\"\"\""
      ]
     },
     "execution_count": 42,
     "metadata": {},
     "output_type": "execute_result"
    }
   ],
   "source": [
    "m = sm.OLS.from_formula(\"(Delta_Rbg)~   Over_threshold+ Between_thresholds\" , reg_df_same_NBPAC)\n",
    "fit1 = m.fit(cov_type = \"HC1\")\n",
    "fit1.summary()"
   ]
  },
  {
   "cell_type": "code",
   "execution_count": 43,
   "metadata": {},
   "outputs": [],
   "source": [
    "###Shows that it is the same result than in the analysis\n",
    "\n",
    "m = sm.OLS.from_formula(\"(Delta_Rbg)~  Over_threshold+ Between_thresholds+  {}  \".format(\n",
    "        ' + '.join(#below_threshold_for_child_rank+interaction_child_below_thresholds\n",
    "                  flatten_thresholds_list)), reg_df_same_NBPAC)\n",
    "fit2 = m.fit(cov_type=\"HC1\")\n",
    "\n",
    "\n",
    "###Shows that it is the same result than in the analysis\n",
    "\n",
    "m = sm.OLS.from_formula(\"(Delta_Rbg)~  Over_threshold+ Between_thresholds+  {}  \".format(\n",
    "        ' + '.join(children_number)), reg_df_same_NBPAC)\n",
    "fit3 = m.fit(cov_type=\"HC1\")\n",
    "\n",
    "\n",
    "\n",
    "m = sm.OLS.from_formula(\"(Delta_Rbg)~  Over_threshold+ Between_thresholds+  {}  \".format(\n",
    "        ' + '.join(children_number+flatten_thresholds_list)), reg_df_same_NBPAC)\n",
    "fit_pooled = m.fit(cov_type=\"HC1\")\n"
   ]
  },
  {
   "cell_type": "code",
   "execution_count": 44,
   "metadata": {},
   "outputs": [
    {
     "name": "stderr",
     "output_type": "stream",
     "text": [
      "C:\\Users\\IMPTEMP_A_PACIFIC\\Desktop\\WinPython-64bit-2.7.10.2\\WinPython-64bit-2.7.10.2\\python-2.7.10.amd64\\lib\\site-packages\\statsmodels\\iolib\\summary2.py:372: SettingWithCopyWarning: \n",
      "A value is trying to be set on a copy of a slice from a DataFrame\n",
      "\n",
      "See the the caveats in the documentation: http://pandas.pydata.org/pandas-docs/stable/indexing.html#indexing-view-versus-copy\n",
      "  res.ix[:, 0][idx] = res.ix[:, 0][idx] + '*'\n",
      "C:\\Users\\IMPTEMP_A_PACIFIC\\Desktop\\WinPython-64bit-2.7.10.2\\WinPython-64bit-2.7.10.2\\python-2.7.10.amd64\\lib\\site-packages\\statsmodels\\iolib\\summary2.py:374: SettingWithCopyWarning: \n",
      "A value is trying to be set on a copy of a slice from a DataFrame\n",
      "\n",
      "See the the caveats in the documentation: http://pandas.pydata.org/pandas-docs/stable/indexing.html#indexing-view-versus-copy\n",
      "  res.ix[:, 0][idx] = res.ix[:, 0][idx] + '*'\n"
     ]
    },
    {
     "name": "stdout",
     "output_type": "stream",
     "text": [
      "\n",
      "=================================================================================================\n",
      "                                          Delta_Rbg I   Delta_Rbg II Delta_Rbg III Delta_Rbg IIII\n",
      "-------------------------------------------------------------------------------------------------\n",
      "Between_thresholds                       -1342.0392*** 3990.1561***  -3033.0808*** 2490.3431***  \n",
      "                                         (107.2992)    (139.8219)    (107.7982)    (147.5264)    \n",
      "Flatten_thresholds_104633_115185[T.True]               -7530.0087***               -7187.5921*** \n",
      "                                                       (347.3535)                  (355.8345)    \n",
      "Flatten_thresholds_115185_135941[T.True]               -7380.7883***               -7170.6603*** \n",
      "                                                       (338.4207)                  (348.6357)    \n",
      "Flatten_thresholds_135941_150684[T.True]               -6290.9227***               -6110.7501*** \n",
      "                                                       (524.3082)                  (529.0349)    \n",
      "Flatten_thresholds_58291_63233[T.True]                 -5973.9657***               -5707.6634*** \n",
      "                                                       (100.1676)                  (99.3964)     \n",
      "Flatten_thresholds_63233_63530[T.True]                 -6020.0496***               -5977.6919*** \n",
      "                                                       (390.4156)                  (382.0376)    \n",
      "Flatten_thresholds_63530_73516[T.True]                 -7439.4109***               -6738.3433*** \n",
      "                                                       (125.2942)                  (129.6806)    \n",
      "Flatten_thresholds_73516_73806[T.True]                 -7815.5854***               -7480.7705*** \n",
      "                                                       (637.6465)                  (632.4733)    \n",
      "Flatten_thresholds_73806_84103[T.True]                 -7717.3345***               -7129.0879*** \n",
      "                                                       (178.4309)                  (189.9777)    \n",
      "Flatten_thresholds_84103_94368[T.True]                 -8120.3563***               -7574.1160*** \n",
      "                                                       (221.0814)                  (231.0784)    \n",
      "Flatten_thresholds_94368_94451[T.True]                 -8230.2355***               -7723.9819*** \n",
      "                                                       (1848.4189)                 (1856.5672)   \n",
      "Flatten_thresholds_94451_104633[T.True]                -7300.5833***               -6942.7490*** \n",
      "                                                       (282.0565)                  (292.2492)    \n",
      "Flatten_thresholds_more_then_150684                    -8273.9031***               -8167.0330*** \n",
      "                                                       (473.1387)                  (481.0882)    \n",
      "Intercept                                6647.1298***  8625.5907***  3113.0498***  6335.4518***  \n",
      "                                         (37.8014)     (40.1418)     (79.2688)     (83.1425)     \n",
      "Over_threshold                           -1472.6521*** 4148.4179***  -2883.8147*** 3313.4912***  \n",
      "                                         (105.8414)    (169.1727)    (108.9837)    (192.6417)    \n",
      "child_1                                                              4135.1200***  1244.0331***  \n",
      "                                                                     (117.6691)    (124.7061)    \n",
      "child_2                                                              5073.4130***  2898.0938***  \n",
      "                                                                     (94.3011)     (94.0242)     \n",
      "child_3                                                              6021.7335***  4715.9704***  \n",
      "                                                                     (116.1486)    (112.4889)    \n",
      "child_4                                                              6948.9274***  6189.6838***  \n",
      "                                                                     (253.1571)    (249.7985)    \n",
      "child_5                                                              6658.0598***  6432.2110***  \n",
      "                                                                     (674.7937)    (672.3276)    \n",
      "child_6                                                              7216.1460***  7626.9753***  \n",
      "                                                                     (1364.3788)   (1362.7118)   \n",
      "=================================================================================================\n",
      "Standard errors in parentheses.\n",
      "* p<.1, ** p<.05, ***p<.01\n"
     ]
    },
    {
     "name": "stderr",
     "output_type": "stream",
     "text": [
      "C:\\Users\\IMPTEMP_A_PACIFIC\\Desktop\\WinPython-64bit-2.7.10.2\\WinPython-64bit-2.7.10.2\\python-2.7.10.amd64\\lib\\site-packages\\statsmodels\\iolib\\summary2.py:376: SettingWithCopyWarning: \n",
      "A value is trying to be set on a copy of a slice from a DataFrame\n",
      "\n",
      "See the the caveats in the documentation: http://pandas.pydata.org/pandas-docs/stable/indexing.html#indexing-view-versus-copy\n",
      "  res.ix[:, 0][idx] = res.ix[:, 0][idx] + '*'\n"
     ]
    }
   ],
   "source": [
    "print(summary_col([fit1, fit2,fit3, fit_pooled],model_names =None, stars = True))"
   ]
  },
  {
   "cell_type": "code",
   "execution_count": null,
   "metadata": {},
   "outputs": [],
   "source": []
  },
  {
   "cell_type": "code",
   "execution_count": null,
   "metadata": {
    "collapsed": true
   },
   "outputs": [],
   "source": []
  },
  {
   "cell_type": "code",
   "execution_count": null,
   "metadata": {
    "collapsed": true
   },
   "outputs": [],
   "source": []
  },
  {
   "cell_type": "code",
   "execution_count": null,
   "metadata": {
    "collapsed": true
   },
   "outputs": [],
   "source": []
  },
  {
   "cell_type": "code",
   "execution_count": null,
   "metadata": {
    "collapsed": true
   },
   "outputs": [],
   "source": []
  },
  {
   "cell_type": "code",
   "execution_count": null,
   "metadata": {
    "collapsed": true
   },
   "outputs": [],
   "source": []
  },
  {
   "cell_type": "code",
   "execution_count": null,
   "metadata": {
    "collapsed": true
   },
   "outputs": [],
   "source": []
  },
  {
   "cell_type": "code",
   "execution_count": null,
   "metadata": {
    "collapsed": true
   },
   "outputs": [],
   "source": []
  },
  {
   "cell_type": "markdown",
   "metadata": {},
   "source": [
    "### Double diff as found in the rest of the litterature"
   ]
  },
  {
   "cell_type": "code",
   "execution_count": 45,
   "metadata": {},
   "outputs": [
    {
     "name": "stdout",
     "output_type": "stream",
     "text": [
      "\n",
      "====================================================================================================\n",
      "                     1 children    2 children   3 children    4 children    5 children   6 children \n",
      "----------------------------------------------------------------------------------------------------\n",
      "Intercept          7480.6623***  7362.0056***  8131.3770*** 9254.0958***  9761.2631***  9840.8208***\n",
      "                   (84.1558)     (44.5233)     (78.4575)    (236.1401)    (652.5077)    (1346.4035) \n",
      "Over_threshold     -3596.7520*** -1304.2515*** -300.1074*   -667.7437     3475.7584     -8173.4263  \n",
      "                   (129.9454)    (83.0799)     (180.8531)   (601.3652)    (2507.0147)   (7711.0255) \n",
      "Between_thresholds -4016.5483*** -2238.9096*** -956.7666*** -1802.8033*** -7497.9687*** -9627.4359**\n",
      "                   (203.4861)    (104.0589)    (185.9915)   (559.4923)    (1613.5613)   (4222.0717) \n",
      "====================================================================================================\n",
      "Standard errors in parentheses.\n",
      "* p<.1, ** p<.05, ***p<.01\n"
     ]
    }
   ],
   "source": [
    "\n",
    "df = df\n",
    "result_fit_list = list()\n",
    "for child in range(1,nb_enf_max_for_annalysis+1):\n",
    "    m = sm.RLM.from_formula(\"(Delta_Rbg)~   Over_threshold+ Between_thresholds\" \n",
    "                     \n",
    "                                                                                            , df.query(\"NBPAC_2011 == {}\".format(child)))\n",
    "    fit = m.fit()\n",
    "    result_fit_list.append(fit)\n",
    "summary_col_result = summary_col(result_fit_list, stars = True)\n",
    "print(summary_col(result_fit_list,model_names =[\"{} children\".format(nb_child) for nb_child in range(1,7)], stars = True))"
   ]
  },
  {
   "cell_type": "code",
   "execution_count": null,
   "metadata": {
    "collapsed": true
   },
   "outputs": [],
   "source": []
  },
  {
   "cell_type": "code",
   "execution_count": null,
   "metadata": {
    "collapsed": true
   },
   "outputs": [],
   "source": []
  },
  {
   "cell_type": "code",
   "execution_count": null,
   "metadata": {
    "collapsed": true
   },
   "outputs": [],
   "source": []
  },
  {
   "cell_type": "code",
   "execution_count": null,
   "metadata": {
    "collapsed": true
   },
   "outputs": [],
   "source": []
  },
  {
   "cell_type": "code",
   "execution_count": 46,
   "metadata": {},
   "outputs": [
    {
     "name": "stdout",
     "output_type": "stream",
     "text": [
      "\n",
      "==========================================================================================\n",
      "                                   Delta_Rbg I   Delta_Rbg II Delta_Rbg III Delta_Rbg IIII\n",
      "------------------------------------------------------------------------------------------\n",
      "Between_threshold_1_child[T.True]               -5973.9657***               -5707.6634*** \n",
      "                                                (100.1676)                  (99.3964)     \n",
      "Between_threshold_2_child[T.True]               -1419.3613***               -760.6514*    \n",
      "                                                (402.8030)                  (394.2513)    \n",
      "Between_threshold_3_child[T.True]               98.2509                     351.6826      \n",
      "                                                (640.3878)                  (632.3646)    \n",
      "Between_threshold_4_child[T.True]               -403.0218*                  -445.0281**   \n",
      "                                                (222.8614)                  (221.4897)    \n",
      "Between_threshold_5_child[T.True]               -109.8792                   -149.8659     \n",
      "                                                (1852.9887)                 (1859.7380)   \n",
      "Between_threshold_6_child[T.True]               -229.4255                   -244.8431     \n",
      "                                                (397.8981)                  (395.8890)    \n",
      "Between_thresholds                -1342.0392*** 3990.1561***  -3033.0808*** 2490.3431***  \n",
      "                                  (107.2992)    (139.8219)    (107.7982)    (147.5264)    \n",
      "Intercept                         6647.1298***  8625.5907***  3113.0498***  6335.4518***  \n",
      "                                  (37.8014)     (40.1418)     (79.2688)     (83.1425)     \n",
      "Over_threshold                    -1472.6521*** 4148.4179***  -2883.8147*** 3313.4912***  \n",
      "                                  (105.8414)    (169.1727)    (108.9837)    (192.6417)    \n",
      "Over_threshold_1_child[T.True]                  -6020.0496***               -5977.6919*** \n",
      "                                                (390.4156)                  (382.0376)    \n",
      "Over_threshold_2_child[T.True]                  -1795.5358**                -1503.0787**  \n",
      "                                                (741.9653)                  (731.6205)    \n",
      "Over_threshold_3_child[T.True]                  1027.9031                   1132.9155     \n",
      "                                                (1967.0037)                 (1970.8287)   \n",
      "Over_threshold_4_child[T.True]                  -253.8014                   -428.0963     \n",
      "                                                (491.7144)                  (489.5486)    \n",
      "Over_threshold_5_child[T.True]                  979.9863                    910.0443      \n",
      "                                                (1943.7427)                 (1949.5005)   \n",
      "Over_threshold_6_child[T.True]                  -2212.4058***               -2301.1259*** \n",
      "                                                (783.2591)                  (780.7249)    \n",
      "child_1                                                       4135.1200***  1244.0331***  \n",
      "                                                              (117.6691)    (124.7061)    \n",
      "child_2                                                       5073.4130***  2898.0938***  \n",
      "                                                              (94.3011)     (94.0242)     \n",
      "child_3                                                       6021.7335***  4715.9704***  \n",
      "                                                              (116.1486)    (112.4889)    \n",
      "child_4                                                       6948.9274***  6189.6838***  \n",
      "                                                              (253.1571)    (249.7985)    \n",
      "child_5                                                       6658.0598***  6432.2110***  \n",
      "                                                              (674.7937)    (672.3276)    \n",
      "child_6                                                       7216.1460***  7626.9753***  \n",
      "                                                              (1364.3788)   (1362.7118)   \n",
      "==========================================================================================\n",
      "Standard errors in parentheses.\n",
      "* p<.1, ** p<.05, ***p<.01\n"
     ]
    }
   ],
   "source": [
    "###Shows that it is the same result than in the analysis\n",
    "\n",
    "\n",
    "\n",
    "for nb_enf in range(1,7): ### in modification\n",
    "    df[\"Between_threshold_{}_child\".format(nb_enf)\n",
    "          ] = ((df.Rbg_2011>  threshold_byr_rbg[\"2014\"].iloc[nb_enf-1])\n",
    "               & (df.Rbg_2011< threshold_byr_rbg[\"2011\"].iloc[nb_enf-1]))\n",
    "for nb_enf in range(1,7): ### in modification\n",
    "    df[\"Over_threshold_{}_child\".format(nb_enf)\n",
    "          ] =  (df.Rbg_2011 > threshold_byr_rbg[\"2011\"].iloc[nb_enf-1])\n",
    "\n",
    "m = sm.OLS.from_formula(\"(Delta_Rbg)~  Over_threshold+ Between_thresholds+  {}  \".format(\n",
    "        ' + '.join(#below_threshold_for_child_rank+interaction_child_below_thresholds\n",
    "                  between_threshold_for_child_rank+over_threshold_for_child_rank)), reg_df_same_NBPAC)\n",
    "fit2 = m.fit(cov_type=\"HC1\")\n",
    "\n",
    "\n",
    "###Shows that it is the same result than in the analysis\n",
    "\n",
    "m = sm.OLS.from_formula(\"(Delta_Rbg)~  Over_threshold+ Between_thresholds+  {}  \".format(\n",
    "        ' + '.join(children_number)), reg_df_same_NBPAC)\n",
    "fit3 = m.fit(cov_type=\"HC1\")\n",
    "\n",
    "\n",
    "\n",
    "m = sm.OLS.from_formula(\"(Delta_Rbg)~  Over_threshold+ Between_thresholds+  {}  \".format(\n",
    "        ' + '.join(children_number+between_threshold_for_child_rank+over_threshold_for_child_rank)), reg_df_same_NBPAC)\n",
    "fit_pooled = m.fit(cov_type=\"HC1\")\n",
    "print(summary_col([fit1, fit2,fit3, fit_pooled],model_names =None, stars = True))"
   ]
  },
  {
   "cell_type": "code",
   "execution_count": 47,
   "metadata": {},
   "outputs": [
    {
     "name": "stdout",
     "output_type": "stream",
     "text": [
      "2019-03-10 11:37:39.905000\n"
     ]
    }
   ],
   "source": [
    "print datetime.datetime.now()"
   ]
  }
 ],
 "metadata": {
  "kernelspec": {
   "display_name": "Python 3",
   "language": "python",
   "name": "python3"
  },
  "language_info": {
   "codemirror_mode": {
    "name": "ipython",
    "version": 3
   },
   "file_extension": ".py",
   "mimetype": "text/x-python",
   "name": "python",
   "nbconvert_exporter": "python",
   "pygments_lexer": "ipython3",
   "version": "3.7.2"
  },
  "toc": {
   "base_numbering": 1,
   "nav_menu": {},
   "number_sections": false,
   "sideBar": false,
   "skip_h1_title": false,
   "title_cell": "Table of Contents",
   "title_sidebar": "Contents",
   "toc_cell": false,
   "toc_position": {},
   "toc_section_display": false,
   "toc_window_display": false
  },
  "varInspector": {
   "cols": {
    "lenName": 16,
    "lenType": 16,
    "lenVar": 40
   },
   "kernels_config": {
    "python": {
     "delete_cmd_postfix": "",
     "delete_cmd_prefix": "del ",
     "library": "var_list.py",
     "varRefreshCmd": "print(var_dic_list())"
    },
    "r": {
     "delete_cmd_postfix": ") ",
     "delete_cmd_prefix": "rm(",
     "library": "var_list.r",
     "varRefreshCmd": "cat(var_dic_list()) "
    }
   },
   "types_to_exclude": [
    "module",
    "function",
    "builtin_function_or_method",
    "instance",
    "_Feature"
   ],
   "window_display": false
  }
 },
 "nbformat": 4,
 "nbformat_minor": 2
}
